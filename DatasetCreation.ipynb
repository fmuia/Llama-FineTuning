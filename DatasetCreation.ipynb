{
 "cells": [
  {
   "cell_type": "code",
   "execution_count": 1,
   "id": "12c59658-2082-4bad-a588-0b03d8535cee",
   "metadata": {},
   "outputs": [],
   "source": [
    "from aux.aux_functions import *"
   ]
  },
  {
   "cell_type": "code",
   "execution_count": 2,
   "id": "f7ae6f91-50ec-41d4-850a-d2fbc1f5329a",
   "metadata": {},
   "outputs": [],
   "source": [
    "import openai\n",
    "from openai import OpenAI"
   ]
  },
  {
   "cell_type": "code",
   "execution_count": 3,
   "id": "57d20c45-382c-4fbe-9cc8-0135faab0828",
   "metadata": {},
   "outputs": [],
   "source": [
    "import pandas as pd\n",
    "pd.set_option('display.max_colwidth', None)\n",
    "\n",
    "from IPython.display import display"
   ]
  },
  {
   "cell_type": "code",
   "execution_count": 4,
   "id": "55e6ab95-38f2-4b52-9969-4692392acb2a",
   "metadata": {},
   "outputs": [],
   "source": [
    "from dotenv import load_dotenv\n",
    "import os\n",
    "\n",
    "load_dotenv(\"/Users/fmuia/Dropbox/NLP/Llama-FineTuning/config.env\")\n",
    "open_ai_key = os.getenv(\"OPENAI_API_KEY\")"
   ]
  },
  {
   "cell_type": "code",
   "execution_count": 5,
   "id": "a3f6caec-9dc5-427d-ba82-81f8631de121",
   "metadata": {},
   "outputs": [],
   "source": [
    "# Specify the path to your LaTeX file\n",
    "latex_file_path = 'Files/2310.20559/main.tex'\n",
    "\n",
    "# Extract the LaTeX content\n",
    "latex_content = extract_latex_content(latex_file_path)\n",
    "\n",
    "# For demonstration, let's print the first 500 characters to check if it worked\n",
    "#print(latex_content[:15000])"
   ]
  },
  {
   "cell_type": "code",
   "execution_count": 10,
   "id": "b5767164-314d-43c1-abde-a72a5a1e72b2",
   "metadata": {},
   "outputs": [],
   "source": [
    "simplified_text = replace_latex_commands(latex_content)\n",
    "#simplified_text"
   ]
  },
  {
   "cell_type": "code",
   "execution_count": 11,
   "id": "5dcd13f1-e456-46f9-982f-6d983e6f7424",
   "metadata": {},
   "outputs": [],
   "source": [
    "polished_text = clean_latex_content(simplified_text)\n",
    "#polished_text"
   ]
  },
  {
   "cell_type": "code",
   "execution_count": 12,
   "id": "46643129-00c6-4d0a-a094-9cdaa50f8fd0",
   "metadata": {},
   "outputs": [
    {
     "name": "stdout",
     "output_type": "stream",
     "text": [
      "The number of chunks is: 143.\n"
     ]
    }
   ],
   "source": [
    "no_char_in_chunk = 2000\n",
    "\n",
    "chunks = chunk_text(polished_text, no_char_in_chunk)\n",
    "chunks = [chunk.replace(\"%\", \"\") for chunk in chunks]\n",
    "print(\"The number of chunks is: \" + str(len(chunks)) + \".\")\n",
    "#chunks[:2]"
   ]
  },
  {
   "cell_type": "code",
   "execution_count": 14,
   "id": "f7ad7f96-f714-4855-9dc2-7d43b677a33e",
   "metadata": {},
   "outputs": [],
   "source": [
    "# Define the number of Q&A pairs you want to generate for each chunk\n",
    "num_questions = 3"
   ]
  },
  {
   "cell_type": "code",
   "execution_count": 15,
   "id": "f00a0b77-3438-42f6-abda-6ca258fc1be6",
   "metadata": {},
   "outputs": [
    {
     "data": {
      "text/plain": [
       "\"You are an expert in theoretical physics. I will provide a text, and I'd like you to generate {num_questions} questions a researcher-level colleague might ask about the topic of the text. Then, provide detailed answers to these questions as an expeert in the field. Format your responses as follows: 'Question 1: [question here] Answer 1: [answer here]' and so on for all {num_questions} questions.\""
      ]
     },
     "metadata": {},
     "output_type": "display_data"
    },
    {
     "data": {
      "text/plain": [
       "'Based on the following text, please generate the questions and answers as instructed. Text: {chunk}'"
      ]
     },
     "metadata": {},
     "output_type": "display_data"
    }
   ],
   "source": [
    "system_prompt_template = \"You are an expert in theoretical physics. I will provide a text, and I'd like you to generate {num_questions} questions a researcher-level colleague might ask about the topic of the text. Then, provide detailed answers to these questions as an expeert in the field. Format your responses as follows: 'Question 1: [question here] Answer 1: [answer here]' and so on for all {num_questions} questions.\"\n",
    "\n",
    "user_prompt_template = \"Based on the following text, please generate the questions and answers as instructed. Text: {chunk}\"\n",
    "\n",
    "display(system_prompt_template)\n",
    "display(user_prompt_template)\n"
   ]
  },
  {
   "cell_type": "code",
   "execution_count": null,
   "id": "321724c6-e549-4f54-a143-1fed40c5bb4e",
   "metadata": {},
   "outputs": [],
   "source": [
    "client = OpenAI()\n",
    "\n",
    "# Initialize a list to store chunk and response pairs\n",
    "chunk_responses = []\n",
    "\n",
    "# Assume chunks_test is a list of text chunks you want to generate Q&A for\n",
    "for chunk in chunks:\n",
    "    system_prompt, user_prompt = generate_prompt(chunk, num_questions, system_prompt_template, user_prompt_template)\n",
    "    \n",
    "    # Call the OpenAI API once per chunk\n",
    "    response = client.chat.completions.create(\n",
    "        model=\"gpt-3.5-turbo-0125\",\n",
    "        messages=[system_prompt, user_prompt]\n",
    "    )\n",
    "    \n",
    "    # Append both the chunk and its response to the chunk_responses list\n",
    "    chunk_responses.append({\n",
    "        \"chunk\": chunk,\n",
    "        \"response\": response.choices[-1].message.content if response.choices else \"No response\"\n",
    "    })\n"
   ]
  },
  {
   "cell_type": "code",
   "execution_count": 41,
   "id": "75f9005a-3950-464b-9365-391df1f86cb1",
   "metadata": {},
   "outputs": [],
   "source": [
    "# Initialize lists to hold the DataFrame data\n",
    "chunk_list = []\n",
    "question_list = []\n",
    "answer_list = []\n",
    "sub_index = []\n",
    "\n",
    "# Process each chunk-response pair\n",
    "for item in chunk_responses:\n",
    "    chunk = item['chunk']\n",
    "    response = item['response']\n",
    "    \n",
    "    # Split the response into Q&As\n",
    "    qas = response.split('\\n\\n')  # Assuming two newlines separate each Q&A pair\n",
    "    for i, qa in enumerate(qas):\n",
    "        # Attempt to split the QA into question and answer\n",
    "        parts = qa.split('\\nAnswer ')\n",
    "        if len(parts) == 2:\n",
    "            question = parts[0].replace('Question {}: '.format(i+1), '').strip()\n",
    "            answer = parts[1].strip()\n",
    "            chunk_list.append(chunk)\n",
    "            question_list.append(question)\n",
    "            answer_list.append(answer)\n",
    "            sub_index.append(i+1)"
   ]
  },
  {
   "cell_type": "code",
   "execution_count": 43,
   "id": "322d83ad-2084-42ee-b4dd-52c7bc53fb38",
   "metadata": {},
   "outputs": [
    {
     "data": {
      "text/html": [
       "<div>\n",
       "<style scoped>\n",
       "    .dataframe tbody tr th:only-of-type {\n",
       "        vertical-align: middle;\n",
       "    }\n",
       "\n",
       "    .dataframe tbody tr th {\n",
       "        vertical-align: top;\n",
       "    }\n",
       "\n",
       "    .dataframe thead th {\n",
       "        text-align: right;\n",
       "    }\n",
       "</style>\n",
       "<table border=\"1\" class=\"dataframe\">\n",
       "  <thead>\n",
       "    <tr style=\"text-align: right;\">\n",
       "      <th></th>\n",
       "      <th></th>\n",
       "      <th>Question</th>\n",
       "      <th>Answer</th>\n",
       "    </tr>\n",
       "    <tr>\n",
       "      <th>Chunk</th>\n",
       "      <th>Q&amp;A Index</th>\n",
       "      <th></th>\n",
       "      <th></th>\n",
       "    </tr>\n",
       "  </thead>\n",
       "  <tbody>\n",
       "    <tr>\n",
       "      <th rowspan=\"3\" valign=\"top\">Liam McAllister$^{a}$ and Fernando Quevedo$^{b}$ 30   We give an overview of moduli stabilization in compactifications of string theory. We summarize current methods for construction and analysis of vacua with stabilized moduli, and we describe applications to cosmology and particle physics. This is a contribution to the Handbook on Quantum Gravity.  The fundamental physical laws that govern our Universe must describe gravity and quantum mechanics. To discover the laws of quantum gravity, we cannot entirely rely on terrestrial experiments, or even on cosmological observations: the energies of observable processes are far too low to give a complete picture, in contrast to the way that collider experiments eventually revealed the Standard Model of particle physics. We may hope for some guidance from experiment, but theorists will have to provide a framework. String theory is such a framework: it is a theory of quantum gravity through which we can take a constructive approach to exploring possible laws of quantum gravity in our Universe. The first obstacle is that the world we observe at low energies is four-dimensional, while the best-understood solutions of string theory are ten-dimensional. Kaluza-Klein theory \\cite{Kaluza:1921tu,Klein:1926tv}, now more than a century old, provides a way to bridge this gap. If the extra dimensions correspond to a six-dimensional compact space that is smaller than the reach of any experimental probe then only three spatial dimensions will be seen. However, the size and shape of the extra dimensions are dynamical: they are parameterized by the expectation values of scalar fields known as moduli. Unless the moduli have large masses, they mediate long-range forces that are not observed in our world. Thus, a central problem of Kaluza-Klein theories is to provide a dynamical explanation for the requisite size of the extra dimensions, and to ensure that the moduli masses are consistent with experiment.</th>\n",
       "      <th>1</th>\n",
       "      <td>What are the current methods for constructing and analyzing vacua with stabilized moduli in compactifications of string theory?</td>\n",
       "      <td>Stabilizing moduli in string theory compactifications involves finding solutions where the expectation values of scalar fields, known as moduli, are fixed at certain values to stabilize the extra dimensions. Current methods for constructing and analyzing such vacua include Flux Compactifications, Non-Perturbative Effects, and Gaugino Condensation, among others.</td>\n",
       "    </tr>\n",
       "    <tr>\n",
       "      <th>2</th>\n",
       "      <td>How does Kaluza-Klein theory bridge the gap between ten-dimensional string theory and the observed four-dimensional world we live in?</td>\n",
       "      <td>Kaluza-Klein theory proposes that the extra dimensions beyond the familiar four dimensions are compactified on a curled-up space known as the hidden dimensions. These extra dimensions are invisible because they are either too small to detect with current technology or because they are tightly curled up. The size and shape of these compact dimensions are dynamic and are described by scalar fields called moduli.</td>\n",
       "    </tr>\n",
       "    <tr>\n",
       "      <th>3</th>\n",
       "      <td>Why is the stabilization of moduli necessary in string theory compactifications, and how does it relate to experimental observations?</td>\n",
       "      <td>Stabilizing the moduli in compactifications of string theory is crucial to ensuring that the extra dimensions are at an appropriate size and shape to match our observable universe. If the moduli fields are not stabilized or have masses that are too low, they could mediate long-range forces that have not been detected. Thus, ensuring the stabilization of moduli is essential to reconcile string theory with experimental observations and constraints from particle physics and cosmology.</td>\n",
       "    </tr>\n",
       "    <tr>\n",
       "      <th rowspan=\"3\" valign=\"top\">Thus, vacuum solutions of string theory are furnished by Ricci-flat six-manifolds. Consider a six-manifold $X_6$ with K\"ahler metric $g_{mn}$, and define the Riemannian holonomy group $\\text{Hol}(g)$. If $\\text{Hol}(g) = SU(3) \\subset SO(6)$, then $g$ is Ricci-flat, and we call $X_6$ a Calabi-Yau threefold. It follows that $X_6$ having holonomy $SU(3)$ is a sufficient condition for a vacuum solution of string theory in compactification on $X_6$. One striking property of such solutions is that the compactification preserves some of the supersymmetry found in the ten-dimensional theory. We are aware of no argument that $\\text{Hol}(g) = SU(3)$ is a necessary condition for Ricci-flatness, but every example of a compact Ricci-flat six-manifold constructed to date has holonomy contained in $SU(3)$ (see e.g.~\\cite{Acharya:2019mcu}). Even so, one should bear in mind the possibility that there may exist compact Ricci-flat six-manifolds with holonomy $SO(6)$ that furnish non-supersymmetric vacua of string theory. By necessity we will restrict our discussion to the known examples of vacuum solutions, i.e.~to Calabi-Yau threefolds. We stress, however, that the presence of supersymmetry in this context is not a consequence of an attempt to explain hierarchies in particle physics: it is instead a powerful aid to theoretical control. Specifically, the superstring is our starting point because superstring theories are vastly better-understood than non-supersymmetric string theories, and Calabi-Yau compactifications --- which preserve some supersymmetry at the compactification scale, though this may be broken to nothing at lower energies --- are our geometric focus because they are the only compact Ricci-flat six-manifolds known at the time of this writing.</th>\n",
       "      <th>1</th>\n",
       "      <td>What is the significance of a Calabi-Yau threefold in the context of string theory vacuum solutions?</td>\n",
       "      <td>Calabi-Yau threefolds are special six-manifolds in string theory that have the property of being Ricci-flat with holonomy group contained in $SU(3)$. They are important in compactifying the extra dimensions of string theory, and finding vacuum solutions that preserve some supersymmetry, which aids in theoretical control.</td>\n",
       "    </tr>\n",
       "    <tr>\n",
       "      <th>2</th>\n",
       "      <td>Could there exist compact Ricci-flat six-manifolds with holonomy groups other than $SU(3)$ that furnish vacuum solutions in string theory?</td>\n",
       "      <td>While there is no proof that $\\text{Hol}(g) = SU(3)$ is a necessary condition for Ricci-flatness, all known examples of compact Ricci-flat six-manifolds have holonomy contained in $SU(3).$ However, it is theoretically possible that there are compact six-manifolds with holonomy $SO(6)$ that could lead to non-supersymmetric vacua in string theory.</td>\n",
       "    </tr>\n",
       "    <tr>\n",
       "      <th>3</th>\n",
       "      <td>How does the presence of supersymmetry in Calabi-Yau compactifications relate to the hierarchy problem in particle physics?</td>\n",
       "      <td>The presence of supersymmetry in Calabi-Yau compactifications of string theory is not directly related to solving the hierarchy problem in particle physics. Instead, it provides a powerful tool for theoretical control. Superstring theories, which are supersymmetric, are better understood compared to non-supersymmetric string theories. Calabi-Yau compactifications preserve some supersymmetry at the compactification scale, which may be broken at lower energies.</td>\n",
       "    </tr>\n",
       "  </tbody>\n",
       "</table>\n",
       "</div>"
      ],
      "text/plain": [
       "                                                                                                                                                                                                                                                                                                                                                                                                                                                                                                                                                                                                                                                                                                                                                                                                                                                                                                                                                                                                                                                                                                                                                                                                                                                                                                                                                                                                                                                                                                                                                                                                                                                                                                                                                                                                                                                                                                                                                                                                                                                                                                                                                                                        Question  \\\n",
       "Chunk                                                                                                                                                                                                                                                                                                                                                                                                                                                                                                                                                                                                                                                                                                                                                                                                                                                                                                                                                                                                                                                                                                                                                                                                                                                                                                                                                                                                                                                                                                                                                                                                                                                                                                                                                                                                                                                                                                                                                                                                                                      Q&A Index                                                                                                                                               \n",
       "Liam McAllister$^{a}$ and Fernando Quevedo$^{b}$ 30   We give an overview of moduli stabilization in compactifications of string theory. We summarize current methods for construction and analysis of vacua with stabilized moduli, and we describe applications to cosmology and particle physics. This is a contribution to the Handbook on Quantum Gravity.  The fundamental physical laws that govern our Universe must describe gravity and quantum mechanics. To discover the laws of quantum gravity, we cannot entirely rely on terrestrial experiments, or even on cosmological observations: the energies of observable processes are far too low to give a complete picture, in contrast to the way that collider experiments eventually revealed the Standard Model of particle physics. We may hope for some guidance from experiment, but theorists will have to provide a framework. String theory is such a framework: it is a theory of quantum gravity through which we can take a constructive approach to exploring possible laws of quantum gravity in our Universe. The first obstacle is that the world we observe at low energies is four-dimensional, while the best-understood solutions of string theory are ten-dimensional. Kaluza-Klein theory \\cite{Kaluza:1921tu,Klein:1926tv}, now more than a century old, provides a way to bridge this gap. If the extra dimensions correspond to a six-dimensional compact space that is smaller than the reach of any experimental probe then only three spatial dimensions will be seen. However, the size and shape of the extra dimensions are dynamical: they are parameterized by the expectation values of scalar fields known as moduli. Unless the moduli have large masses, they mediate long-range forces that are not observed in our world. Thus, a central problem of Kaluza-Klein theories is to provide a dynamical explanation for the requisite size of the extra dimensions, and to ensure that the moduli masses are consistent with experiment. 1                     What are the current methods for constructing and analyzing vacua with stabilized moduli in compactifications of string theory?   \n",
       "                                                                                                                                                                                                                                                                                                                                                                                                                                                                                                                                                                                                                                                                                                                                                                                                                                                                                                                                                                                                                                                                                                                                                                                                                                                                                                                                                                                                                                                                                                                                                                                                                                                                                                                                                                                                                                                                                                                                                                                                                                           2               How does Kaluza-Klein theory bridge the gap between ten-dimensional string theory and the observed four-dimensional world we live in?   \n",
       "                                                                                                                                                                                                                                                                                                                                                                                                                                                                                                                                                                                                                                                                                                                                                                                                                                                                                                                                                                                                                                                                                                                                                                                                                                                                                                                                                                                                                                                                                                                                                                                                                                                                                                                                                                                                                                                                                                                                                                                                                                           3               Why is the stabilization of moduli necessary in string theory compactifications, and how does it relate to experimental observations?   \n",
       "Thus, vacuum solutions of string theory are furnished by Ricci-flat six-manifolds. Consider a six-manifold $X_6$ with K\"ahler metric $g_{mn}$, and define the Riemannian holonomy group $\\text{Hol}(g)$. If $\\text{Hol}(g) = SU(3) \\subset SO(6)$, then $g$ is Ricci-flat, and we call $X_6$ a Calabi-Yau threefold. It follows that $X_6$ having holonomy $SU(3)$ is a sufficient condition for a vacuum solution of string theory in compactification on $X_6$. One striking property of such solutions is that the compactification preserves some of the supersymmetry found in the ten-dimensional theory. We are aware of no argument that $\\text{Hol}(g) = SU(3)$ is a necessary condition for Ricci-flatness, but every example of a compact Ricci-flat six-manifold constructed to date has holonomy contained in $SU(3)$ (see e.g.~\\cite{Acharya:2019mcu}). Even so, one should bear in mind the possibility that there may exist compact Ricci-flat six-manifolds with holonomy $SO(6)$ that furnish non-supersymmetric vacua of string theory. By necessity we will restrict our discussion to the known examples of vacuum solutions, i.e.~to Calabi-Yau threefolds. We stress, however, that the presence of supersymmetry in this context is not a consequence of an attempt to explain hierarchies in particle physics: it is instead a powerful aid to theoretical control. Specifically, the superstring is our starting point because superstring theories are vastly better-understood than non-supersymmetric string theories, and Calabi-Yau compactifications --- which preserve some supersymmetry at the compactification scale, though this may be broken to nothing at lower energies --- are our geometric focus because they are the only compact Ricci-flat six-manifolds known at the time of this writing.                                                                                                                                                                                                 1                                                What is the significance of a Calabi-Yau threefold in the context of string theory vacuum solutions?   \n",
       "                                                                                                                                                                                                                                                                                                                                                                                                                                                                                                                                                                                                                                                                                                                                                                                                                                                                                                                                                                                                                                                                                                                                                                                                                                                                                                                                                                                                                                                                                                                                                                                                                                                                                                                                                                                                                                                                                                                                                                                                                                           2          Could there exist compact Ricci-flat six-manifolds with holonomy groups other than $SU(3)$ that furnish vacuum solutions in string theory?   \n",
       "                                                                                                                                                                                                                                                                                                                                                                                                                                                                                                                                                                                                                                                                                                                                                                                                                                                                                                                                                                                                                                                                                                                                                                                                                                                                                                                                                                                                                                                                                                                                                                                                                                                                                                                                                                                                                                                                                                                                                                                                                                           3                         How does the presence of supersymmetry in Calabi-Yau compactifications relate to the hierarchy problem in particle physics?   \n",
       "\n",
       "                                                                                                                                                                                                                                                                                                                                                                                                                                                                                                                                                                                                                                                                                                                                                                                                                                                                                                                                                                                                                                                                                                                                                                                                                                                                                                                                                                                                                                                                                                                                                                                                                                                                                                                                                                                                                                                                                                                                                                                                                                                                                                                                                                                                                                                                                                                                                                                                                                                                                                                                                      Answer  \n",
       "Chunk                                                                                                                                                                                                                                                                                                                                                                                                                                                                                                                                                                                                                                                                                                                                                                                                                                                                                                                                                                                                                                                                                                                                                                                                                                                                                                                                                                                                                                                                                                                                                                                                                                                                                                                                                                                                                                                                                                                                                                                                                                      Q&A Index                                                                                                                                                                                                                                                                                                                                                                                                                                                                                                          \n",
       "Liam McAllister$^{a}$ and Fernando Quevedo$^{b}$ 30   We give an overview of moduli stabilization in compactifications of string theory. We summarize current methods for construction and analysis of vacua with stabilized moduli, and we describe applications to cosmology and particle physics. This is a contribution to the Handbook on Quantum Gravity.  The fundamental physical laws that govern our Universe must describe gravity and quantum mechanics. To discover the laws of quantum gravity, we cannot entirely rely on terrestrial experiments, or even on cosmological observations: the energies of observable processes are far too low to give a complete picture, in contrast to the way that collider experiments eventually revealed the Standard Model of particle physics. We may hope for some guidance from experiment, but theorists will have to provide a framework. String theory is such a framework: it is a theory of quantum gravity through which we can take a constructive approach to exploring possible laws of quantum gravity in our Universe. The first obstacle is that the world we observe at low energies is four-dimensional, while the best-understood solutions of string theory are ten-dimensional. Kaluza-Klein theory \\cite{Kaluza:1921tu,Klein:1926tv}, now more than a century old, provides a way to bridge this gap. If the extra dimensions correspond to a six-dimensional compact space that is smaller than the reach of any experimental probe then only three spatial dimensions will be seen. However, the size and shape of the extra dimensions are dynamical: they are parameterized by the expectation values of scalar fields known as moduli. Unless the moduli have large masses, they mediate long-range forces that are not observed in our world. Thus, a central problem of Kaluza-Klein theories is to provide a dynamical explanation for the requisite size of the extra dimensions, and to ensure that the moduli masses are consistent with experiment. 1                                                                                                                                     Stabilizing moduli in string theory compactifications involves finding solutions where the expectation values of scalar fields, known as moduli, are fixed at certain values to stabilize the extra dimensions. Current methods for constructing and analyzing such vacua include Flux Compactifications, Non-Perturbative Effects, and Gaugino Condensation, among others.  \n",
       "                                                                                                                                                                                                                                                                                                                                                                                                                                                                                                                                                                                                                                                                                                                                                                                                                                                                                                                                                                                                                                                                                                                                                                                                                                                                                                                                                                                                                                                                                                                                                                                                                                                                                                                                                                                                                                                                                                                                                                                                                                           2                                                                                   Kaluza-Klein theory proposes that the extra dimensions beyond the familiar four dimensions are compactified on a curled-up space known as the hidden dimensions. These extra dimensions are invisible because they are either too small to detect with current technology or because they are tightly curled up. The size and shape of these compact dimensions are dynamic and are described by scalar fields called moduli.  \n",
       "                                                                                                                                                                                                                                                                                                                                                                                                                                                                                                                                                                                                                                                                                                                                                                                                                                                                                                                                                                                                                                                                                                                                                                                                                                                                                                                                                                                                                                                                                                                                                                                                                                                                                                                                                                                                                                                                                                                                                                                                                                           3          Stabilizing the moduli in compactifications of string theory is crucial to ensuring that the extra dimensions are at an appropriate size and shape to match our observable universe. If the moduli fields are not stabilized or have masses that are too low, they could mediate long-range forces that have not been detected. Thus, ensuring the stabilization of moduli is essential to reconcile string theory with experimental observations and constraints from particle physics and cosmology.  \n",
       "Thus, vacuum solutions of string theory are furnished by Ricci-flat six-manifolds. Consider a six-manifold $X_6$ with K\"ahler metric $g_{mn}$, and define the Riemannian holonomy group $\\text{Hol}(g)$. If $\\text{Hol}(g) = SU(3) \\subset SO(6)$, then $g$ is Ricci-flat, and we call $X_6$ a Calabi-Yau threefold. It follows that $X_6$ having holonomy $SU(3)$ is a sufficient condition for a vacuum solution of string theory in compactification on $X_6$. One striking property of such solutions is that the compactification preserves some of the supersymmetry found in the ten-dimensional theory. We are aware of no argument that $\\text{Hol}(g) = SU(3)$ is a necessary condition for Ricci-flatness, but every example of a compact Ricci-flat six-manifold constructed to date has holonomy contained in $SU(3)$ (see e.g.~\\cite{Acharya:2019mcu}). Even so, one should bear in mind the possibility that there may exist compact Ricci-flat six-manifolds with holonomy $SO(6)$ that furnish non-supersymmetric vacua of string theory. By necessity we will restrict our discussion to the known examples of vacuum solutions, i.e.~to Calabi-Yau threefolds. We stress, however, that the presence of supersymmetry in this context is not a consequence of an attempt to explain hierarchies in particle physics: it is instead a powerful aid to theoretical control. Specifically, the superstring is our starting point because superstring theories are vastly better-understood than non-supersymmetric string theories, and Calabi-Yau compactifications --- which preserve some supersymmetry at the compactification scale, though this may be broken to nothing at lower energies --- are our geometric focus because they are the only compact Ricci-flat six-manifolds known at the time of this writing.                                                                                                                                                                                                 1                                                                                                                                                                              Calabi-Yau threefolds are special six-manifolds in string theory that have the property of being Ricci-flat with holonomy group contained in $SU(3)$. They are important in compactifying the extra dimensions of string theory, and finding vacuum solutions that preserve some supersymmetry, which aids in theoretical control.  \n",
       "                                                                                                                                                                                                                                                                                                                                                                                                                                                                                                                                                                                                                                                                                                                                                                                                                                                                                                                                                                                                                                                                                                                                                                                                                                                                                                                                                                                                                                                                                                                                                                                                                                                                                                                                                                                                                                                                                                                                                                                                                                           2                                                                                                                                                     While there is no proof that $\\text{Hol}(g) = SU(3)$ is a necessary condition for Ricci-flatness, all known examples of compact Ricci-flat six-manifolds have holonomy contained in $SU(3).$ However, it is theoretically possible that there are compact six-manifolds with holonomy $SO(6)$ that could lead to non-supersymmetric vacua in string theory.  \n",
       "                                                                                                                                                                                                                                                                                                                                                                                                                                                                                                                                                                                                                                                                                                                                                                                                                                                                                                                                                                                                                                                                                                                                                                                                                                                                                                                                                                                                                                                                                                                                                                                                                                                                                                                                                                                                                                                                                                                                                                                                                                           3                                 The presence of supersymmetry in Calabi-Yau compactifications of string theory is not directly related to solving the hierarchy problem in particle physics. Instead, it provides a powerful tool for theoretical control. Superstring theories, which are supersymmetric, are better understood compared to non-supersymmetric string theories. Calabi-Yau compactifications preserve some supersymmetry at the compactification scale, which may be broken at lower energies.  "
      ]
     },
     "execution_count": 43,
     "metadata": {},
     "output_type": "execute_result"
    }
   ],
   "source": [
    "# Create a MultiIndex from the chunks and their corresponding sub_index\n",
    "multi_index = pd.MultiIndex.from_arrays([chunk_list, sub_index], names=['Chunk', 'Q&A Index'])\n",
    "answer_list = [re.sub(r'^\\d+: ', '', answer) for answer in answer_list]\n",
    "\n",
    "# Construct the DataFrame\n",
    "df_multi = pd.DataFrame({'Question': question_list, 'Answer': answer_list}, index=multi_index)\n",
    "\n",
    "# Display the DataFrame\n",
    "df_multi"
   ]
  },
  {
   "cell_type": "code",
   "execution_count": 45,
   "id": "6ec68308-f066-4f30-a755-fff28213312a",
   "metadata": {},
   "outputs": [
    {
     "data": {
      "text/html": [
       "<div>\n",
       "<style scoped>\n",
       "    .dataframe tbody tr th:only-of-type {\n",
       "        vertical-align: middle;\n",
       "    }\n",
       "\n",
       "    .dataframe tbody tr th {\n",
       "        vertical-align: top;\n",
       "    }\n",
       "\n",
       "    .dataframe thead th {\n",
       "        text-align: right;\n",
       "    }\n",
       "</style>\n",
       "<table border=\"1\" class=\"dataframe\">\n",
       "  <thead>\n",
       "    <tr style=\"text-align: right;\">\n",
       "      <th></th>\n",
       "      <th>Question</th>\n",
       "      <th>Answer</th>\n",
       "    </tr>\n",
       "  </thead>\n",
       "  <tbody>\n",
       "    <tr>\n",
       "      <th>0</th>\n",
       "      <td>What are the current methods for constructing and analyzing vacua with stabilized moduli in compactifications of string theory?</td>\n",
       "      <td>Stabilizing moduli in string theory compactifications involves finding solutions where the expectation values of scalar fields, known as moduli, are fixed at certain values to stabilize the extra dimensions. Current methods for constructing and analyzing such vacua include Flux Compactifications, Non-Perturbative Effects, and Gaugino Condensation, among others.</td>\n",
       "    </tr>\n",
       "    <tr>\n",
       "      <th>1</th>\n",
       "      <td>How does Kaluza-Klein theory bridge the gap between ten-dimensional string theory and the observed four-dimensional world we live in?</td>\n",
       "      <td>Kaluza-Klein theory proposes that the extra dimensions beyond the familiar four dimensions are compactified on a curled-up space known as the hidden dimensions. These extra dimensions are invisible because they are either too small to detect with current technology or because they are tightly curled up. The size and shape of these compact dimensions are dynamic and are described by scalar fields called moduli.</td>\n",
       "    </tr>\n",
       "    <tr>\n",
       "      <th>2</th>\n",
       "      <td>Why is the stabilization of moduli necessary in string theory compactifications, and how does it relate to experimental observations?</td>\n",
       "      <td>Stabilizing the moduli in compactifications of string theory is crucial to ensuring that the extra dimensions are at an appropriate size and shape to match our observable universe. If the moduli fields are not stabilized or have masses that are too low, they could mediate long-range forces that have not been detected. Thus, ensuring the stabilization of moduli is essential to reconcile string theory with experimental observations and constraints from particle physics and cosmology.</td>\n",
       "    </tr>\n",
       "    <tr>\n",
       "      <th>3</th>\n",
       "      <td>What is the significance of a Calabi-Yau threefold in the context of string theory vacuum solutions?</td>\n",
       "      <td>Calabi-Yau threefolds are special six-manifolds in string theory that have the property of being Ricci-flat with holonomy group contained in $SU(3)$. They are important in compactifying the extra dimensions of string theory, and finding vacuum solutions that preserve some supersymmetry, which aids in theoretical control.</td>\n",
       "    </tr>\n",
       "    <tr>\n",
       "      <th>4</th>\n",
       "      <td>Could there exist compact Ricci-flat six-manifolds with holonomy groups other than $SU(3)$ that furnish vacuum solutions in string theory?</td>\n",
       "      <td>While there is no proof that $\\text{Hol}(g) = SU(3)$ is a necessary condition for Ricci-flatness, all known examples of compact Ricci-flat six-manifolds have holonomy contained in $SU(3).$ However, it is theoretically possible that there are compact six-manifolds with holonomy $SO(6)$ that could lead to non-supersymmetric vacua in string theory.</td>\n",
       "    </tr>\n",
       "    <tr>\n",
       "      <th>5</th>\n",
       "      <td>How does the presence of supersymmetry in Calabi-Yau compactifications relate to the hierarchy problem in particle physics?</td>\n",
       "      <td>The presence of supersymmetry in Calabi-Yau compactifications of string theory is not directly related to solving the hierarchy problem in particle physics. Instead, it provides a powerful tool for theoretical control. Superstring theories, which are supersymmetric, are better understood compared to non-supersymmetric string theories. Calabi-Yau compactifications preserve some supersymmetry at the compactification scale, which may be broken at lower energies.</td>\n",
       "    </tr>\n",
       "  </tbody>\n",
       "</table>\n",
       "</div>"
      ],
      "text/plain": [
       "                                                                                                                                     Question  \\\n",
       "0             What are the current methods for constructing and analyzing vacua with stabilized moduli in compactifications of string theory?   \n",
       "1       How does Kaluza-Klein theory bridge the gap between ten-dimensional string theory and the observed four-dimensional world we live in?   \n",
       "2       Why is the stabilization of moduli necessary in string theory compactifications, and how does it relate to experimental observations?   \n",
       "3                                        What is the significance of a Calabi-Yau threefold in the context of string theory vacuum solutions?   \n",
       "4  Could there exist compact Ricci-flat six-manifolds with holonomy groups other than $SU(3)$ that furnish vacuum solutions in string theory?   \n",
       "5                 How does the presence of supersymmetry in Calabi-Yau compactifications relate to the hierarchy problem in particle physics?   \n",
       "\n",
       "                                                                                                                                                                                                                                                                                                                                                                                                                                                                                                   Answer  \n",
       "0                                                                                                                             Stabilizing moduli in string theory compactifications involves finding solutions where the expectation values of scalar fields, known as moduli, are fixed at certain values to stabilize the extra dimensions. Current methods for constructing and analyzing such vacua include Flux Compactifications, Non-Perturbative Effects, and Gaugino Condensation, among others.  \n",
       "1                                                                           Kaluza-Klein theory proposes that the extra dimensions beyond the familiar four dimensions are compactified on a curled-up space known as the hidden dimensions. These extra dimensions are invisible because they are either too small to detect with current technology or because they are tightly curled up. The size and shape of these compact dimensions are dynamic and are described by scalar fields called moduli.  \n",
       "2  Stabilizing the moduli in compactifications of string theory is crucial to ensuring that the extra dimensions are at an appropriate size and shape to match our observable universe. If the moduli fields are not stabilized or have masses that are too low, they could mediate long-range forces that have not been detected. Thus, ensuring the stabilization of moduli is essential to reconcile string theory with experimental observations and constraints from particle physics and cosmology.  \n",
       "3                                                                                                                                                                      Calabi-Yau threefolds are special six-manifolds in string theory that have the property of being Ricci-flat with holonomy group contained in $SU(3)$. They are important in compactifying the extra dimensions of string theory, and finding vacuum solutions that preserve some supersymmetry, which aids in theoretical control.  \n",
       "4                                                                                                                                             While there is no proof that $\\text{Hol}(g) = SU(3)$ is a necessary condition for Ricci-flatness, all known examples of compact Ricci-flat six-manifolds have holonomy contained in $SU(3).$ However, it is theoretically possible that there are compact six-manifolds with holonomy $SO(6)$ that could lead to non-supersymmetric vacua in string theory.  \n",
       "5                         The presence of supersymmetry in Calabi-Yau compactifications of string theory is not directly related to solving the hierarchy problem in particle physics. Instead, it provides a powerful tool for theoretical control. Superstring theories, which are supersymmetric, are better understood compared to non-supersymmetric string theories. Calabi-Yau compactifications preserve some supersymmetry at the compactification scale, which may be broken at lower energies.  "
      ]
     },
     "execution_count": 45,
     "metadata": {},
     "output_type": "execute_result"
    }
   ],
   "source": [
    "qa_df = pd.DataFrame({\n",
    "    'Question': question_list,\n",
    "    'Answer': answer_list\n",
    "})\n",
    "\n",
    "qa_df"
   ]
  },
  {
   "cell_type": "code",
   "execution_count": null,
   "id": "15dc12e2-25b6-4384-9248-acdb5cc3192d",
   "metadata": {},
   "outputs": [],
   "source": []
  }
 ],
 "metadata": {
  "kernelspec": {
   "display_name": "Python 3 (ipykernel)",
   "language": "python",
   "name": "python3"
  },
  "language_info": {
   "codemirror_mode": {
    "name": "ipython",
    "version": 3
   },
   "file_extension": ".py",
   "mimetype": "text/x-python",
   "name": "python",
   "nbconvert_exporter": "python",
   "pygments_lexer": "ipython3",
   "version": "3.8.18"
  }
 },
 "nbformat": 4,
 "nbformat_minor": 5
}
