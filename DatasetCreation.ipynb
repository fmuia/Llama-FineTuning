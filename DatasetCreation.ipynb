{
 "cells": [
  {
   "cell_type": "markdown",
   "id": "7f6b5980-97ac-41f5-b0b5-2d2cbb6d7beb",
   "metadata": {},
   "source": [
    "## Imports"
   ]
  },
  {
   "cell_type": "code",
   "execution_count": 1,
   "id": "12c59658-2082-4bad-a588-0b03d8535cee",
   "metadata": {},
   "outputs": [],
   "source": [
    "from aux.aux_functions import *"
   ]
  },
  {
   "cell_type": "code",
   "execution_count": 2,
   "id": "f7ae6f91-50ec-41d4-850a-d2fbc1f5329a",
   "metadata": {},
   "outputs": [],
   "source": [
    "import openai\n",
    "from openai import OpenAI"
   ]
  },
  {
   "cell_type": "code",
   "execution_count": 3,
   "id": "57d20c45-382c-4fbe-9cc8-0135faab0828",
   "metadata": {},
   "outputs": [],
   "source": [
    "import pandas as pd\n",
    "pd.set_option('display.max_colwidth', None)\n",
    "\n",
    "from IPython.display import display"
   ]
  },
  {
   "cell_type": "code",
   "execution_count": 4,
   "id": "55e6ab95-38f2-4b52-9969-4692392acb2a",
   "metadata": {},
   "outputs": [],
   "source": [
    "import os\n",
    "\n",
    "openai.api_key = os.environ[\"OPENAI_API_KEY\"]"
   ]
  },
  {
   "cell_type": "code",
   "execution_count": 9,
   "id": "3bda8018-b211-4053-b3b6-a63498b28e71",
   "metadata": {},
   "outputs": [],
   "source": [
    "import requests\n",
    "import os\n",
    "import tarfile\n",
    "\n",
    "# List of arXiv IDs\n",
    "arxiv_ids = ['2307.13614', '2304.01673', '2303.01548']  # Replace with actual arXiv IDs\n",
    "\n",
    "# Directory to save the downloaded source files\n",
    "save_dir = 'arxiv_sources'\n",
    "os.makedirs(save_dir, exist_ok=True)"
   ]
  },
  {
   "cell_type": "code",
   "execution_count": 10,
   "id": "f776ff20-8403-4ffe-a76d-824c979c5886",
   "metadata": {},
   "outputs": [],
   "source": [
    "def extract_tex_files(tar_path, extract_to):\n",
    "    \"\"\"\n",
    "    Extracts .tex files from a tar.gz archive.\n",
    "    \"\"\"\n",
    "    with tarfile.open(tar_path, 'r:gz') as tar:\n",
    "        # Filter for .tex files\n",
    "        tex_files = [m for m in tar.getmembers() if m.name.endswith('.tex')]\n",
    "        for member in tex_files:\n",
    "            tar.extract(member, extract_to)"
   ]
  },
  {
   "cell_type": "code",
   "execution_count": 12,
   "id": "31de5ef8-492e-4702-9a19-aec9bf75abb1",
   "metadata": {},
   "outputs": [
    {
     "name": "stdout",
     "output_type": "stream",
     "text": [
      "Downloaded 2307.13614\n",
      "Extracted LaTeX sources for 2307.13614\n",
      "Deleted archive 2307.13614.tar.gz\n",
      "Downloaded 2304.01673\n",
      "Extracted LaTeX sources for 2304.01673\n",
      "Deleted archive 2304.01673.tar.gz\n",
      "Downloaded 2303.01548\n",
      "Extracted LaTeX sources for 2303.01548\n",
      "Deleted archive 2303.01548.tar.gz\n"
     ]
    }
   ],
   "source": [
    "for arxiv_id in arxiv_ids:\n",
    "    # Construct URL for the source file\n",
    "    url = f'http://arxiv.org/e-print/{arxiv_id}'\n",
    "    \n",
    "    # Make the request and download the file\n",
    "    response = requests.get(url)\n",
    "    \n",
    "    if response.status_code == 200:\n",
    "        tar_path = os.path.join(save_dir, f'{arxiv_id}.tar.gz')\n",
    "        \n",
    "        with open(tar_path, 'wb') as file:\n",
    "            file.write(response.content)\n",
    "        print(f'Downloaded {arxiv_id}')\n",
    "        \n",
    "        # Extract .tex files from the downloaded tar.gz file\n",
    "        extract_to = os.path.join(save_dir, arxiv_id)  # Create a subdirectory for the extracted files\n",
    "        os.makedirs(extract_to, exist_ok=True)\n",
    "        extract_tex_files(tar_path, extract_to)\n",
    "        print(f'Extracted LaTeX sources for {arxiv_id}')\n",
    "\n",
    "        # Delete the .tar.gz file\n",
    "        os.remove(tar_path)\n",
    "        print(f'Deleted archive {arxiv_id}.tar.gz')\n",
    "    else:\n",
    "        print(f'Failed to download {arxiv_id}. Status code: {response.status_code}')"
   ]
  },
  {
   "cell_type": "markdown",
   "id": "8b0d99c9-2ab6-4ad2-ba74-55149e3336c2",
   "metadata": {},
   "source": [
    "### Upload file"
   ]
  },
  {
   "cell_type": "code",
   "execution_count": 139,
   "id": "a3f6caec-9dc5-427d-ba82-81f8631de121",
   "metadata": {},
   "outputs": [
    {
     "data": {
      "text/plain": [
       "76800"
      ]
     },
     "execution_count": 139,
     "metadata": {},
     "output_type": "execute_result"
    }
   ],
   "source": [
    "#name_file = \"1903.06239/Review.tex\" # Palti's review\n",
    "#name_file = \"2008.10625/ls.tex\" # Hebecker's review\n",
    "#name_file = \"2303.04819/Sections/Introduction.tex\" # StringCosmo review. The sections are: Introduction, CosmoOverview, Moduli, Inflation, Postinflation, DarkEnergy, Alternatives, Outlook\n",
    "#name_file = \"2310.20559/ls.tex\" # McAllister-Quevedo's review\n",
    "name_file = \"0701050/review.tex\" # Denef-Douglas-Kachru's review\n",
    "\n",
    "latex_file_path = 'Files/' + name_file\n",
    "\n",
    "# Extract the LaTeX content\n",
    "latex_content = extract_latex_content(latex_file_path, \"\\\\startdocument\", \"\\\\enddocument\")\n",
    "\n",
    "len(latex_content)"
   ]
  },
  {
   "cell_type": "markdown",
   "id": "cad229a8-6dba-4c37-b494-f7806e875c24",
   "metadata": {},
   "source": [
    "### Simplify the latex text using common replacements"
   ]
  },
  {
   "cell_type": "code",
   "execution_count": 140,
   "id": "b5767164-314d-43c1-abde-a72a5a1e72b2",
   "metadata": {},
   "outputs": [
    {
     "data": {
      "text/plain": [
       "76552"
      ]
     },
     "execution_count": 140,
     "metadata": {},
     "output_type": "execute_result"
    }
   ],
   "source": [
    "replacements = {\n",
    "        r'\\\\d': 'd',\n",
    "        r'\\\\G': 'G',\n",
    "        r'\\\\O': 'O',\n",
    "        r'\\\\C': 'C',\n",
    "        r'\\\\V': 'V',\n",
    "        r'\\\\L': 'L',\n",
    "        r'\\\\R': 'R',\n",
    "        r'\\\\S': 'S',\n",
    "        r'\\\\Mp': 'Mp',\n",
    "        r'\\\\cN': 'N',\n",
    "        r'\\\\cC': 'C',\n",
    "        r'\\\\cP': 'P',\n",
    "        r'\\\\cR': 'R',\n",
    "        r'\\\\vo': 'V',\n",
    "        r'\\\\Kahler': 'Kahler',\n",
    "        r'\\\\flux': 'flux',\n",
    "        r'\\\\KK': 'Kaluza-Klein',\n",
    "        r'\\\\n': ' '\n",
    "    }                                        # This can be improved adding more replacements\n",
    "\n",
    "brace_commands = [r'\\\\emph', r'\\\\footnote', r'\\\\it', r'\\\\em', r'\\\\ref', r'\\\\eqref']               # This can be improved adding more replacements\n",
    "\n",
    "simplified_text = replace_latex_commands(latex_content, replacements, brace_commands)\n",
    "len(simplified_text)"
   ]
  },
  {
   "cell_type": "markdown",
   "id": "d4cbcbb3-e92b-4621-9755-2d8af8e31f81",
   "metadata": {},
   "source": [
    "### Polish latex text removing standard latex commands"
   ]
  },
  {
   "cell_type": "code",
   "execution_count": 141,
   "id": "5dcd13f1-e456-46f9-982f-6d983e6f7424",
   "metadata": {},
   "outputs": [
    {
     "data": {
      "text/plain": [
       "75561"
      ]
     },
     "execution_count": 141,
     "metadata": {},
     "output_type": "execute_result"
    }
   ],
   "source": [
    "polished_text = clean_latex_content(simplified_text)         # This can be improved adding more commands\n",
    "len(polished_text)"
   ]
  },
  {
   "cell_type": "markdown",
   "id": "f2620994-3466-4459-b22c-0e682668b29c",
   "metadata": {},
   "source": [
    "### Split the text in chunks"
   ]
  },
  {
   "cell_type": "code",
   "execution_count": 143,
   "id": "46643129-00c6-4d0a-a094-9cdaa50f8fd0",
   "metadata": {},
   "outputs": [
    {
     "name": "stdout",
     "output_type": "stream",
     "text": [
      "The number of chunks is: 45.\n"
     ]
    },
    {
     "data": {
      "text/plain": [
       "[\"The number of vacua $\\\\phi_*$ in an interval $I$ is given by \\\\begin{equation}\\n\\\\label{ansatz}\\nds^2 = g_{\\\\mu u} dx^{\\\\mu}dx^{ u} + R^2 \\\\tilde g_{mn}dy^m dy^n\\n\\\\end{equation}6 where $\\\\theta(x):=1$ if $x>0$, $\\\\theta(x):=0$ if $x<0$. The integrand $delta(V') |V''|$ gives a contribution $+1$ for each critical point in $I$, while $\\\\theta(V'')$ restricts to actual minima. Now in the large $L$ limit, we can approximate the sum over $(N,M)$ by an integral, and write \\\\begin{equation}\\n\\\\label{ansatz}\\nds^2 = g_{\\\\mu u} dx^{\\\\mu}dx^{ u} + R^2 \\\\tilde g_{mn}dy^m dy^n\\n\\\\end{equation}7 where $\\\\rho(\\\\phi)$ can be interpreted as a vacuum number density on moduli space. To evaluate the integral over $(N,M)$ at a given fixed $\\\\phi$, it is convenient to make the following linear change of variables $(N,M) \\\\to (v',v'')$: \\\\begin{equation}\\n\\\\label{ansatz}\\nds^2 = g_{\\\\mu u} dx^{\\\\mu}dx^{ u} + R^2 \\\\tilde g_{mn}dy^m dy^n\\n\\\\end{equation}8 This change of variables has Jacobian $=1$, and the integration domain in the new variables is $L \\\\geq N^2+M^2 = (v'-v'' \\\\phi)^2 +\\n(v'')^2$. The integral is now trivially evaluated, yielding the distribution \\\\begin{equation}\\n\\\\label{ansatz}\\nds^2 = g_{\\\\mu u} dx^{\\\\mu}dx^{ u} + R^2 \\\\tilde g_{mn}dy^m dy^n\\n\\\\end{equation}9 Note that this integrates to at total number of vacua $CN_{\\\\rm\\nvac}(\\\\IR) \\\\approx \\\\pi L / 2$ --- this is as it should, since the total number of pairs $(N,M)$ in the ensemble is approximated by the volume $\\\\pi L$ of the region $N^2+M^2 \\\\leq L$, each $(N,M)$ leads to a unique critical point, and half of those are minima. The density Eq. (dens) confirms the intuitive expectation that ``most'' vacua in this ensemble will be at order 1 values of $\\\\phi$, but makes this far more precise. Let us next consider a more general ensemble of the form \\\\begin{equation}\\n\\\\label{gravitysec}\\nM_6^4 R^2 \\\\int d^4x \\\\sqrt{-g} \\\\left( [ \\\\int d^2y \\\\sqrt{\\\\tilde g}{\\\\cal R}_2]  +\\nR^2 {\\\\cal R}_4 \\\\right) + \\\\cdots\\n\\\\end{equation}0 where $f$ and $g$ are arbitrary functions.\",\n",
       " 'Let us next consider a more general ensemble of the form \\\\begin{equation}\\n\\\\label{gravitysec}\\nM_6^4 R^2 \\\\int d^4x \\\\sqrt{-g} \\\\left( [ \\\\int d^2y \\\\sqrt{\\\\tilde g}{\\\\cal R}_2]  +\\nR^2 {\\\\cal R}_4 \\\\right) + \\\\cdots\\n\\\\end{equation}0 where $f$ and $g$ are arbitrary functions. Now it is no longer possible to proceed by finding explicit solutions --- even finding a single explicit solution will typically be out of reach even for simple choices of $f$ and $g$. On the other hand, the previous computation is straightforwardly extended to this case, for general $f$ and $g$, resulting in a vacuum number density \\\\begin{equation}\\n\\\\label{gravitysec}\\nM_6^4 R^2 \\\\int d^4x \\\\sqrt{-g} \\\\left( [ \\\\int d^2y \\\\sqrt{\\\\tilde g}{\\\\cal R}_2]  +\\nR^2 {\\\\cal R}_4 \\\\right) + \\\\cdots\\n\\\\end{equation}1 This illustrates the power of statistical methods over explicit constructions. An interesting special case, which has an important counterpart in actual string flux vacua, is obtained by setting $f(\\\\phi)=\\\\phi$, $g(x)=\\\\phi \\\\log \\\\phi - \\\\phi$, $\\\\phi>0$. Potentials with similar structure appear naturally in string theory, as we will discuss in more detail below. The corresponding vacuum density is \\\\begin{equation}\\n\\\\label{gravitysec}\\nM_6^4 R^2 \\\\int d^4x \\\\sqrt{-g} \\\\left( [ \\\\int d^2y \\\\sqrt{\\\\tilde g}{\\\\cal R}_2]  +\\nR^2 {\\\\cal R}_4 \\\\right) + \\\\cdots\\n\\\\end{equation}2 Note that this distribution is approximately scale invariant, and thus naturally allows hierarchically small (and large) vacuum values of $\\\\phi$ and therefore $V(\\\\phi)$. For this particular ensemble, we can also see this directly as the critical points can again be found explicitly, namely $\\\\phi_* = e^{-N/M}$. Of course, this is a case in which one might be satisfied with a more informal argument leading to the same physical conclusion, namely that an exponentially small scale is natural. However, it is easy to find situations in string theory in which this type of reasoning leads to incorrect conclusions.']"
      ]
     },
     "execution_count": 143,
     "metadata": {},
     "output_type": "execute_result"
    }
   ],
   "source": [
    "no_char_in_chunk = 2000\n",
    "\n",
    "chunks = chunk_text(polished_text, no_char_in_chunk)\n",
    "chunks = [chunk.replace(\"%\", \"\") for chunk in chunks]\n",
    "print(\"The number of chunks is: \" + str(len(chunks)) + \".\")\n",
    "chunks[23:25]"
   ]
  },
  {
   "cell_type": "markdown",
   "id": "a26694aa-3ff4-4ae0-ba78-d74e036a2b88",
   "metadata": {},
   "source": [
    "### Define the prompt to create the Q&A using the text from the papers"
   ]
  },
  {
   "cell_type": "code",
   "execution_count": 144,
   "id": "f7ad7f96-f714-4855-9dc2-7d43b677a33e",
   "metadata": {},
   "outputs": [],
   "source": [
    "# Define the number of Q&A pairs you want to generate for each chunk\n",
    "num_questions = 3"
   ]
  },
  {
   "cell_type": "code",
   "execution_count": 145,
   "id": "f00a0b77-3438-42f6-abda-6ca258fc1be6",
   "metadata": {},
   "outputs": [
    {
     "data": {
      "text/plain": [
       "\"You are an expert in theoretical physics. I will provide a text, and I'd like you to generate {num_questions} questions a researcher-level colleague might ask about the topic of the text. Then, provide detailed answers to these questions as an expeert in the field. Format your responses as follows: 'Question 1: [question here] Answer 1: [answer here]' and so on for all {num_questions} questions.\""
      ]
     },
     "metadata": {},
     "output_type": "display_data"
    },
    {
     "data": {
      "text/plain": [
       "'Based on the following text, please generate the questions and answers as instructed. Text: {chunk}'"
      ]
     },
     "metadata": {},
     "output_type": "display_data"
    }
   ],
   "source": [
    "system_prompt_template = \"You are an expert in theoretical physics. I will provide a text, and I'd like you to generate {num_questions} questions a researcher-level colleague might ask about the topic of the text. Then, provide detailed answers to these questions as an expeert in the field. Format your responses as follows: 'Question 1: [question here] Answer 1: [answer here]' and so on for all {num_questions} questions.\"\n",
    "\n",
    "user_prompt_template = \"Based on the following text, please generate the questions and answers as instructed. Text: {chunk}\"\n",
    "\n",
    "display(system_prompt_template)\n",
    "display(user_prompt_template)\n"
   ]
  },
  {
   "cell_type": "markdown",
   "id": "17338262-288f-459d-98b2-8ee848549bc4",
   "metadata": {},
   "source": [
    "### Generate the Q&A using chat-gpt 3.5 turbo"
   ]
  },
  {
   "cell_type": "code",
   "execution_count": 146,
   "id": "321724c6-e549-4f54-a143-1fed40c5bb4e",
   "metadata": {},
   "outputs": [],
   "source": [
    "client = OpenAI()\n",
    "\n",
    "# Initialize a list to store chunk and response pairs\n",
    "chunk_responses = []\n",
    "\n",
    "# Assume chunks_test is a list of text chunks you want to generate Q&A for\n",
    "for chunk in chunks:\n",
    "    system_prompt, user_prompt = generate_prompt(chunk, num_questions, system_prompt_template, user_prompt_template)\n",
    "    \n",
    "    # Call the OpenAI API once per chunk\n",
    "    response = client.chat.completions.create(\n",
    "        model=\"gpt-3.5-turbo-0125\",\n",
    "        messages=[system_prompt, user_prompt]\n",
    "    )\n",
    "    \n",
    "    # Append both the chunk and its response to the chunk_responses list\n",
    "    chunk_responses.append({\n",
    "        \"chunk\": chunk,\n",
    "        \"response\": response.choices[-1].message.content if response.choices else \"No response\"\n",
    "    })\n"
   ]
  },
  {
   "cell_type": "code",
   "execution_count": 147,
   "id": "75f9005a-3950-464b-9365-391df1f86cb1",
   "metadata": {},
   "outputs": [],
   "source": [
    "# Initialize lists to hold the DataFrame data\n",
    "chunk_list = []\n",
    "question_list = []\n",
    "answer_list = []\n",
    "sub_index = []\n",
    "\n",
    "# Process each chunk-response pair\n",
    "for item in chunk_responses:\n",
    "    chunk = item['chunk']\n",
    "    response = item['response']\n",
    "    \n",
    "    # Split the response into Q&As\n",
    "    qas = response.split('\\n\\n')  # Assuming two newlines separate each Q&A pair\n",
    "    for i, qa in enumerate(qas):\n",
    "        # Attempt to split the QA into question and answer\n",
    "        parts = qa.split('\\nAnswer ')\n",
    "        if len(parts) == 2:\n",
    "            question = parts[0].replace('Question {}: '.format(i+1), '').strip()\n",
    "            answer = parts[1].strip()\n",
    "            chunk_list.append(chunk)\n",
    "            question_list.append(question)\n",
    "            answer_list.append(answer)\n",
    "            sub_index.append(i+1)"
   ]
  },
  {
   "cell_type": "code",
   "execution_count": 160,
   "id": "322d83ad-2084-42ee-b4dd-52c7bc53fb38",
   "metadata": {},
   "outputs": [],
   "source": [
    "# Create a MultiIndex from the chunks and their corresponding sub_index\n",
    "multi_index = pd.MultiIndex.from_arrays([chunk_list, sub_index], names=['Chunk', 'Q&A Index'])\n",
    "answer_list = [re.sub(r'^\\d+: ', '', answer) for answer in answer_list]\n",
    "\n",
    "# Construct the DataFrame\n",
    "df_multi = pd.DataFrame({'Question': question_list, 'Answer': answer_list}, index=multi_index)\n",
    "\n",
    "# Display the DataFrame\n",
    "#df_multi"
   ]
  },
  {
   "cell_type": "markdown",
   "id": "4aaeac96-5921-43df-bc03-ca8a117362f0",
   "metadata": {},
   "source": [
    "### Visualize the Q&A ina  dataframe"
   ]
  },
  {
   "cell_type": "code",
   "execution_count": 149,
   "id": "6ec68308-f066-4f30-a755-fff28213312a",
   "metadata": {},
   "outputs": [
    {
     "data": {
      "text/html": [
       "<div>\n",
       "<style scoped>\n",
       "    .dataframe tbody tr th:only-of-type {\n",
       "        vertical-align: middle;\n",
       "    }\n",
       "\n",
       "    .dataframe tbody tr th {\n",
       "        vertical-align: top;\n",
       "    }\n",
       "\n",
       "    .dataframe thead th {\n",
       "        text-align: right;\n",
       "    }\n",
       "</style>\n",
       "<table border=\"1\" class=\"dataframe\">\n",
       "  <thead>\n",
       "    <tr style=\"text-align: right;\">\n",
       "      <th></th>\n",
       "      <th>Question</th>\n",
       "      <th>Answer</th>\n",
       "    </tr>\n",
       "  </thead>\n",
       "  <tbody>\n",
       "    <tr>\n",
       "      <th>0</th>\n",
       "      <td>How did the second superstring revolution of 1994-97 address the doubts surrounding string theory being defined only as a perturbative expansion and the need for non-perturbative physics in constructing a completely realistic model?</td>\n",
       "      <td>The second superstring revolution of 1994-97 addressed these doubts by convincingly arguing that all the different string theories and eleven-dimensional supergravity are actually limits or aspects of a unified framework called string/M theory. The central idea of duality emerged, demonstrating that the strong coupling limit of one string theory can be equivalent to another weakly coupled theory, leading to a more unified understanding of the subject.</td>\n",
       "    </tr>\n",
       "    <tr>\n",
       "      <th>1</th>\n",
       "      <td>What were some of the key discoveries that led particle physicists to consider superstring theory as a viable contender for a \"theory of everything\"?</td>\n",
       "      <td>Some key discoveries that propelled superstring theory's candidacy for a \"theory of everything\" included the development of supersymmetric versions of the theory, arguments for perturbative finiteness, discoveries of anomaly cancellations, and quasi-realistic compactifications of the heterotic string. These advancements collectively contributed to a broad consensus among physicists that superstring theory could potentially describe all of fundamental physics.</td>\n",
       "    </tr>\n",
       "    <tr>\n",
       "      <th>2</th>\n",
       "      <td>How did the concept of duality play a significant role in the development and acceptance of string/M theory as a unified framework encompassing various string theories and eleven-dimensional supergravity?</td>\n",
       "      <td>The concept of duality was crucial in the evolution of string theory towards the unified framework of string/M theory. Duality showed that seemingly distinct string theories were actually different descriptions of the same underlying physics. For example, it revealed that the strongly coupled regime of one theory could be equivalent to the weakly coupled regime of another theory. This unification through duality helped reconcile the different versions of string theory and eleven-dimensional supergravity into a singular comprehensive framework, string/M theory, contributing to a deeper understanding of the subject.</td>\n",
       "    </tr>\n",
       "    <tr>\n",
       "      <th>3</th>\n",
       "      <td>What is the central idea of duality in the context of string/M theory as mentioned in the text?</td>\n",
       "      <td>The central idea of duality in string/M theory refers to the concept that the strong coupling limit of one string theory can be equivalent to another theory that is weakly coupled, including M theory. This concept reveals that seemingly distinct theories are actually different limits or aspects of one unified framework.</td>\n",
       "    </tr>\n",
       "    <tr>\n",
       "      <th>4</th>\n",
       "      <td>How did the \"second superstring revolution\" from 1994-97 contribute to theoretical physics as mentioned in the text?</td>\n",
       "      <td>The \"second superstring revolution\" during 1994-97 played a crucial role in theoretical physics by providing nonperturbative definitions for string/M theory and offering exact solutions for the effective Lagrangians of various supersymmetric field theories. It introduced the idea of duality, which established connections between different string theories and led to a unified framework known as string/M theory.</td>\n",
       "    </tr>\n",
       "    <tr>\n",
       "      <th>...</th>\n",
       "      <td>...</td>\n",
       "      <td>...</td>\n",
       "    </tr>\n",
       "    <tr>\n",
       "      <th>94</th>\n",
       "      <td>How does the text relate the search for inflationary measures in theoretical physics to analogous problems in particle physics?</td>\n",
       "      <td>The text draws an analogy between the search for inflationary measures in theoretical physics and the hypothetical scenario of developing particle physics based on data at energies far below the natural scales of the Standard Model, suggesting that advances using precision information and very powerful supercomputers could potentially lead to inferences about the validity of certain theories even at energy scales well beyond what is experimentally accessible.</td>\n",
       "    </tr>\n",
       "    <tr>\n",
       "      <th>95</th>\n",
       "      <td>In the context of the text, what role do asymptotically free gauge theories coupled to gravity play in advancing theoretical physics and potentially leading to the Standard Model?</td>\n",
       "      <td>The text suggests that asymptotically free gauge theories coupled to gravity are identified as sensible candidates for explaining certain aspects of theoretical physics, with the hypothetical scenario indicating that with enough theoretical advances and computational power, it may be possible to develop models resembling the Standard Model, at least for the first generation of matter, by reproducing experimental observations such as the table of isotopes and radioactivity.</td>\n",
       "    </tr>\n",
       "    <tr>\n",
       "      <th>96</th>\n",
       "      <td>What challenges are encountered when considering different field theories that might lead to similar low energy physics, and how can researchers navigate through this uncertainty?</td>\n",
       "      <td>The challenges include the difficulty of predicting how many other field theories could result in similar low energy physics, leading to a period of great uncertainty where multiple competing ideas seem valid. Researchers must navigate through this uncertainty by primarily focusing on theoretical consistency and the elegance of the proposed framework.</td>\n",
       "    </tr>\n",
       "    <tr>\n",
       "      <th>97</th>\n",
       "      <td>What experimental approaches could be used to test proposals arising from field theories, particularly those related to subtle corrections and higher-energy phenomena in astrophysics?</td>\n",
       "      <td>Experimental testing of proposals from field theories could involve making precise measurements of observables like atomic masses, spectra, and radioactive decay rates to detect subtle corrections compared to Standard Model predictions. Additionally, looking for high-energy data in astrophysical phenomena, such as cosmic ray events, could provide crucial insights into the validity of these proposals.</td>\n",
       "    </tr>\n",
       "    <tr>\n",
       "      <th>98</th>\n",
       "      <td>How might exotic physics, particularly related to string theory, be observed and what role does early cosmology play in potentially providing evidence for string theory?</td>\n",
       "      <td>Exotic physics, potentially related to string theory, could be observed by studying early cosmology, where high energies are involved, often with implications for supersymmetry ($M_{susy}$). Various models of inflation in string theory offer characteristic signatures that encode stringy physics, which if accurately measured, could provide convincing evidence for the theory. Early cosmology serves as a natural testing ground for such exotic physics and stringy phenomena.</td>\n",
       "    </tr>\n",
       "  </tbody>\n",
       "</table>\n",
       "<p>99 rows × 2 columns</p>\n",
       "</div>"
      ],
      "text/plain": [
       "                                                                                                                                                                                                                                    Question  \\\n",
       "0   How did the second superstring revolution of 1994-97 address the doubts surrounding string theory being defined only as a perturbative expansion and the need for non-perturbative physics in constructing a completely realistic model?   \n",
       "1                                                                                      What were some of the key discoveries that led particle physicists to consider superstring theory as a viable contender for a \"theory of everything\"?   \n",
       "2                               How did the concept of duality play a significant role in the development and acceptance of string/M theory as a unified framework encompassing various string theories and eleven-dimensional supergravity?   \n",
       "3                                                                                                                                            What is the central idea of duality in the context of string/M theory as mentioned in the text?   \n",
       "4                                                                                                                       How did the \"second superstring revolution\" from 1994-97 contribute to theoretical physics as mentioned in the text?   \n",
       "..                                                                                                                                                                                                                                       ...   \n",
       "94                                                                                                           How does the text relate the search for inflationary measures in theoretical physics to analogous problems in particle physics?   \n",
       "95                                                       In the context of the text, what role do asymptotically free gauge theories coupled to gravity play in advancing theoretical physics and potentially leading to the Standard Model?   \n",
       "96                                                       What challenges are encountered when considering different field theories that might lead to similar low energy physics, and how can researchers navigate through this uncertainty?   \n",
       "97                                                   What experimental approaches could be used to test proposals arising from field theories, particularly those related to subtle corrections and higher-energy phenomena in astrophysics?   \n",
       "98                                                                 How might exotic physics, particularly related to string theory, be observed and what role does early cosmology play in potentially providing evidence for string theory?   \n",
       "\n",
       "                                                                                                                                                                                                                                                                                                                                                                                                                                                                                                                                                                                                                                           Answer  \n",
       "0                                                                                                                                                                         The second superstring revolution of 1994-97 addressed these doubts by convincingly arguing that all the different string theories and eleven-dimensional supergravity are actually limits or aspects of a unified framework called string/M theory. The central idea of duality emerged, demonstrating that the strong coupling limit of one string theory can be equivalent to another weakly coupled theory, leading to a more unified understanding of the subject.  \n",
       "1                                                                                                                                                                 Some key discoveries that propelled superstring theory's candidacy for a \"theory of everything\" included the development of supersymmetric versions of the theory, arguments for perturbative finiteness, discoveries of anomaly cancellations, and quasi-realistic compactifications of the heterotic string. These advancements collectively contributed to a broad consensus among physicists that superstring theory could potentially describe all of fundamental physics.  \n",
       "2   The concept of duality was crucial in the evolution of string theory towards the unified framework of string/M theory. Duality showed that seemingly distinct string theories were actually different descriptions of the same underlying physics. For example, it revealed that the strongly coupled regime of one theory could be equivalent to the weakly coupled regime of another theory. This unification through duality helped reconcile the different versions of string theory and eleven-dimensional supergravity into a singular comprehensive framework, string/M theory, contributing to a deeper understanding of the subject.  \n",
       "3                                                                                                                                                                                                                                                                                                               The central idea of duality in string/M theory refers to the concept that the strong coupling limit of one string theory can be equivalent to another theory that is weakly coupled, including M theory. This concept reveals that seemingly distinct theories are actually different limits or aspects of one unified framework.  \n",
       "4                                                                                                                                                                                                                   The \"second superstring revolution\" during 1994-97 played a crucial role in theoretical physics by providing nonperturbative definitions for string/M theory and offering exact solutions for the effective Lagrangians of various supersymmetric field theories. It introduced the idea of duality, which established connections between different string theories and led to a unified framework known as string/M theory.  \n",
       "..                                                                                                                                                                                                                                                                                                                                                                                                                                                                                                                                                                                                                                            ...  \n",
       "94                                                                                                                                                                The text draws an analogy between the search for inflationary measures in theoretical physics and the hypothetical scenario of developing particle physics based on data at energies far below the natural scales of the Standard Model, suggesting that advances using precision information and very powerful supercomputers could potentially lead to inferences about the validity of certain theories even at energy scales well beyond what is experimentally accessible.  \n",
       "95                                                                                                                                                  The text suggests that asymptotically free gauge theories coupled to gravity are identified as sensible candidates for explaining certain aspects of theoretical physics, with the hypothetical scenario indicating that with enough theoretical advances and computational power, it may be possible to develop models resembling the Standard Model, at least for the first generation of matter, by reproducing experimental observations such as the table of isotopes and radioactivity.  \n",
       "96                                                                                                                                                                                                                                                                              The challenges include the difficulty of predicting how many other field theories could result in similar low energy physics, leading to a period of great uncertainty where multiple competing ideas seem valid. Researchers must navigate through this uncertainty by primarily focusing on theoretical consistency and the elegance of the proposed framework.  \n",
       "97                                                                                                                                                                                                                            Experimental testing of proposals from field theories could involve making precise measurements of observables like atomic masses, spectra, and radioactive decay rates to detect subtle corrections compared to Standard Model predictions. Additionally, looking for high-energy data in astrophysical phenomena, such as cosmic ray events, could provide crucial insights into the validity of these proposals.  \n",
       "98                                                                                                                                                     Exotic physics, potentially related to string theory, could be observed by studying early cosmology, where high energies are involved, often with implications for supersymmetry ($M_{susy}$). Various models of inflation in string theory offer characteristic signatures that encode stringy physics, which if accurately measured, could provide convincing evidence for the theory. Early cosmology serves as a natural testing ground for such exotic physics and stringy phenomena.  \n",
       "\n",
       "[99 rows x 2 columns]"
      ]
     },
     "execution_count": 149,
     "metadata": {},
     "output_type": "execute_result"
    }
   ],
   "source": [
    "qa_df = pd.DataFrame({\n",
    "    'Question': question_list,\n",
    "    'Answer': answer_list\n",
    "})\n",
    "\n",
    "qa_df = qa_df\n",
    "qa_df"
   ]
  },
  {
   "cell_type": "markdown",
   "id": "a762fcc6-3661-4a14-a226-78e1249139d5",
   "metadata": {},
   "source": [
    "### Save the dataframe in a csv and parquet format"
   ]
  },
  {
   "cell_type": "code",
   "execution_count": 152,
   "id": "15dc12e2-25b6-4384-9248-acdb5cc3192d",
   "metadata": {},
   "outputs": [],
   "source": [
    "qa_df.to_csv(\"Datasets/0701050.csv\")\n",
    "qa_df.to_parquet(\"Datasets/0701050.parquet\")"
   ]
  },
  {
   "cell_type": "markdown",
   "id": "ee5cb29c-62c8-4893-b08b-cb304802c932",
   "metadata": {},
   "source": [
    "### Upload csv datasets for further processing"
   ]
  },
  {
   "cell_type": "code",
   "execution_count": 153,
   "id": "35af2d70-622f-4d81-9944-4e5b29911e34",
   "metadata": {},
   "outputs": [
    {
     "data": {
      "text/html": [
       "<div>\n",
       "<style scoped>\n",
       "    .dataframe tbody tr th:only-of-type {\n",
       "        vertical-align: middle;\n",
       "    }\n",
       "\n",
       "    .dataframe tbody tr th {\n",
       "        vertical-align: top;\n",
       "    }\n",
       "\n",
       "    .dataframe thead th {\n",
       "        text-align: right;\n",
       "    }\n",
       "</style>\n",
       "<table border=\"1\" class=\"dataframe\">\n",
       "  <thead>\n",
       "    <tr style=\"text-align: right;\">\n",
       "      <th></th>\n",
       "      <th>Question</th>\n",
       "      <th>Answer</th>\n",
       "    </tr>\n",
       "  </thead>\n",
       "  <tbody>\n",
       "    <tr>\n",
       "      <th>0</th>\n",
       "      <td>How did the second superstring revolution of 1994-97 address the doubts surrounding string theory being defined only as a perturbative expansion and the need for non-perturbative physics in constructing a completely realistic model?</td>\n",
       "      <td>The second superstring revolution of 1994-97 addressed these doubts by convincingly arguing that all the different string theories and eleven-dimensional supergravity are actually limits or aspects of a unified framework called string/M theory. The central idea of duality emerged, demonstrating that the strong coupling limit of one string theory can be equivalent to another weakly coupled theory, leading to a more unified understanding of the subject.</td>\n",
       "    </tr>\n",
       "    <tr>\n",
       "      <th>1</th>\n",
       "      <td>What were some of the key discoveries that led particle physicists to consider superstring theory as a viable contender for a \"theory of everything\"?</td>\n",
       "      <td>Some key discoveries that propelled superstring theory's candidacy for a \"theory of everything\" included the development of supersymmetric versions of the theory, arguments for perturbative finiteness, discoveries of anomaly cancellations, and quasi-realistic compactifications of the heterotic string. These advancements collectively contributed to a broad consensus among physicists that superstring theory could potentially describe all of fundamental physics.</td>\n",
       "    </tr>\n",
       "    <tr>\n",
       "      <th>2</th>\n",
       "      <td>How did the concept of duality play a significant role in the development and acceptance of string/M theory as a unified framework encompassing various string theories and eleven-dimensional supergravity?</td>\n",
       "      <td>The concept of duality was crucial in the evolution of string theory towards the unified framework of string/M theory. Duality showed that seemingly distinct string theories were actually different descriptions of the same underlying physics. For example, it revealed that the strongly coupled regime of one theory could be equivalent to the weakly coupled regime of another theory. This unification through duality helped reconcile the different versions of string theory and eleven-dimensional supergravity into a singular comprehensive framework, string/M theory, contributing to a deeper understanding of the subject.</td>\n",
       "    </tr>\n",
       "    <tr>\n",
       "      <th>3</th>\n",
       "      <td>What is the central idea of duality in the context of string/M theory as mentioned in the text?</td>\n",
       "      <td>The central idea of duality in string/M theory refers to the concept that the strong coupling limit of one string theory can be equivalent to another theory that is weakly coupled, including M theory. This concept reveals that seemingly distinct theories are actually different limits or aspects of one unified framework.</td>\n",
       "    </tr>\n",
       "    <tr>\n",
       "      <th>4</th>\n",
       "      <td>How did the \"second superstring revolution\" from 1994-97 contribute to theoretical physics as mentioned in the text?</td>\n",
       "      <td>The \"second superstring revolution\" during 1994-97 played a crucial role in theoretical physics by providing nonperturbative definitions for string/M theory and offering exact solutions for the effective Lagrangians of various supersymmetric field theories. It introduced the idea of duality, which established connections between different string theories and led to a unified framework known as string/M theory.</td>\n",
       "    </tr>\n",
       "    <tr>\n",
       "      <th>...</th>\n",
       "      <td>...</td>\n",
       "      <td>...</td>\n",
       "    </tr>\n",
       "    <tr>\n",
       "      <th>94</th>\n",
       "      <td>How does the text relate the search for inflationary measures in theoretical physics to analogous problems in particle physics?</td>\n",
       "      <td>The text draws an analogy between the search for inflationary measures in theoretical physics and the hypothetical scenario of developing particle physics based on data at energies far below the natural scales of the Standard Model, suggesting that advances using precision information and very powerful supercomputers could potentially lead to inferences about the validity of certain theories even at energy scales well beyond what is experimentally accessible.</td>\n",
       "    </tr>\n",
       "    <tr>\n",
       "      <th>95</th>\n",
       "      <td>In the context of the text, what role do asymptotically free gauge theories coupled to gravity play in advancing theoretical physics and potentially leading to the Standard Model?</td>\n",
       "      <td>The text suggests that asymptotically free gauge theories coupled to gravity are identified as sensible candidates for explaining certain aspects of theoretical physics, with the hypothetical scenario indicating that with enough theoretical advances and computational power, it may be possible to develop models resembling the Standard Model, at least for the first generation of matter, by reproducing experimental observations such as the table of isotopes and radioactivity.</td>\n",
       "    </tr>\n",
       "    <tr>\n",
       "      <th>96</th>\n",
       "      <td>What challenges are encountered when considering different field theories that might lead to similar low energy physics, and how can researchers navigate through this uncertainty?</td>\n",
       "      <td>The challenges include the difficulty of predicting how many other field theories could result in similar low energy physics, leading to a period of great uncertainty where multiple competing ideas seem valid. Researchers must navigate through this uncertainty by primarily focusing on theoretical consistency and the elegance of the proposed framework.</td>\n",
       "    </tr>\n",
       "    <tr>\n",
       "      <th>97</th>\n",
       "      <td>What experimental approaches could be used to test proposals arising from field theories, particularly those related to subtle corrections and higher-energy phenomena in astrophysics?</td>\n",
       "      <td>Experimental testing of proposals from field theories could involve making precise measurements of observables like atomic masses, spectra, and radioactive decay rates to detect subtle corrections compared to Standard Model predictions. Additionally, looking for high-energy data in astrophysical phenomena, such as cosmic ray events, could provide crucial insights into the validity of these proposals.</td>\n",
       "    </tr>\n",
       "    <tr>\n",
       "      <th>98</th>\n",
       "      <td>How might exotic physics, particularly related to string theory, be observed and what role does early cosmology play in potentially providing evidence for string theory?</td>\n",
       "      <td>Exotic physics, potentially related to string theory, could be observed by studying early cosmology, where high energies are involved, often with implications for supersymmetry ($M_{susy}$). Various models of inflation in string theory offer characteristic signatures that encode stringy physics, which if accurately measured, could provide convincing evidence for the theory. Early cosmology serves as a natural testing ground for such exotic physics and stringy phenomena.</td>\n",
       "    </tr>\n",
       "  </tbody>\n",
       "</table>\n",
       "<p>99 rows × 2 columns</p>\n",
       "</div>"
      ],
      "text/plain": [
       "                                                                                                                                                                                                                                    Question  \\\n",
       "0   How did the second superstring revolution of 1994-97 address the doubts surrounding string theory being defined only as a perturbative expansion and the need for non-perturbative physics in constructing a completely realistic model?   \n",
       "1                                                                                      What were some of the key discoveries that led particle physicists to consider superstring theory as a viable contender for a \"theory of everything\"?   \n",
       "2                               How did the concept of duality play a significant role in the development and acceptance of string/M theory as a unified framework encompassing various string theories and eleven-dimensional supergravity?   \n",
       "3                                                                                                                                            What is the central idea of duality in the context of string/M theory as mentioned in the text?   \n",
       "4                                                                                                                       How did the \"second superstring revolution\" from 1994-97 contribute to theoretical physics as mentioned in the text?   \n",
       "..                                                                                                                                                                                                                                       ...   \n",
       "94                                                                                                           How does the text relate the search for inflationary measures in theoretical physics to analogous problems in particle physics?   \n",
       "95                                                       In the context of the text, what role do asymptotically free gauge theories coupled to gravity play in advancing theoretical physics and potentially leading to the Standard Model?   \n",
       "96                                                       What challenges are encountered when considering different field theories that might lead to similar low energy physics, and how can researchers navigate through this uncertainty?   \n",
       "97                                                   What experimental approaches could be used to test proposals arising from field theories, particularly those related to subtle corrections and higher-energy phenomena in astrophysics?   \n",
       "98                                                                 How might exotic physics, particularly related to string theory, be observed and what role does early cosmology play in potentially providing evidence for string theory?   \n",
       "\n",
       "                                                                                                                                                                                                                                                                                                                                                                                                                                                                                                                                                                                                                                           Answer  \n",
       "0                                                                                                                                                                         The second superstring revolution of 1994-97 addressed these doubts by convincingly arguing that all the different string theories and eleven-dimensional supergravity are actually limits or aspects of a unified framework called string/M theory. The central idea of duality emerged, demonstrating that the strong coupling limit of one string theory can be equivalent to another weakly coupled theory, leading to a more unified understanding of the subject.  \n",
       "1                                                                                                                                                                 Some key discoveries that propelled superstring theory's candidacy for a \"theory of everything\" included the development of supersymmetric versions of the theory, arguments for perturbative finiteness, discoveries of anomaly cancellations, and quasi-realistic compactifications of the heterotic string. These advancements collectively contributed to a broad consensus among physicists that superstring theory could potentially describe all of fundamental physics.  \n",
       "2   The concept of duality was crucial in the evolution of string theory towards the unified framework of string/M theory. Duality showed that seemingly distinct string theories were actually different descriptions of the same underlying physics. For example, it revealed that the strongly coupled regime of one theory could be equivalent to the weakly coupled regime of another theory. This unification through duality helped reconcile the different versions of string theory and eleven-dimensional supergravity into a singular comprehensive framework, string/M theory, contributing to a deeper understanding of the subject.  \n",
       "3                                                                                                                                                                                                                                                                                                               The central idea of duality in string/M theory refers to the concept that the strong coupling limit of one string theory can be equivalent to another theory that is weakly coupled, including M theory. This concept reveals that seemingly distinct theories are actually different limits or aspects of one unified framework.  \n",
       "4                                                                                                                                                                                                                   The \"second superstring revolution\" during 1994-97 played a crucial role in theoretical physics by providing nonperturbative definitions for string/M theory and offering exact solutions for the effective Lagrangians of various supersymmetric field theories. It introduced the idea of duality, which established connections between different string theories and led to a unified framework known as string/M theory.  \n",
       "..                                                                                                                                                                                                                                                                                                                                                                                                                                                                                                                                                                                                                                            ...  \n",
       "94                                                                                                                                                                The text draws an analogy between the search for inflationary measures in theoretical physics and the hypothetical scenario of developing particle physics based on data at energies far below the natural scales of the Standard Model, suggesting that advances using precision information and very powerful supercomputers could potentially lead to inferences about the validity of certain theories even at energy scales well beyond what is experimentally accessible.  \n",
       "95                                                                                                                                                  The text suggests that asymptotically free gauge theories coupled to gravity are identified as sensible candidates for explaining certain aspects of theoretical physics, with the hypothetical scenario indicating that with enough theoretical advances and computational power, it may be possible to develop models resembling the Standard Model, at least for the first generation of matter, by reproducing experimental observations such as the table of isotopes and radioactivity.  \n",
       "96                                                                                                                                                                                                                                                                              The challenges include the difficulty of predicting how many other field theories could result in similar low energy physics, leading to a period of great uncertainty where multiple competing ideas seem valid. Researchers must navigate through this uncertainty by primarily focusing on theoretical consistency and the elegance of the proposed framework.  \n",
       "97                                                                                                                                                                                                                            Experimental testing of proposals from field theories could involve making precise measurements of observables like atomic masses, spectra, and radioactive decay rates to detect subtle corrections compared to Standard Model predictions. Additionally, looking for high-energy data in astrophysical phenomena, such as cosmic ray events, could provide crucial insights into the validity of these proposals.  \n",
       "98                                                                                                                                                     Exotic physics, potentially related to string theory, could be observed by studying early cosmology, where high energies are involved, often with implications for supersymmetry ($M_{susy}$). Various models of inflation in string theory offer characteristic signatures that encode stringy physics, which if accurately measured, could provide convincing evidence for the theory. Early cosmology serves as a natural testing ground for such exotic physics and stringy phenomena.  \n",
       "\n",
       "[99 rows x 2 columns]"
      ]
     },
     "execution_count": 153,
     "metadata": {},
     "output_type": "execute_result"
    }
   ],
   "source": [
    "df_test = pd.read_csv(\"Datasets/0701050.csv\", index_col=0)\n",
    "df_test"
   ]
  },
  {
   "cell_type": "markdown",
   "id": "98d72ec2-1596-44f3-b29a-39a6e781b333",
   "metadata": {},
   "source": [
    "### Concatenate all datasets from various papers to create a single dataset about string phenomenology (and save it)"
   ]
  },
  {
   "cell_type": "code",
   "execution_count": 161,
   "id": "6a46a959-4a34-4548-b044-7fc1a946d72c",
   "metadata": {},
   "outputs": [
    {
     "data": {
      "text/html": [
       "<div>\n",
       "<style scoped>\n",
       "    .dataframe tbody tr th:only-of-type {\n",
       "        vertical-align: middle;\n",
       "    }\n",
       "\n",
       "    .dataframe tbody tr th {\n",
       "        vertical-align: top;\n",
       "    }\n",
       "\n",
       "    .dataframe thead th {\n",
       "        text-align: right;\n",
       "    }\n",
       "</style>\n",
       "<table border=\"1\" class=\"dataframe\">\n",
       "  <thead>\n",
       "    <tr style=\"text-align: right;\">\n",
       "      <th></th>\n",
       "      <th>Question</th>\n",
       "      <th>Answer</th>\n",
       "    </tr>\n",
       "  </thead>\n",
       "  <tbody>\n",
       "    <tr>\n",
       "      <th>0</th>\n",
       "      <td>Can dS vacua be obtained in the IIB setting, and what are the methods or approaches suggested to achieve this?</td>\n",
       "      <td>Yes, it is possible to obtain de Sitter (dS) vacua in the IIB setting by incorporating additional effects from the low energy effective action or by adopting a more generalized approach to seeking minima of the effective action. Various proposals have been put forward to construct dS vacua. These proposals can be found in recent research that summarizes the state of the art in dS constructions and highlights the challenges involved. Additional strategies include incorporating anti-branes, which were originally proposed as part of the KKLT construction.</td>\n",
       "    </tr>\n",
       "    <tr>\n",
       "      <th>1</th>\n",
       "      <td>What role do the slow-roll conditions play in multi-field inflation, and how do they relate to the decomposition of the inflationary trajectory into tangent and normal directions?</td>\n",
       "      <td>In multi-field inflation, the slow-roll conditions are essential for ensuring the smooth evolution of the scalar fields and the inflationary dynamics. These conditions constrain the time derivatives of the scalar fields and their gradient with respect to the potential. By utilizing a kinematic basis, one can decompose the inflationary trajectory into adiabatic (tangent) and entropic (normal) directions, which simplifies the analysis and understanding of the inflationary dynamics.</td>\n",
       "    </tr>\n",
       "    <tr>\n",
       "      <th>2</th>\n",
       "      <td>How does the distribution of flux values in the model impact the number of solutions, and how does the choice of parameters affect the range of possible solutions?</td>\n",
       "      <td>The distribution of flux values in the model plays a crucial role in determining the number of solutions. The regularity in the distribution of flux values affects the intervals in which the cosmological constant falls. By making the flux values sufficiently different, one can ensure a more realistic situation. The choice of parameters, such as the size of the flux couplings and the range of the cosmological constant, influences the diversity and quantity of solutions in the model.</td>\n",
       "    </tr>\n",
       "    <tr>\n",
       "      <th>3</th>\n",
       "      <td>How does the inclusion of Kaluza-Klein (KK) modes within the $R^d$-dimensional theory relate to the universal quantum gravity bound and the effective theory's scale?</td>\n",
       "      <td>Including the KK modes within the $R^d$-dimensional theory allows for a quantitative analysis of how many modes can be accommodated before reaching the universal quantum gravity bound, which is the $R^d$-dimensional Planck mass. This counting of KK modes provides insights into the effective description of higher-dimensional theories and helps ascertain the consistency and limitations of the effective field theory approach within the framework of string theory.</td>\n",
       "    </tr>\n",
       "    <tr>\n",
       "      <th>4</th>\n",
       "      <td>What are some of the key criticisms or challenges faced by the swampland approach and the Planckian censorship conjecture in particular?</td>\n",
       "      <td>Some criticisms and challenges faced by the swampland approach, including the Planckian censorship conjecture, involve the speculative nature of these concepts and the lack of a clear explanatory framework for certain restrictions they propose. Critics have raised questions about the relevance of constraints on EFTs imposed by such conjectures and the need for further empirical and theoretical justifications to validate their implications. Additionally, the swampland approach has been perceived as less motivated compared to other conjectures in the field, leading to debates about its significance and impact on advancing our understanding of quantum gravity and cosmology.</td>\n",
       "    </tr>\n",
       "    <tr>\n",
       "      <th>...</th>\n",
       "      <td>...</td>\n",
       "      <td>...</td>\n",
       "    </tr>\n",
       "    <tr>\n",
       "      <th>5197</th>\n",
       "      <td>What are bifurcated throats and how do they address backreaction effects in the model mentioned in the text?</td>\n",
       "      <td>Bifurcated throats are a theoretical construct used in string theory and braneworld scenarios where the geometry of spacetime bifurcates into separate regions resembling 'throats'. These throats can be used to address backreaction effects by providing a way to localize different types of matter fields or interactions in distinct regions, thereby mitigating the impact of backreactions.</td>\n",
       "    </tr>\n",
       "    <tr>\n",
       "      <th>5198</th>\n",
       "      <td>In the context of string inflationary scenarios, what distinguishes the classes of models focused on in the text from the broader set of string-inspired models present in the literature?</td>\n",
       "      <td>The classes of models focused on in the text represent the most developed string inflationary scenarios. These models have concrete proposals within the framework of string theory and have been studied extensively in terms of their theoretical implications and observational predictions. On the other hand, the broader set of string-inspired models in the literature includes proposals that are based on ideas from string theory but may lack a solid stringy embedding or detailed mechanisms for moduli stabilization. While these broader models contribute to the diversity of ideas in the field, they may not have the same level of theoretical development and predictive power as the more focused classes of string inflation models discussed in the text.</td>\n",
       "    </tr>\n",
       "    <tr>\n",
       "      <th>5199</th>\n",
       "      <td>What is the significance of the DBI inflation scenario and its non-canonical kinetic terms in the context of theoretical physics?</td>\n",
       "      <td>The DBI inflation scenario is significant in theoretical physics as it presents a framework beyond the slow-roll approximation for achieving accelerated expansion. Non-canonical kinetic terms arising from the DBI action introduce new dynamics that can lead to unique inflationary phenomenology and contribute to the understanding of early universe dynamics.</td>\n",
       "    </tr>\n",
       "    <tr>\n",
       "      <th>5200</th>\n",
       "      <td>What is the significance of the equation of state of dark energy changing with time, and how does it relate to inflationary cosmology?</td>\n",
       "      <td>The changing equation of state of dark energy during quintessence is significant as it can lead to an accelerated expansion of the universe. This behavior is similar to inflationary cosmology, where the equation of state of the inflaton field drives a rapid expansion in the early universe. The evolving equation of state during quintessence can lead to different behaviors of the dark energy field over time, with potential implications for the ultimate fate of the universe.</td>\n",
       "    </tr>\n",
       "    <tr>\n",
       "      <th>5201</th>\n",
       "      <td>How do the Polchinski equation and the Wetterich equation relate to the RG evolution and the effective average action in quantum field theory?</td>\n",
       "      <td>The Polchinski equation and the Wetterich equation are differential equations that describe the RG flow of the Wilsonian effective action in quantum field theory. These equations provide insights into how the couplings of the theory evolve as one changes the energy scale. The Wetterich equation, specifically for the effective average action, is particularly useful in studying the theory's behavior across scales.</td>\n",
       "    </tr>\n",
       "  </tbody>\n",
       "</table>\n",
       "<p>5202 rows × 2 columns</p>\n",
       "</div>"
      ],
      "text/plain": [
       "                                                                                                                                                                                        Question  \\\n",
       "0                                                                                 Can dS vacua be obtained in the IIB setting, and what are the methods or approaches suggested to achieve this?   \n",
       "1            What role do the slow-roll conditions play in multi-field inflation, and how do they relate to the decomposition of the inflationary trajectory into tangent and normal directions?   \n",
       "2                            How does the distribution of flux values in the model impact the number of solutions, and how does the choice of parameters affect the range of possible solutions?   \n",
       "3                          How does the inclusion of Kaluza-Klein (KK) modes within the $R^d$-dimensional theory relate to the universal quantum gravity bound and the effective theory's scale?   \n",
       "4                                                       What are some of the key criticisms or challenges faced by the swampland approach and the Planckian censorship conjecture in particular?   \n",
       "...                                                                                                                                                                                          ...   \n",
       "5197                                                                                What are bifurcated throats and how do they address backreaction effects in the model mentioned in the text?   \n",
       "5198  In the context of string inflationary scenarios, what distinguishes the classes of models focused on in the text from the broader set of string-inspired models present in the literature?   \n",
       "5199                                                           What is the significance of the DBI inflation scenario and its non-canonical kinetic terms in the context of theoretical physics?   \n",
       "5200                                                      What is the significance of the equation of state of dark energy changing with time, and how does it relate to inflationary cosmology?   \n",
       "5201                                              How do the Polchinski equation and the Wetterich equation relate to the RG evolution and the effective average action in quantum field theory?   \n",
       "\n",
       "                                                                                                                                                                                                                                                                                                                                                                                                                                                                                                                                                                                                                                                                                                                                                                                 Answer  \n",
       "0                                                                                                                                                                                                        Yes, it is possible to obtain de Sitter (dS) vacua in the IIB setting by incorporating additional effects from the low energy effective action or by adopting a more generalized approach to seeking minima of the effective action. Various proposals have been put forward to construct dS vacua. These proposals can be found in recent research that summarizes the state of the art in dS constructions and highlights the challenges involved. Additional strategies include incorporating anti-branes, which were originally proposed as part of the KKLT construction.  \n",
       "1                                                                                                                                                                                                                                                                                  In multi-field inflation, the slow-roll conditions are essential for ensuring the smooth evolution of the scalar fields and the inflationary dynamics. These conditions constrain the time derivatives of the scalar fields and their gradient with respect to the potential. By utilizing a kinematic basis, one can decompose the inflationary trajectory into adiabatic (tangent) and entropic (normal) directions, which simplifies the analysis and understanding of the inflationary dynamics.  \n",
       "2                                                                                                                                                                                                                                                                                The distribution of flux values in the model plays a crucial role in determining the number of solutions. The regularity in the distribution of flux values affects the intervals in which the cosmological constant falls. By making the flux values sufficiently different, one can ensure a more realistic situation. The choice of parameters, such as the size of the flux couplings and the range of the cosmological constant, influences the diversity and quantity of solutions in the model.  \n",
       "3                                                                                                                                                                                                                                                                                                      Including the KK modes within the $R^d$-dimensional theory allows for a quantitative analysis of how many modes can be accommodated before reaching the universal quantum gravity bound, which is the $R^d$-dimensional Planck mass. This counting of KK modes provides insights into the effective description of higher-dimensional theories and helps ascertain the consistency and limitations of the effective field theory approach within the framework of string theory.  \n",
       "4                                                                               Some criticisms and challenges faced by the swampland approach, including the Planckian censorship conjecture, involve the speculative nature of these concepts and the lack of a clear explanatory framework for certain restrictions they propose. Critics have raised questions about the relevance of constraints on EFTs imposed by such conjectures and the need for further empirical and theoretical justifications to validate their implications. Additionally, the swampland approach has been perceived as less motivated compared to other conjectures in the field, leading to debates about its significance and impact on advancing our understanding of quantum gravity and cosmology.  \n",
       "...                                                                                                                                                                                                                                                                                                                                                                                                                                                                                                                                                                                                                                                                                                                                                                                 ...  \n",
       "5197                                                                                                                                                                                                                                                                                                                                                                                Bifurcated throats are a theoretical construct used in string theory and braneworld scenarios where the geometry of spacetime bifurcates into separate regions resembling 'throats'. These throats can be used to address backreaction effects by providing a way to localize different types of matter fields or interactions in distinct regions, thereby mitigating the impact of backreactions.  \n",
       "5198  The classes of models focused on in the text represent the most developed string inflationary scenarios. These models have concrete proposals within the framework of string theory and have been studied extensively in terms of their theoretical implications and observational predictions. On the other hand, the broader set of string-inspired models in the literature includes proposals that are based on ideas from string theory but may lack a solid stringy embedding or detailed mechanisms for moduli stabilization. While these broader models contribute to the diversity of ideas in the field, they may not have the same level of theoretical development and predictive power as the more focused classes of string inflation models discussed in the text.  \n",
       "5199                                                                                                                                                                                                                                                                                                                                                                                                              The DBI inflation scenario is significant in theoretical physics as it presents a framework beyond the slow-roll approximation for achieving accelerated expansion. Non-canonical kinetic terms arising from the DBI action introduce new dynamics that can lead to unique inflationary phenomenology and contribute to the understanding of early universe dynamics.  \n",
       "5200                                                                                                                                                                                                                                                                                       The changing equation of state of dark energy during quintessence is significant as it can lead to an accelerated expansion of the universe. This behavior is similar to inflationary cosmology, where the equation of state of the inflaton field drives a rapid expansion in the early universe. The evolving equation of state during quintessence can lead to different behaviors of the dark energy field over time, with potential implications for the ultimate fate of the universe.  \n",
       "5201                                                                                                                                                                                                                                                                                                                                                    The Polchinski equation and the Wetterich equation are differential equations that describe the RG flow of the Wilsonian effective action in quantum field theory. These equations provide insights into how the couplings of the theory evolve as one changes the energy scale. The Wetterich equation, specifically for the effective average action, is particularly useful in studying the theory's behavior across scales.  \n",
       "\n",
       "[5202 rows x 2 columns]"
      ]
     },
     "execution_count": 161,
     "metadata": {},
     "output_type": "execute_result"
    }
   ],
   "source": [
    "from sklearn.utils import shuffle\n",
    "\n",
    "directory_path = 'Datasets/'\n",
    "\n",
    "# Initialize a list to hold the dataframes\n",
    "dataframes = []\n",
    "\n",
    "# Iterate through all files in the directory\n",
    "for filename in os.listdir(directory_path):\n",
    "    if filename.endswith('.csv'):\n",
    "        # Load each CSV file into a DataFrame, excluding the index\n",
    "        df_temp = pd.read_csv(os.path.join(directory_path, filename), index_col=0)\n",
    "        # Append the DataFrame to the list\n",
    "        dataframes.append(df_temp)\n",
    "\n",
    "# Concatenate all the DataFrames into a single DataFrame\n",
    "concatenated_df = pd.concat(dataframes, ignore_index=True)\n",
    "\n",
    "# Shuffle the rows of the concatenated DataFrame\n",
    "shuffled_df = shuffle(concatenated_df)\n",
    "\n",
    "# Reset the index to get rid of the old indexing\n",
    "shuffled_df.reset_index(drop=True, inplace=True)\n",
    "\n",
    "shuffled_df"
   ]
  },
  {
   "cell_type": "code",
   "execution_count": 159,
   "id": "af51f10e-e2d3-4a2b-ac63-2cec85e3bec8",
   "metadata": {},
   "outputs": [],
   "source": [
    "shuffled_df.to_csv(\"Datasets/StringPhenoDataset.csv\")\n",
    "shuffled_df.to_parquet(\"Datasets/StringPhenoDataset.parquet\")"
   ]
  },
  {
   "cell_type": "code",
   "execution_count": null,
   "id": "2ce2d1df-5586-4724-babb-6bc916fd0183",
   "metadata": {},
   "outputs": [],
   "source": []
  }
 ],
 "metadata": {
  "kernelspec": {
   "display_name": "Python 3 (ipykernel)",
   "language": "python",
   "name": "python3"
  },
  "language_info": {
   "codemirror_mode": {
    "name": "ipython",
    "version": 3
   },
   "file_extension": ".py",
   "mimetype": "text/x-python",
   "name": "python",
   "nbconvert_exporter": "python",
   "pygments_lexer": "ipython3",
   "version": "3.8.18"
  }
 },
 "nbformat": 4,
 "nbformat_minor": 5
}
