{
 "cells": [
  {
   "cell_type": "code",
   "execution_count": 1,
   "id": "12c59658-2082-4bad-a588-0b03d8535cee",
   "metadata": {},
   "outputs": [],
   "source": [
    "from aux.aux_functions import *"
   ]
  },
  {
   "cell_type": "code",
   "execution_count": 2,
   "id": "f7ae6f91-50ec-41d4-850a-d2fbc1f5329a",
   "metadata": {},
   "outputs": [],
   "source": [
    "import openai\n",
    "from openai import OpenAI"
   ]
  },
  {
   "cell_type": "code",
   "execution_count": 3,
   "id": "57d20c45-382c-4fbe-9cc8-0135faab0828",
   "metadata": {},
   "outputs": [],
   "source": [
    "import pandas as pd\n",
    "pd.set_option('display.max_colwidth', None)\n",
    "\n",
    "from IPython.display import display"
   ]
  },
  {
   "cell_type": "code",
   "execution_count": 4,
   "id": "55e6ab95-38f2-4b52-9969-4692392acb2a",
   "metadata": {},
   "outputs": [],
   "source": [
    "from dotenv import load_dotenv\n",
    "import os\n",
    "\n",
    "load_dotenv(\"/Users/fmuia/Dropbox/NLP/Llama-FineTuning/config.env\")\n",
    "open_ai_key = os.getenv(\"OPENAI_API_KEY\")"
   ]
  },
  {
   "cell_type": "code",
   "execution_count": 5,
   "id": "a3f6caec-9dc5-427d-ba82-81f8631de121",
   "metadata": {},
   "outputs": [],
   "source": [
    "# Specify the path to your LaTeX file\n",
    "latex_file_path = 'Files/2310.20559/main.tex'\n",
    "\n",
    "# Extract the LaTeX content\n",
    "latex_content = extract_latex_content(latex_file_path)\n",
    "\n",
    "# For demonstration, let's print the first 500 characters to check if it worked\n",
    "#print(latex_content[:15000])"
   ]
  },
  {
   "cell_type": "code",
   "execution_count": 10,
   "id": "b5767164-314d-43c1-abde-a72a5a1e72b2",
   "metadata": {},
   "outputs": [],
   "source": [
    "simplified_text = replace_latex_commands(latex_content)\n",
    "#simplified_text"
   ]
  },
  {
   "cell_type": "code",
   "execution_count": 11,
   "id": "5dcd13f1-e456-46f9-982f-6d983e6f7424",
   "metadata": {},
   "outputs": [],
   "source": [
    "polished_text = clean_latex_content(simplified_text)\n",
    "#polished_text"
   ]
  },
  {
   "cell_type": "code",
   "execution_count": 12,
   "id": "46643129-00c6-4d0a-a094-9cdaa50f8fd0",
   "metadata": {},
   "outputs": [
    {
     "name": "stdout",
     "output_type": "stream",
     "text": [
      "The number of chunks is: 143.\n"
     ]
    }
   ],
   "source": [
    "no_char_in_chunk = 2000\n",
    "\n",
    "chunks = chunk_text(polished_text, no_char_in_chunk)\n",
    "chunks = [chunk.replace(\"%\", \"\") for chunk in chunks]\n",
    "print(\"The number of chunks is: \" + str(len(chunks)) + \".\")\n",
    "#chunks[:2]"
   ]
  },
  {
   "cell_type": "code",
   "execution_count": 14,
   "id": "f7ad7f96-f714-4855-9dc2-7d43b677a33e",
   "metadata": {},
   "outputs": [],
   "source": [
    "# Define the number of Q&A pairs you want to generate for each chunk\n",
    "num_questions = 3"
   ]
  },
  {
   "cell_type": "code",
   "execution_count": 15,
   "id": "f00a0b77-3438-42f6-abda-6ca258fc1be6",
   "metadata": {},
   "outputs": [
    {
     "data": {
      "text/plain": [
       "\"You are an expert in theoretical physics. I will provide a text, and I'd like you to generate {num_questions} questions a researcher-level colleague might ask about the topic of the text. Then, provide detailed answers to these questions as an expeert in the field. Format your responses as follows: 'Question 1: [question here] Answer 1: [answer here]' and so on for all {num_questions} questions.\""
      ]
     },
     "metadata": {},
     "output_type": "display_data"
    },
    {
     "data": {
      "text/plain": [
       "'Based on the following text, please generate the questions and answers as instructed. Text: {chunk}'"
      ]
     },
     "metadata": {},
     "output_type": "display_data"
    }
   ],
   "source": [
    "system_prompt_template = \"You are an expert in theoretical physics. I will provide a text, and I'd like you to generate {num_questions} questions a researcher-level colleague might ask about the topic of the text. Then, provide detailed answers to these questions as an expeert in the field. Format your responses as follows: 'Question 1: [question here] Answer 1: [answer here]' and so on for all {num_questions} questions.\"\n",
    "\n",
    "user_prompt_template = \"Based on the following text, please generate the questions and answers as instructed. Text: {chunk}\"\n",
    "\n",
    "display(system_prompt_template)\n",
    "display(user_prompt_template)\n"
   ]
  },
  {
   "cell_type": "code",
   "execution_count": 16,
   "id": "321724c6-e549-4f54-a143-1fed40c5bb4e",
   "metadata": {},
   "outputs": [],
   "source": [
    "client = OpenAI()\n",
    "\n",
    "# Initialize a list to store chunk and response pairs\n",
    "chunk_responses = []\n",
    "\n",
    "# Assume chunks_test is a list of text chunks you want to generate Q&A for\n",
    "for chunk in chunks:\n",
    "    system_prompt, user_prompt = generate_prompt(chunk, num_questions, system_prompt_template, user_prompt_template)\n",
    "    \n",
    "    # Call the OpenAI API once per chunk\n",
    "    response = client.chat.completions.create(\n",
    "        model=\"gpt-3.5-turbo-0125\",\n",
    "        messages=[system_prompt, user_prompt]\n",
    "    )\n",
    "    \n",
    "    # Append both the chunk and its response to the chunk_responses list\n",
    "    chunk_responses.append({\n",
    "        \"chunk\": chunk,\n",
    "        \"response\": response.choices[-1].message.content if response.choices else \"No response\"\n",
    "    })\n"
   ]
  },
  {
   "cell_type": "code",
   "execution_count": 17,
   "id": "75f9005a-3950-464b-9365-391df1f86cb1",
   "metadata": {},
   "outputs": [],
   "source": [
    "# Initialize lists to hold the DataFrame data\n",
    "chunk_list = []\n",
    "question_list = []\n",
    "answer_list = []\n",
    "sub_index = []\n",
    "\n",
    "# Process each chunk-response pair\n",
    "for item in chunk_responses:\n",
    "    chunk = item['chunk']\n",
    "    response = item['response']\n",
    "    \n",
    "    # Split the response into Q&As\n",
    "    qas = response.split('\\n\\n')  # Assuming two newlines separate each Q&A pair\n",
    "    for i, qa in enumerate(qas):\n",
    "        # Attempt to split the QA into question and answer\n",
    "        parts = qa.split('\\nAnswer ')\n",
    "        if len(parts) == 2:\n",
    "            question = parts[0].replace('Question {}: '.format(i+1), '').strip()\n",
    "            answer = parts[1].strip()\n",
    "            chunk_list.append(chunk)\n",
    "            question_list.append(question)\n",
    "            answer_list.append(answer)\n",
    "            sub_index.append(i+1)"
   ]
  },
  {
   "cell_type": "code",
   "execution_count": 20,
   "id": "322d83ad-2084-42ee-b4dd-52c7bc53fb38",
   "metadata": {},
   "outputs": [
    {
     "data": {
      "text/html": [
       "<div>\n",
       "<style scoped>\n",
       "    .dataframe tbody tr th:only-of-type {\n",
       "        vertical-align: middle;\n",
       "    }\n",
       "\n",
       "    .dataframe tbody tr th {\n",
       "        vertical-align: top;\n",
       "    }\n",
       "\n",
       "    .dataframe thead th {\n",
       "        text-align: right;\n",
       "    }\n",
       "</style>\n",
       "<table border=\"1\" class=\"dataframe\">\n",
       "  <thead>\n",
       "    <tr style=\"text-align: right;\">\n",
       "      <th></th>\n",
       "      <th></th>\n",
       "      <th>Question</th>\n",
       "      <th>Answer</th>\n",
       "    </tr>\n",
       "    <tr>\n",
       "      <th>Chunk</th>\n",
       "      <th>Q&amp;A Index</th>\n",
       "      <th></th>\n",
       "      <th></th>\n",
       "    </tr>\n",
       "  </thead>\n",
       "  <tbody>\n",
       "    <tr>\n",
       "      <th rowspan=\"3\" valign=\"top\">Liam McAllister$^{a}$ and Fernando Quevedo$^{b}$ 30   We give an overview of moduli stabilization in compactifications of string theory. We summarize current methods for construction and analysis of vacua with stabilized moduli, and we describe applications to cosmology and particle physics. This is a contribution to the Handbook on Quantum Gravity.  The fundamental physical laws that govern our Universe must describe gravity and quantum mechanics. To discover the laws of quantum gravity, we cannot entirely rely on terrestrial experiments, or even on cosmological observations: the energies of observable processes are far too low to give a complete picture, in contrast to the way that collider experiments eventually revealed the Standard Model of particle physics. We may hope for some guidance from experiment, but theorists will have to provide a framework. String theory is such a framework: it is a theory of quantum gravity through which we can take a constructive approach to exploring possible laws of quantum gravity in our Universe. The first obstacle is that the world we observe at low energies is four-dimensional, while the best-understood solutions of string theory are ten-dimensional. Kaluza-Klein theory \\cite{Kaluza:1921tu,Klein:1926tv}, now more than a century old, provides a way to bridge this gap. If the extra dimensions correspond to a six-dimensional compact space that is smaller than the reach of any experimental probe then only three spatial dimensions will be seen. However, the size and shape of the extra dimensions are dynamical: they are parameterized by the expectation values of scalar fields known as moduli. Unless the moduli have large masses, they mediate long-range forces that are not observed in our world. Thus, a central problem of Kaluza-Klein theories is to provide a dynamical explanation for the requisite size of the extra dimensions, and to ensure that the moduli masses are consistent with experiment.</th>\n",
       "      <th>1</th>\n",
       "      <td>What are the main challenges in moduli stabilization in compactifications of string theory?</td>\n",
       "      <td>The main challenges in moduli stabilization in compactifications of string theory include ensuring that the size and shape of extra dimensions are dynamically determined by the expectation values of scalar fields (moduli) and that the masses of these moduli are consistent with experimental observations. Additionally, ensuring that the moduli do not mediate long-range forces that contradict our observed world is crucial.</td>\n",
       "    </tr>\n",
       "    <tr>\n",
       "      <th>2</th>\n",
       "      <td>How does string theory provide a framework for exploring laws of quantum gravity, and why is it necessary in our quest to understand the Universe's fundamental physical laws?</td>\n",
       "      <td>String theory provides a theoretical framework for exploring quantum gravity by unifying gravity with quantum mechanics. It is necessary because terrestrial experiments and cosmological observations do not provide high enough energies for a complete understanding of quantum gravity. With string theory, theorists can constructively explore possible laws of quantum gravity and address the discrepancies between the observed four-dimensional world and the underlying ten-dimensional nature of string theory.</td>\n",
       "    </tr>\n",
       "    <tr>\n",
       "      <th>3</th>\n",
       "      <td>How does Kaluza-Klein theory address the issue of extra dimensions in the context of string theory, and what role do moduli play in this framework?</td>\n",
       "      <td>Kaluza-Klein theory helps bridge the gap between the observed four-dimensional world and the ten-dimensional nature of string theory by proposing that the extra dimensions are compactified on a six-dimensional space that is smaller than detectable by current experiments. The moduli, scalar fields in string theory, parameterize the size and shape of these extra dimensions. Moduli stabilization aims to dynamically fix the values of these fields to ensure the extra dimensions are consistent with our observed world and do not lead to long-range forces not seen in nature.</td>\n",
       "    </tr>\n",
       "    <tr>\n",
       "      <th rowspan=\"2\" valign=\"top\">Thus, a central problem of Kaluza-Klein theories is to provide a dynamical explanation for the requisite size of the extra dimensions, and to ensure that the moduli masses are consistent with experiment. Addressing these challenges is the main obstacle in connecting string theory to observations, and it is the subject of this review.For previous reviews on fluxes and the string landscape see \\cite{Grana:2005jc,Douglas:2006es,Hebecker:2021egx. For string cosmology see \\cite{Baumann:2014nda}, the recent review \\cite{Cicoli:2023opf}, and references therein. The geometry of string compactifications is treated in \\cite{Tomasiello:2022dwe}. For a more mathematical perspective on flux compactifications, see \\cite{MikeEMP}. To understand quantum gravity in our four-dimensional, non-supersymmetric Universe, we will study compactifications of superstring theory on six-dimensional compact spaces, and seek solutions in which supersymmetry is broken. In this section we will carefully explain the reasoning that directs us to the class of solutions that are the subject of this chapter: namely, flux compactifications on orientifolds of Calabi-Yau threefolds. To begin, we take a product ansatz for a ten-dimensional spacetime, \\begin{equation}\\label{eq:productansatz}\\n ds^2 = g_{\\mu\\nu}(x)d x^{\\mu}d x^{\\nu}+g_{mn}(y)d y^m d y^n\\,,   \\n\\end{equation} for $\\mu,\\nu = 0,\\ldots,3$ and $m,n=4,\\ldots,9$. We suppose that $g_{mn}$ is a Riemannian metric on some compact spaceThis space may be a proper six-manifold, or it may be some more singular space on which string theory remains well-defined, but in both cases we will use the term `manifold'. $X_6$. Defining the Ricci tensors $R_{\\mu\\nu}$ and $R_{mn}$ constructed from $g_{\\mu\\nu}$ and $g_{mn}$, respectively, the ansatz \\eqref{eq:productansatz} solves the ten-dimensional vacuum Einstein equations if and only if $R_{\\mu\\nu} = R_{mn} = 0$. Thus, vacuum solutions of string theory are furnished by Ricci-flat six-manifolds.</th>\n",
       "      <th>1</th>\n",
       "      <td>What is the central problem concerning Kaluza-Klein theories mentioned in the text and why is it crucial for connecting string theory to observations?</td>\n",
       "      <td>The central problem of Kaluza-Klein theories mentioned in the text is providing a dynamical explanation for the size of the extra dimensions and ensuring that the masses of the moduli are consistent with experimental observations. This is crucial for connecting string theory to observations because it directly impacts the predictions made by these theories and their compatibility with experimental results.</td>\n",
       "    </tr>\n",
       "    <tr>\n",
       "      <th>2</th>\n",
       "      <td>How do Ricci-flat six-manifolds play a role in providing vacuum solutions of string theory as discussed in the text?</td>\n",
       "      <td>In the context of the text, the vacuum solutions of string theory are described by Ricci-flat six-manifolds. This means that for the ten-dimensional vacuum Einstein equations to be solved, the Ricci tensors corresponding to the internal compact space and the four-dimensional spacetime must be zero. Therefore, vacuum solutions of string theory are established by utilizing Ricci-flat six-manifolds.</td>\n",
       "    </tr>\n",
       "    <tr>\n",
       "      <th>...</th>\n",
       "      <th>...</th>\n",
       "      <td>...</td>\n",
       "      <td>...</td>\n",
       "    </tr>\n",
       "    <tr>\n",
       "      <th rowspan=\"2\" valign=\"top\">The necessary choices are discrete fine-tunings, but they are achievable. For example, the selection of flux quanta giving a small classical flux superpotential in the KKLT scenario leads to a vacuum in which the Calabi-Yau volume is large, and this can be accomplished in actual examples \\cite{Demirtas:2021nlu}. The task of ensuring that all approximations are under control remains the key technical frontier of moduli stabilization. With each advance in understanding corrections to the four-dimensional EFTs of string compactifications, one can reduce the theory errors in existing constructions, or pursue new constructions that furnish a broader and less fine-tuned class of stabilized vacua. Despite the achievements of recent years, the number of actual solutions that have been constructed is extremely small compared to the astronomical number of compactifications known to exist. Moreover, much of what is now understood applies under particular lampposts, such as the geometric regime in Ricci-flat compactifications. Whole realms of vacua lie undiscovered. Finally, arguably the most important problem in moduli stabilization is obtaining de Sitter solutions that account for the observed acceleration of the universe. We have seen no meaningful evidence of any fundamental obstacle to the existence of de Sitter vacua. However, much work remains to establish a landscape of de Sitter vacua in totally explicit and precisely-controlled compactifications of string theory. The new computational techniques reviewed in S may prove crucial for addressing these questions, for systematically constructing more general classes of flux compactifications, and eventually for establishing the structure of cosmological solutions of string theory. We would like to thank Carlo Angelantonj and Ignatios Antoniadis, and all the editors of the Handbook on Quantum Gravity, for inviting us to write this review, and for their infinite patience through many delays.</th>\n",
       "      <th>2</th>\n",
       "      <td>How do fine-tunings in flux quanta selection impact the stability of vacua in string theory compactifications?</td>\n",
       "      <td>Fine-tunings in flux quanta selection, such as achieving a small classical flux superpotential in the KKLT scenario, can lead to stable vacua in which the Calabi-Yau volume is large. These choices are discrete and essential for achieving stabilized vacua within string theory compactifications.</td>\n",
       "    </tr>\n",
       "    <tr>\n",
       "      <th>3</th>\n",
       "      <td>What is the significance of establishing a landscape of de Sitter vacua in string theory compactifications?</td>\n",
       "      <td>Establishing a landscape of de Sitter vacua in string theory compactifications is crucial for explaining the universe's observed acceleration. While there is no fundamental obstacle to the existence of de Sitter vacua, significant work is needed to precisely control and explicitly construct these solutions within the framework of string theory.</td>\n",
       "    </tr>\n",
       "    <tr>\n",
       "      <th rowspan=\"3\" valign=\"top\">We would like to thank Carlo Angelantonj and Ignatios Antoniadis, and all the editors of the Handbook on Quantum Gravity, for inviting us to write this review, and for their infinite patience through many delays. We also thank Shamit Kachru for early collaboration on this project. We are grateful to Michele Cicoli, Joe Conlon, Naomi Gendler, Jim Halverson, Manki Kim, Sven Krippendorf, David J.E.~Marsh, Raffaele Savelli, Elijah Sheridan, Pramod Shukla, Roberto Valandro, and Timm Wrase for comments on a preliminary draft, and we particularly thank Jakob Moritz and Andreas Schachner for many corrections. The work of L.M.~was supported in part by NSF grant PHY–2014071.</th>\n",
       "      <th>1</th>\n",
       "      <td>What is the Handbook on Quantum Gravity mentioned in the text, and why was it significant for the authors to contribute a review to it?</td>\n",
       "      <td>The Handbook on Quantum Gravity is likely a comprehensive reference book that provides a guide to the current state of research in the field of quantum gravity. It is a significant platform for researchers to share their knowledge and insights with the scientific community. Therefore, it was important for the authors to contribute a review to this handbook as a means of presenting their work and ideas to a broader audience of experts in the field.</td>\n",
       "    </tr>\n",
       "    <tr>\n",
       "      <th>2</th>\n",
       "      <td>Who are Carlo Angelantonj and Ignatios Antoniadis, and what might be their contributions or expertise in the field of quantum gravity?</td>\n",
       "      <td>Carlo Angelantonj and Ignatios Antoniadis are likely renowned researchers or scholars who have made significant contributions to the field of quantum gravity. They may have expertise in areas such as string theory, quantum field theory, or general relativity, which are all relevant to the study of quantum gravity. Their invitation to the authors to contribute to the Handbook on Quantum Gravity indicates that they are respected figures in the field.</td>\n",
       "    </tr>\n",
       "    <tr>\n",
       "      <th>3</th>\n",
       "      <td>How do acknowledgments such as the one in the text contribute to the scientific community and research collaborations in theoretical physics?</td>\n",
       "      <td>Acknowledgments play a crucial role in fostering a collaborative and supportive atmosphere within the scientific community. By acknowledging the contributions, feedback, and support received from various individuals, researchers not only express gratitude but also strengthen their relationships with colleagues. This can lead to future collaborations, feedback exchanges, and an overall improvement in the quality of research being conducted in theoretical physics.</td>\n",
       "    </tr>\n",
       "  </tbody>\n",
       "</table>\n",
       "<p>355 rows × 2 columns</p>\n",
       "</div>"
      ],
      "text/plain": [
       "                                                                                                                                                                                                                                                                                                                                                                                                                                                                                                                                                                                                                                                                                                                                                                                                                                                                                                                                                                                                                                                                                                                                                                                                                                                                                                                                                                                                                                                                                                                                                                                                                                                                                                                                                                                                                                                                                                                                                                                                                                                                                                                                                                                                                                            Question  \\\n",
       "Chunk                                                                                                                                                                                                                                                                                                                                                                                                                                                                                                                                                                                                                                                                                                                                                                                                                                                                                                                                                                                                                                                                                                                                                                                                                                                                                                                                                                                                                                                                                                                                                                                                                                                                                                                                                                                                                                                                                                                                                                                                                                                      Q&A Index                                                                                                                                                                                   \n",
       "Liam McAllister$^{a}$ and Fernando Quevedo$^{b}$ 30   We give an overview of moduli stabilization in compactifications of string theory. We summarize current methods for construction and analysis of vacua with stabilized moduli, and we describe applications to cosmology and particle physics. This is a contribution to the Handbook on Quantum Gravity.  The fundamental physical laws that govern our Universe must describe gravity and quantum mechanics. To discover the laws of quantum gravity, we cannot entirely rely on terrestrial experiments, or even on cosmological observations: the energies of observable processes are far too low to give a complete picture, in contrast to the way that collider experiments eventually revealed the Standard Model of particle physics. We may hope for some guidance from experiment, but theorists will have to provide a framework. String theory is such a framework: it is a theory of quantum gravity through which we can take a constructive approach to exploring possible laws of quantum gravity in our Universe. The first obstacle is that the world we observe at low energies is four-dimensional, while the best-understood solutions of string theory are ten-dimensional. Kaluza-Klein theory \\cite{Kaluza:1921tu,Klein:1926tv}, now more than a century old, provides a way to bridge this gap. If the extra dimensions correspond to a six-dimensional compact space that is smaller than the reach of any experimental probe then only three spatial dimensions will be seen. However, the size and shape of the extra dimensions are dynamical: they are parameterized by the expectation values of scalar fields known as moduli. Unless the moduli have large masses, they mediate long-range forces that are not observed in our world. Thus, a central problem of Kaluza-Klein theories is to provide a dynamical explanation for the requisite size of the extra dimensions, and to ensure that the moduli masses are consistent with experiment.                 1                                                                                             What are the main challenges in moduli stabilization in compactifications of string theory?   \n",
       "                                                                                                                                                                                                                                                                                                                                                                                                                                                                                                                                                                                                                                                                                                                                                                                                                                                                                                                                                                                                                                                                                                                                                                                                                                                                                                                                                                                                                                                                                                                                                                                                                                                                                                                                                                                                                                                                                                                                                                                                                                                           2          How does string theory provide a framework for exploring laws of quantum gravity, and why is it necessary in our quest to understand the Universe's fundamental physical laws?   \n",
       "                                                                                                                                                                                                                                                                                                                                                                                                                                                                                                                                                                                                                                                                                                                                                                                                                                                                                                                                                                                                                                                                                                                                                                                                                                                                                                                                                                                                                                                                                                                                                                                                                                                                                                                                                                                                                                                                                                                                                                                                                                                           3                                     How does Kaluza-Klein theory address the issue of extra dimensions in the context of string theory, and what role do moduli play in this framework?   \n",
       "Thus, a central problem of Kaluza-Klein theories is to provide a dynamical explanation for the requisite size of the extra dimensions, and to ensure that the moduli masses are consistent with experiment. Addressing these challenges is the main obstacle in connecting string theory to observations, and it is the subject of this review.For previous reviews on fluxes and the string landscape see \\cite{Grana:2005jc,Douglas:2006es,Hebecker:2021egx. For string cosmology see \\cite{Baumann:2014nda}, the recent review \\cite{Cicoli:2023opf}, and references therein. The geometry of string compactifications is treated in \\cite{Tomasiello:2022dwe}. For a more mathematical perspective on flux compactifications, see \\cite{MikeEMP}. To understand quantum gravity in our four-dimensional, non-supersymmetric Universe, we will study compactifications of superstring theory on six-dimensional compact spaces, and seek solutions in which supersymmetry is broken. In this section we will carefully explain the reasoning that directs us to the class of solutions that are the subject of this chapter: namely, flux compactifications on orientifolds of Calabi-Yau threefolds. To begin, we take a product ansatz for a ten-dimensional spacetime, \\begin{equation}\\label{eq:productansatz}\\n ds^2 = g_{\\mu\\nu}(x)d x^{\\mu}d x^{\\nu}+g_{mn}(y)d y^m d y^n\\,,   \\n\\end{equation} for $\\mu,\\nu = 0,\\ldots,3$ and $m,n=4,\\ldots,9$. We suppose that $g_{mn}$ is a Riemannian metric on some compact spaceThis space may be a proper six-manifold, or it may be some more singular space on which string theory remains well-defined, but in both cases we will use the term `manifold'. $X_6$. Defining the Ricci tensors $R_{\\mu\\nu}$ and $R_{mn}$ constructed from $g_{\\mu\\nu}$ and $g_{mn}$, respectively, the ansatz \\eqref{eq:productansatz} solves the ten-dimensional vacuum Einstein equations if and only if $R_{\\mu\\nu} = R_{mn} = 0$. Thus, vacuum solutions of string theory are furnished by Ricci-flat six-manifolds. 1                                  What is the central problem concerning Kaluza-Klein theories mentioned in the text and why is it crucial for connecting string theory to observations?   \n",
       "                                                                                                                                                                                                                                                                                                                                                                                                                                                                                                                                                                                                                                                                                                                                                                                                                                                                                                                                                                                                                                                                                                                                                                                                                                                                                                                                                                                                                                                                                                                                                                                                                                                                                                                                                                                                                                                                                                                                                                                                                                                           2                                                                    How do Ricci-flat six-manifolds play a role in providing vacuum solutions of string theory as discussed in the text?   \n",
       "...                                                                                                                                                                                                                                                                                                                                                                                                                                                                                                                                                                                                                                                                                                                                                                                                                                                                                                                                                                                                                                                                                                                                                                                                                                                                                                                                                                                                                                                                                                                                                                                                                                                                                                                                                                                                                                                                                                                                                                                                                                                                                                                                                                                                                                              ...   \n",
       "The necessary choices are discrete fine-tunings, but they are achievable. For example, the selection of flux quanta giving a small classical flux superpotential in the KKLT scenario leads to a vacuum in which the Calabi-Yau volume is large, and this can be accomplished in actual examples \\cite{Demirtas:2021nlu}. The task of ensuring that all approximations are under control remains the key technical frontier of moduli stabilization. With each advance in understanding corrections to the four-dimensional EFTs of string compactifications, one can reduce the theory errors in existing constructions, or pursue new constructions that furnish a broader and less fine-tuned class of stabilized vacua. Despite the achievements of recent years, the number of actual solutions that have been constructed is extremely small compared to the astronomical number of compactifications known to exist. Moreover, much of what is now understood applies under particular lampposts, such as the geometric regime in Ricci-flat compactifications. Whole realms of vacua lie undiscovered. Finally, arguably the most important problem in moduli stabilization is obtaining de Sitter solutions that account for the observed acceleration of the universe. We have seen no meaningful evidence of any fundamental obstacle to the existence of de Sitter vacua. However, much work remains to establish a landscape of de Sitter vacua in totally explicit and precisely-controlled compactifications of string theory. The new computational techniques reviewed in S may prove crucial for addressing these questions, for systematically constructing more general classes of flux compactifications, and eventually for establishing the structure of cosmological solutions of string theory. We would like to thank Carlo Angelantonj and Ignatios Antoniadis, and all the editors of the Handbook on Quantum Gravity, for inviting us to write this review, and for their infinite patience through many delays.              2                                                                          How do fine-tunings in flux quanta selection impact the stability of vacua in string theory compactifications?   \n",
       "                                                                                                                                                                                                                                                                                                                                                                                                                                                                                                                                                                                                                                                                                                                                                                                                                                                                                                                                                                                                                                                                                                                                                                                                                                                                                                                                                                                                                                                                                                                                                                                                                                                                                                                                                                                                                                                                                                                                                                                                                                                           3                                                                             What is the significance of establishing a landscape of de Sitter vacua in string theory compactifications?   \n",
       "We would like to thank Carlo Angelantonj and Ignatios Antoniadis, and all the editors of the Handbook on Quantum Gravity, for inviting us to write this review, and for their infinite patience through many delays. We also thank Shamit Kachru for early collaboration on this project. We are grateful to Michele Cicoli, Joe Conlon, Naomi Gendler, Jim Halverson, Manki Kim, Sven Krippendorf, David J.E.~Marsh, Raffaele Savelli, Elijah Sheridan, Pramod Shukla, Roberto Valandro, and Timm Wrase for comments on a preliminary draft, and we particularly thank Jakob Moritz and Andreas Schachner for many corrections. The work of L.M.~was supported in part by NSF grant PHY–2014071.                                                                                                                                                                                                                                                                                                                                                                                                                                                                                                                                                                                                                                                                                                                                                                                                                                                                                                                                                                                                                                                                                                                                                                                                                                                                                                                                                          1                                                 What is the Handbook on Quantum Gravity mentioned in the text, and why was it significant for the authors to contribute a review to it?   \n",
       "                                                                                                                                                                                                                                                                                                                                                                                                                                                                                                                                                                                                                                                                                                                                                                                                                                                                                                                                                                                                                                                                                                                                                                                                                                                                                                                                                                                                                                                                                                                                                                                                                                                                                                                                                                                                                                                                                                                                                                                                                                                           2                                                  Who are Carlo Angelantonj and Ignatios Antoniadis, and what might be their contributions or expertise in the field of quantum gravity?   \n",
       "                                                                                                                                                                                                                                                                                                                                                                                                                                                                                                                                                                                                                                                                                                                                                                                                                                                                                                                                                                                                                                                                                                                                                                                                                                                                                                                                                                                                                                                                                                                                                                                                                                                                                                                                                                                                                                                                                                                                                                                                                                                           3                                           How do acknowledgments such as the one in the text contribute to the scientific community and research collaborations in theoretical physics?   \n",
       "\n",
       "                                                                                                                                                                                                                                                                                                                                                                                                                                                                                                                                                                                                                                                                                                                                                                                                                                                                                                                                                                                                                                                                                                                                                                                                                                                                                                                                                                                                                                                                                                                                                                                                                                                                                                                                                                                                                                                                                                                                                                                                                                                                                                                                                                                                                                                                                                                                                                                                                                                                                                                                                                                                                                                             Answer  \n",
       "Chunk                                                                                                                                                                                                                                                                                                                                                                                                                                                                                                                                                                                                                                                                                                                                                                                                                                                                                                                                                                                                                                                                                                                                                                                                                                                                                                                                                                                                                                                                                                                                                                                                                                                                                                                                                                                                                                                                                                                                                                                                                                                      Q&A Index                                                                                                                                                                                                                                                                                                                                                                                                                                                                                                                                                                                                 \n",
       "Liam McAllister$^{a}$ and Fernando Quevedo$^{b}$ 30   We give an overview of moduli stabilization in compactifications of string theory. We summarize current methods for construction and analysis of vacua with stabilized moduli, and we describe applications to cosmology and particle physics. This is a contribution to the Handbook on Quantum Gravity.  The fundamental physical laws that govern our Universe must describe gravity and quantum mechanics. To discover the laws of quantum gravity, we cannot entirely rely on terrestrial experiments, or even on cosmological observations: the energies of observable processes are far too low to give a complete picture, in contrast to the way that collider experiments eventually revealed the Standard Model of particle physics. We may hope for some guidance from experiment, but theorists will have to provide a framework. String theory is such a framework: it is a theory of quantum gravity through which we can take a constructive approach to exploring possible laws of quantum gravity in our Universe. The first obstacle is that the world we observe at low energies is four-dimensional, while the best-understood solutions of string theory are ten-dimensional. Kaluza-Klein theory \\cite{Kaluza:1921tu,Klein:1926tv}, now more than a century old, provides a way to bridge this gap. If the extra dimensions correspond to a six-dimensional compact space that is smaller than the reach of any experimental probe then only three spatial dimensions will be seen. However, the size and shape of the extra dimensions are dynamical: they are parameterized by the expectation values of scalar fields known as moduli. Unless the moduli have large masses, they mediate long-range forces that are not observed in our world. Thus, a central problem of Kaluza-Klein theories is to provide a dynamical explanation for the requisite size of the extra dimensions, and to ensure that the moduli masses are consistent with experiment.                 1                                                                                                                                                                The main challenges in moduli stabilization in compactifications of string theory include ensuring that the size and shape of extra dimensions are dynamically determined by the expectation values of scalar fields (moduli) and that the masses of these moduli are consistent with experimental observations. Additionally, ensuring that the moduli do not mediate long-range forces that contradict our observed world is crucial.  \n",
       "                                                                                                                                                                                                                                                                                                                                                                                                                                                                                                                                                                                                                                                                                                                                                                                                                                                                                                                                                                                                                                                                                                                                                                                                                                                                                                                                                                                                                                                                                                                                                                                                                                                                                                                                                                                                                                                                                                                                                                                                                                                           2                                                                            String theory provides a theoretical framework for exploring quantum gravity by unifying gravity with quantum mechanics. It is necessary because terrestrial experiments and cosmological observations do not provide high enough energies for a complete understanding of quantum gravity. With string theory, theorists can constructively explore possible laws of quantum gravity and address the discrepancies between the observed four-dimensional world and the underlying ten-dimensional nature of string theory.  \n",
       "                                                                                                                                                                                                                                                                                                                                                                                                                                                                                                                                                                                                                                                                                                                                                                                                                                                                                                                                                                                                                                                                                                                                                                                                                                                                                                                                                                                                                                                                                                                                                                                                                                                                                                                                                                                                                                                                                                                                                                                                                                                           3          Kaluza-Klein theory helps bridge the gap between the observed four-dimensional world and the ten-dimensional nature of string theory by proposing that the extra dimensions are compactified on a six-dimensional space that is smaller than detectable by current experiments. The moduli, scalar fields in string theory, parameterize the size and shape of these extra dimensions. Moduli stabilization aims to dynamically fix the values of these fields to ensure the extra dimensions are consistent with our observed world and do not lead to long-range forces not seen in nature.  \n",
       "Thus, a central problem of Kaluza-Klein theories is to provide a dynamical explanation for the requisite size of the extra dimensions, and to ensure that the moduli masses are consistent with experiment. Addressing these challenges is the main obstacle in connecting string theory to observations, and it is the subject of this review.For previous reviews on fluxes and the string landscape see \\cite{Grana:2005jc,Douglas:2006es,Hebecker:2021egx. For string cosmology see \\cite{Baumann:2014nda}, the recent review \\cite{Cicoli:2023opf}, and references therein. The geometry of string compactifications is treated in \\cite{Tomasiello:2022dwe}. For a more mathematical perspective on flux compactifications, see \\cite{MikeEMP}. To understand quantum gravity in our four-dimensional, non-supersymmetric Universe, we will study compactifications of superstring theory on six-dimensional compact spaces, and seek solutions in which supersymmetry is broken. In this section we will carefully explain the reasoning that directs us to the class of solutions that are the subject of this chapter: namely, flux compactifications on orientifolds of Calabi-Yau threefolds. To begin, we take a product ansatz for a ten-dimensional spacetime, \\begin{equation}\\label{eq:productansatz}\\n ds^2 = g_{\\mu\\nu}(x)d x^{\\mu}d x^{\\nu}+g_{mn}(y)d y^m d y^n\\,,   \\n\\end{equation} for $\\mu,\\nu = 0,\\ldots,3$ and $m,n=4,\\ldots,9$. We suppose that $g_{mn}$ is a Riemannian metric on some compact spaceThis space may be a proper six-manifold, or it may be some more singular space on which string theory remains well-defined, but in both cases we will use the term `manifold'. $X_6$. Defining the Ricci tensors $R_{\\mu\\nu}$ and $R_{mn}$ constructed from $g_{\\mu\\nu}$ and $g_{mn}$, respectively, the ansatz \\eqref{eq:productansatz} solves the ten-dimensional vacuum Einstein equations if and only if $R_{\\mu\\nu} = R_{mn} = 0$. Thus, vacuum solutions of string theory are furnished by Ricci-flat six-manifolds. 1                                                                                                                                                                              The central problem of Kaluza-Klein theories mentioned in the text is providing a dynamical explanation for the size of the extra dimensions and ensuring that the masses of the moduli are consistent with experimental observations. This is crucial for connecting string theory to observations because it directly impacts the predictions made by these theories and their compatibility with experimental results.  \n",
       "                                                                                                                                                                                                                                                                                                                                                                                                                                                                                                                                                                                                                                                                                                                                                                                                                                                                                                                                                                                                                                                                                                                                                                                                                                                                                                                                                                                                                                                                                                                                                                                                                                                                                                                                                                                                                                                                                                                                                                                                                                                           2                                                                                                                                                                                        In the context of the text, the vacuum solutions of string theory are described by Ricci-flat six-manifolds. This means that for the ten-dimensional vacuum Einstein equations to be solved, the Ricci tensors corresponding to the internal compact space and the four-dimensional spacetime must be zero. Therefore, vacuum solutions of string theory are established by utilizing Ricci-flat six-manifolds.  \n",
       "...                                                                                                                                                                                                                                                                                                                                                                                                                                                                                                                                                                                                                                                                                                                                                                                                                                                                                                                                                                                                                                                                                                                                                                                                                                                                                                                                                                                                                                                                                                                                                                                                                                                                                                                                                                                                                                                                                                                                                                                                                                                                                                                                                                                                                                                                                                                                                                                                                                                                                                                                                                                                                                                             ...  \n",
       "The necessary choices are discrete fine-tunings, but they are achievable. For example, the selection of flux quanta giving a small classical flux superpotential in the KKLT scenario leads to a vacuum in which the Calabi-Yau volume is large, and this can be accomplished in actual examples \\cite{Demirtas:2021nlu}. The task of ensuring that all approximations are under control remains the key technical frontier of moduli stabilization. With each advance in understanding corrections to the four-dimensional EFTs of string compactifications, one can reduce the theory errors in existing constructions, or pursue new constructions that furnish a broader and less fine-tuned class of stabilized vacua. Despite the achievements of recent years, the number of actual solutions that have been constructed is extremely small compared to the astronomical number of compactifications known to exist. Moreover, much of what is now understood applies under particular lampposts, such as the geometric regime in Ricci-flat compactifications. Whole realms of vacua lie undiscovered. Finally, arguably the most important problem in moduli stabilization is obtaining de Sitter solutions that account for the observed acceleration of the universe. We have seen no meaningful evidence of any fundamental obstacle to the existence of de Sitter vacua. However, much work remains to establish a landscape of de Sitter vacua in totally explicit and precisely-controlled compactifications of string theory. The new computational techniques reviewed in S may prove crucial for addressing these questions, for systematically constructing more general classes of flux compactifications, and eventually for establishing the structure of cosmological solutions of string theory. We would like to thank Carlo Angelantonj and Ignatios Antoniadis, and all the editors of the Handbook on Quantum Gravity, for inviting us to write this review, and for their infinite patience through many delays.              2                                                                                                                                                                                                                                                                                                 Fine-tunings in flux quanta selection, such as achieving a small classical flux superpotential in the KKLT scenario, can lead to stable vacua in which the Calabi-Yau volume is large. These choices are discrete and essential for achieving stabilized vacua within string theory compactifications.  \n",
       "                                                                                                                                                                                                                                                                                                                                                                                                                                                                                                                                                                                                                                                                                                                                                                                                                                                                                                                                                                                                                                                                                                                                                                                                                                                                                                                                                                                                                                                                                                                                                                                                                                                                                                                                                                                                                                                                                                                                                                                                                                                           3                                                                                                                                                                                                                                             Establishing a landscape of de Sitter vacua in string theory compactifications is crucial for explaining the universe's observed acceleration. While there is no fundamental obstacle to the existence of de Sitter vacua, significant work is needed to precisely control and explicitly construct these solutions within the framework of string theory.  \n",
       "We would like to thank Carlo Angelantonj and Ignatios Antoniadis, and all the editors of the Handbook on Quantum Gravity, for inviting us to write this review, and for their infinite patience through many delays. We also thank Shamit Kachru for early collaboration on this project. We are grateful to Michele Cicoli, Joe Conlon, Naomi Gendler, Jim Halverson, Manki Kim, Sven Krippendorf, David J.E.~Marsh, Raffaele Savelli, Elijah Sheridan, Pramod Shukla, Roberto Valandro, and Timm Wrase for comments on a preliminary draft, and we particularly thank Jakob Moritz and Andreas Schachner for many corrections. The work of L.M.~was supported in part by NSF grant PHY–2014071.                                                                                                                                                                                                                                                                                                                                                                                                                                                                                                                                                                                                                                                                                                                                                                                                                                                                                                                                                                                                                                                                                                                                                                                                                                                                                                                                                          1                                                                                                                                    The Handbook on Quantum Gravity is likely a comprehensive reference book that provides a guide to the current state of research in the field of quantum gravity. It is a significant platform for researchers to share their knowledge and insights with the scientific community. Therefore, it was important for the authors to contribute a review to this handbook as a means of presenting their work and ideas to a broader audience of experts in the field.  \n",
       "                                                                                                                                                                                                                                                                                                                                                                                                                                                                                                                                                                                                                                                                                                                                                                                                                                                                                                                                                                                                                                                                                                                                                                                                                                                                                                                                                                                                                                                                                                                                                                                                                                                                                                                                                                                                                                                                                                                                                                                                                                                           2                                                                                                                                   Carlo Angelantonj and Ignatios Antoniadis are likely renowned researchers or scholars who have made significant contributions to the field of quantum gravity. They may have expertise in areas such as string theory, quantum field theory, or general relativity, which are all relevant to the study of quantum gravity. Their invitation to the authors to contribute to the Handbook on Quantum Gravity indicates that they are respected figures in the field.  \n",
       "                                                                                                                                                                                                                                                                                                                                                                                                                                                                                                                                                                                                                                                                                                                                                                                                                                                                                                                                                                                                                                                                                                                                                                                                                                                                                                                                                                                                                                                                                                                                                                                                                                                                                                                                                                                                                                                                                                                                                                                                                                                           3                                                                                                                     Acknowledgments play a crucial role in fostering a collaborative and supportive atmosphere within the scientific community. By acknowledging the contributions, feedback, and support received from various individuals, researchers not only express gratitude but also strengthen their relationships with colleagues. This can lead to future collaborations, feedback exchanges, and an overall improvement in the quality of research being conducted in theoretical physics.  \n",
       "\n",
       "[355 rows x 2 columns]"
      ]
     },
     "execution_count": 20,
     "metadata": {},
     "output_type": "execute_result"
    }
   ],
   "source": [
    "# Create a MultiIndex from the chunks and their corresponding sub_index\n",
    "multi_index = pd.MultiIndex.from_arrays([chunk_list, sub_index], names=['Chunk', 'Q&A Index'])\n",
    "answer_list = [re.sub(r'^\\d+: ', '', answer) for answer in answer_list]\n",
    "\n",
    "# Construct the DataFrame\n",
    "df_multi = pd.DataFrame({'Question': question_list, 'Answer': answer_list}, index=multi_index)\n",
    "\n",
    "# Display the DataFrame\n",
    "df_multi"
   ]
  },
  {
   "cell_type": "code",
   "execution_count": 23,
   "id": "6ec68308-f066-4f30-a755-fff28213312a",
   "metadata": {},
   "outputs": [
    {
     "data": {
      "text/html": [
       "<div>\n",
       "<style scoped>\n",
       "    .dataframe tbody tr th:only-of-type {\n",
       "        vertical-align: middle;\n",
       "    }\n",
       "\n",
       "    .dataframe tbody tr th {\n",
       "        vertical-align: top;\n",
       "    }\n",
       "\n",
       "    .dataframe thead th {\n",
       "        text-align: right;\n",
       "    }\n",
       "</style>\n",
       "<table border=\"1\" class=\"dataframe\">\n",
       "  <thead>\n",
       "    <tr style=\"text-align: right;\">\n",
       "      <th></th>\n",
       "      <th>Question</th>\n",
       "      <th>Answer</th>\n",
       "    </tr>\n",
       "  </thead>\n",
       "  <tbody>\n",
       "    <tr>\n",
       "      <th>0</th>\n",
       "      <td>What are the main challenges in moduli stabilization in compactifications of string theory?</td>\n",
       "      <td>The main challenges in moduli stabilization in compactifications of string theory include ensuring that the size and shape of extra dimensions are dynamically determined by the expectation values of scalar fields (moduli) and that the masses of these moduli are consistent with experimental observations. Additionally, ensuring that the moduli do not mediate long-range forces that contradict our observed world is crucial.</td>\n",
       "    </tr>\n",
       "    <tr>\n",
       "      <th>1</th>\n",
       "      <td>How does string theory provide a framework for exploring laws of quantum gravity, and why is it necessary in our quest to understand the Universe's fundamental physical laws?</td>\n",
       "      <td>String theory provides a theoretical framework for exploring quantum gravity by unifying gravity with quantum mechanics. It is necessary because terrestrial experiments and cosmological observations do not provide high enough energies for a complete understanding of quantum gravity. With string theory, theorists can constructively explore possible laws of quantum gravity and address the discrepancies between the observed four-dimensional world and the underlying ten-dimensional nature of string theory.</td>\n",
       "    </tr>\n",
       "    <tr>\n",
       "      <th>2</th>\n",
       "      <td>How does Kaluza-Klein theory address the issue of extra dimensions in the context of string theory, and what role do moduli play in this framework?</td>\n",
       "      <td>Kaluza-Klein theory helps bridge the gap between the observed four-dimensional world and the ten-dimensional nature of string theory by proposing that the extra dimensions are compactified on a six-dimensional space that is smaller than detectable by current experiments. The moduli, scalar fields in string theory, parameterize the size and shape of these extra dimensions. Moduli stabilization aims to dynamically fix the values of these fields to ensure the extra dimensions are consistent with our observed world and do not lead to long-range forces not seen in nature.</td>\n",
       "    </tr>\n",
       "    <tr>\n",
       "      <th>3</th>\n",
       "      <td>What is the central problem concerning Kaluza-Klein theories mentioned in the text and why is it crucial for connecting string theory to observations?</td>\n",
       "      <td>The central problem of Kaluza-Klein theories mentioned in the text is providing a dynamical explanation for the size of the extra dimensions and ensuring that the masses of the moduli are consistent with experimental observations. This is crucial for connecting string theory to observations because it directly impacts the predictions made by these theories and their compatibility with experimental results.</td>\n",
       "    </tr>\n",
       "    <tr>\n",
       "      <th>4</th>\n",
       "      <td>How do Ricci-flat six-manifolds play a role in providing vacuum solutions of string theory as discussed in the text?</td>\n",
       "      <td>In the context of the text, the vacuum solutions of string theory are described by Ricci-flat six-manifolds. This means that for the ten-dimensional vacuum Einstein equations to be solved, the Ricci tensors corresponding to the internal compact space and the four-dimensional spacetime must be zero. Therefore, vacuum solutions of string theory are established by utilizing Ricci-flat six-manifolds.</td>\n",
       "    </tr>\n",
       "    <tr>\n",
       "      <th>...</th>\n",
       "      <td>...</td>\n",
       "      <td>...</td>\n",
       "    </tr>\n",
       "    <tr>\n",
       "      <th>347</th>\n",
       "      <td>How do weak and strong couplings in the context of moduli and scalar potentials impact the appearance of non-trivial vacua in string theory?</td>\n",
       "      <td>In the context of moduli and scalar potentials, weak couplings at high energies play a significant role in the appearance of non-trivial vacua in string theory. The Dine-Seiberg problem highlights that precise control is challenging and typically guaranteed in regions of moduli space where the scalar potential is a runaway. Non-trivial vacua most naturally appear in regions of strong coupling, indicating the importance of understanding and controlling coupling strengths for stabilizing moduli.</td>\n",
       "    </tr>\n",
       "    <tr>\n",
       "      <th>348</th>\n",
       "      <td>What are some strategic choices made in moduli stabilization scenarios like KKLT and LVS, and how do these choices lead to computable minima and controllable solutions?</td>\n",
       "      <td>In moduli stabilization scenarios such as KKLT (Kachru-Kallosh-Linde-Trivedi) and LVS (Large Volume Scenario), strategic choices are made to cause minima to appear in computable parameter regimes. These scenarios involve discrete fine-tunings that are necessary but achievable, enabling the identification of solutions in the vast landscape of topological choices, quantized fluxes, D-brane configurations, and compactification topologies. By making these strategic choices, researchers aim to stabilize moduli in regions that are computationally controllable and lead to physically meaningful results.</td>\n",
       "    </tr>\n",
       "    <tr>\n",
       "      <th>349</th>\n",
       "      <td>What are some challenges in moduli stabilization within string theory?</td>\n",
       "      <td>Challenges in moduli stabilization within string theory include ensuring that all approximations are under control, reducing theory errors in existing constructions, pursuing new constructions that offer a broader class of stabilized vacua, dealing with a vast number of compactifications compared to the few actual solutions constructed, and obtaining de Sitter solutions to explain the universe's observed acceleration.</td>\n",
       "    </tr>\n",
       "    <tr>\n",
       "      <th>350</th>\n",
       "      <td>How do fine-tunings in flux quanta selection impact the stability of vacua in string theory compactifications?</td>\n",
       "      <td>Fine-tunings in flux quanta selection, such as achieving a small classical flux superpotential in the KKLT scenario, can lead to stable vacua in which the Calabi-Yau volume is large. These choices are discrete and essential for achieving stabilized vacua within string theory compactifications.</td>\n",
       "    </tr>\n",
       "    <tr>\n",
       "      <th>351</th>\n",
       "      <td>What is the significance of establishing a landscape of de Sitter vacua in string theory compactifications?</td>\n",
       "      <td>Establishing a landscape of de Sitter vacua in string theory compactifications is crucial for explaining the universe's observed acceleration. While there is no fundamental obstacle to the existence of de Sitter vacua, significant work is needed to precisely control and explicitly construct these solutions within the framework of string theory.</td>\n",
       "    </tr>\n",
       "  </tbody>\n",
       "</table>\n",
       "<p>352 rows × 2 columns</p>\n",
       "</div>"
      ],
      "text/plain": [
       "                                                                                                                                                                           Question  \\\n",
       "0                                                                                       What are the main challenges in moduli stabilization in compactifications of string theory?   \n",
       "1    How does string theory provide a framework for exploring laws of quantum gravity, and why is it necessary in our quest to understand the Universe's fundamental physical laws?   \n",
       "2                               How does Kaluza-Klein theory address the issue of extra dimensions in the context of string theory, and what role do moduli play in this framework?   \n",
       "3                            What is the central problem concerning Kaluza-Klein theories mentioned in the text and why is it crucial for connecting string theory to observations?   \n",
       "4                                                              How do Ricci-flat six-manifolds play a role in providing vacuum solutions of string theory as discussed in the text?   \n",
       "..                                                                                                                                                                              ...   \n",
       "347                                    How do weak and strong couplings in the context of moduli and scalar potentials impact the appearance of non-trivial vacua in string theory?   \n",
       "348        What are some strategic choices made in moduli stabilization scenarios like KKLT and LVS, and how do these choices lead to computable minima and controllable solutions?   \n",
       "349                                                                                                          What are some challenges in moduli stabilization within string theory?   \n",
       "350                                                                  How do fine-tunings in flux quanta selection impact the stability of vacua in string theory compactifications?   \n",
       "351                                                                     What is the significance of establishing a landscape of de Sitter vacua in string theory compactifications?   \n",
       "\n",
       "                                                                                                                                                                                                                                                                                                                                                                                                                                                                                                                                                                                                                         Answer  \n",
       "0                                                                                                                                                                                       The main challenges in moduli stabilization in compactifications of string theory include ensuring that the size and shape of extra dimensions are dynamically determined by the expectation values of scalar fields (moduli) and that the masses of these moduli are consistent with experimental observations. Additionally, ensuring that the moduli do not mediate long-range forces that contradict our observed world is crucial.  \n",
       "1                                                                                                   String theory provides a theoretical framework for exploring quantum gravity by unifying gravity with quantum mechanics. It is necessary because terrestrial experiments and cosmological observations do not provide high enough energies for a complete understanding of quantum gravity. With string theory, theorists can constructively explore possible laws of quantum gravity and address the discrepancies between the observed four-dimensional world and the underlying ten-dimensional nature of string theory.  \n",
       "2                                 Kaluza-Klein theory helps bridge the gap between the observed four-dimensional world and the ten-dimensional nature of string theory by proposing that the extra dimensions are compactified on a six-dimensional space that is smaller than detectable by current experiments. The moduli, scalar fields in string theory, parameterize the size and shape of these extra dimensions. Moduli stabilization aims to dynamically fix the values of these fields to ensure the extra dimensions are consistent with our observed world and do not lead to long-range forces not seen in nature.  \n",
       "3                                                                                                                                                                                                     The central problem of Kaluza-Klein theories mentioned in the text is providing a dynamical explanation for the size of the extra dimensions and ensuring that the masses of the moduli are consistent with experimental observations. This is crucial for connecting string theory to observations because it directly impacts the predictions made by these theories and their compatibility with experimental results.  \n",
       "4                                                                                                                                                                                                               In the context of the text, the vacuum solutions of string theory are described by Ricci-flat six-manifolds. This means that for the ten-dimensional vacuum Einstein equations to be solved, the Ricci tensors corresponding to the internal compact space and the four-dimensional spacetime must be zero. Therefore, vacuum solutions of string theory are established by utilizing Ricci-flat six-manifolds.  \n",
       "..                                                                                                                                                                                                                                                                                                                                                                                                                                                                                                                                                                                                                          ...  \n",
       "347                                                                                                          In the context of moduli and scalar potentials, weak couplings at high energies play a significant role in the appearance of non-trivial vacua in string theory. The Dine-Seiberg problem highlights that precise control is challenging and typically guaranteed in regions of moduli space where the scalar potential is a runaway. Non-trivial vacua most naturally appear in regions of strong coupling, indicating the importance of understanding and controlling coupling strengths for stabilizing moduli.  \n",
       "348  In moduli stabilization scenarios such as KKLT (Kachru-Kallosh-Linde-Trivedi) and LVS (Large Volume Scenario), strategic choices are made to cause minima to appear in computable parameter regimes. These scenarios involve discrete fine-tunings that are necessary but achievable, enabling the identification of solutions in the vast landscape of topological choices, quantized fluxes, D-brane configurations, and compactification topologies. By making these strategic choices, researchers aim to stabilize moduli in regions that are computationally controllable and lead to physically meaningful results.  \n",
       "349                                                                                                                                                                                       Challenges in moduli stabilization within string theory include ensuring that all approximations are under control, reducing theory errors in existing constructions, pursuing new constructions that offer a broader class of stabilized vacua, dealing with a vast number of compactifications compared to the few actual solutions constructed, and obtaining de Sitter solutions to explain the universe's observed acceleration.  \n",
       "350                                                                                                                                                                                                                                                                                                                      Fine-tunings in flux quanta selection, such as achieving a small classical flux superpotential in the KKLT scenario, can lead to stable vacua in which the Calabi-Yau volume is large. These choices are discrete and essential for achieving stabilized vacua within string theory compactifications.  \n",
       "351                                                                                                                                                                                                                                                                  Establishing a landscape of de Sitter vacua in string theory compactifications is crucial for explaining the universe's observed acceleration. While there is no fundamental obstacle to the existence of de Sitter vacua, significant work is needed to precisely control and explicitly construct these solutions within the framework of string theory.  \n",
       "\n",
       "[352 rows x 2 columns]"
      ]
     },
     "execution_count": 23,
     "metadata": {},
     "output_type": "execute_result"
    }
   ],
   "source": [
    "qa_df = pd.DataFrame({\n",
    "    'Question': question_list,\n",
    "    'Answer': answer_list\n",
    "})\n",
    "\n",
    "qa_df = qa_df.iloc[0:352]\n",
    "qa_df"
   ]
  },
  {
   "cell_type": "code",
   "execution_count": 28,
   "id": "15dc12e2-25b6-4384-9248-acdb5cc3192d",
   "metadata": {},
   "outputs": [],
   "source": [
    "qa_df.to_csv(\"Datasets/2310.20559.csv\")\n",
    "qa_df.to_parquet(\"Datasets/2310.20559.parquet\")"
   ]
  },
  {
   "cell_type": "code",
   "execution_count": null,
   "id": "35af2d70-622f-4d81-9944-4e5b29911e34",
   "metadata": {},
   "outputs": [],
   "source": []
  }
 ],
 "metadata": {
  "kernelspec": {
   "display_name": "Python 3 (ipykernel)",
   "language": "python",
   "name": "python3"
  },
  "language_info": {
   "codemirror_mode": {
    "name": "ipython",
    "version": 3
   },
   "file_extension": ".py",
   "mimetype": "text/x-python",
   "name": "python",
   "nbconvert_exporter": "python",
   "pygments_lexer": "ipython3",
   "version": "3.8.18"
  }
 },
 "nbformat": 4,
 "nbformat_minor": 5
}
