{
 "cells": [
  {
   "cell_type": "markdown",
   "id": "2a4dfe9e-2e61-4133-af13-57ae630d17c3",
   "metadata": {},
   "source": [
    "https://huggingface.co/blog/inference-pro#getting-started-with-inference-for-pros"
   ]
  },
  {
   "cell_type": "code",
   "execution_count": 5,
   "id": "a7e03ac6-2bcd-4049-b2a9-e851887f2a66",
   "metadata": {},
   "outputs": [],
   "source": [
    "from dotenv import load_dotenv\n",
    "import os\n",
    "\n",
    "load_dotenv(\"/Users/fmuia/Dropbox/NLP/Llama-FineTuning/config.env\")\n",
    "HF_api_token = os.getenv(\"HUGGINGFACEHUB_API_TOKEN\")"
   ]
  },
  {
   "cell_type": "code",
   "execution_count": 20,
   "id": "00e9639d-a22f-418b-b7d4-3d6690b5756b",
   "metadata": {},
   "outputs": [
    {
     "name": "stdout",
     "output_type": "stream",
     "text": [
      "\n",
      "\n",
      "I'm not sure I can explain everything about string theory, as it is a highly complex and technical field of physics. However, I can provide a brief overview of the main ideas and concepts.\n",
      "\n",
      "String theory is a theoretical framework in physics that attempts to reconcile quantum mechanics and general relativity. These two theories are the foundation of modern physics, but they are fundamentally incompatible within the framework of classical physics. Quantum mechanics describes the behavior of particles at the atomic and subatomic level, while general relativity describes the behavior of gravity and the large-scale structure of the universe.\n",
      "\n",
      "The fundamental idea of string theory is that the basic building blocks of the universe are not point-like particles, but tiny, vibrating strings. These strings can vibrate at different frequencies, giving rise to the various particles we observe in the universe. In string theory, the properties of particles such as mass, charge, and spin are determined by\n"
     ]
    }
   ],
   "source": [
    "from huggingface_hub import InferenceClient\n",
    "\n",
    "client = InferenceClient(model=\"meta-llama/Llama-2-70b-chat-hf\", token=HF_api_token)\n",
    "\n",
    "#for token in client.text_generation(\"Can you tell me all you know about string theory?\", max_new_tokens=200, stream=True):\n",
    "#    print(token)\n",
    "output = client.text_generation(\"Can you tell me all you know about string theory?\", max_new_tokens=200)\n",
    "print(output)"
   ]
  },
  {
   "cell_type": "code",
   "execution_count": null,
   "id": "6a6e033e-3fa6-475f-87fa-fe1ae3e1b637",
   "metadata": {},
   "outputs": [],
   "source": []
  }
 ],
 "metadata": {
  "kernelspec": {
   "display_name": "Python 3 (ipykernel)",
   "language": "python",
   "name": "python3"
  },
  "language_info": {
   "codemirror_mode": {
    "name": "ipython",
    "version": 3
   },
   "file_extension": ".py",
   "mimetype": "text/x-python",
   "name": "python",
   "nbconvert_exporter": "python",
   "pygments_lexer": "ipython3",
   "version": "3.8.18"
  }
 },
 "nbformat": 4,
 "nbformat_minor": 5
}
