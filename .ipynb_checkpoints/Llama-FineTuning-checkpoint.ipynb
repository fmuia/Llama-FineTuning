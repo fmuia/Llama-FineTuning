{
 "cells": [
  {
   "cell_type": "markdown",
   "id": "2a4dfe9e-2e61-4133-af13-57ae630d17c3",
   "metadata": {},
   "source": [
    "https://huggingface.co/blog/inference-pro#getting-started-with-inference-for-pros"
   ]
  },
  {
   "cell_type": "markdown",
   "id": "879efc38-7673-464c-9be7-266bc6bdab7f",
   "metadata": {},
   "source": [
    "## Imports"
   ]
  },
  {
   "cell_type": "code",
   "execution_count": 6,
   "id": "a7e03ac6-2bcd-4049-b2a9-e851887f2a66",
   "metadata": {},
   "outputs": [],
   "source": [
    "from transformers import AutoTokenizer\n",
    "import pandas as pd\n",
    "\n",
    "import os\n",
    "\n",
    "HF_api_token = os.getenv(\"HF_API_KEY\")"
   ]
  },
  {
   "cell_type": "code",
   "execution_count": 8,
   "id": "667e2a4a-b42e-4834-8987-318742d4136b",
   "metadata": {},
   "outputs": [],
   "source": [
    "from datasets import load_dataset\n",
    "\n",
    "# Load the dataset from Hugging Face Datasets\n",
    "dataset = load_dataset(\"fmuia/StringPheno\")"
   ]
  },
  {
   "cell_type": "code",
   "execution_count": 10,
   "id": "6168ca31-b1d2-40e4-9d52-6747a75a811e",
   "metadata": {},
   "outputs": [
    {
     "data": {
      "text/html": [
       "<div>\n",
       "<style scoped>\n",
       "    .dataframe tbody tr th:only-of-type {\n",
       "        vertical-align: middle;\n",
       "    }\n",
       "\n",
       "    .dataframe tbody tr th {\n",
       "        vertical-align: top;\n",
       "    }\n",
       "\n",
       "    .dataframe thead th {\n",
       "        text-align: right;\n",
       "    }\n",
       "</style>\n",
       "<table border=\"1\" class=\"dataframe\">\n",
       "  <thead>\n",
       "    <tr style=\"text-align: right;\">\n",
       "      <th></th>\n",
       "      <th>Question</th>\n",
       "      <th>Answer</th>\n",
       "    </tr>\n",
       "  </thead>\n",
       "  <tbody>\n",
       "    <tr>\n",
       "      <th>0</th>\n",
       "      <td>How do the bosonic generators in the component...</td>\n",
       "      <td>In the component description of supersymmetry,...</td>\n",
       "    </tr>\n",
       "    <tr>\n",
       "      <th>1</th>\n",
       "      <td>How is the transition between different vacuum...</td>\n",
       "      <td>The transition rates between different vacuum ...</td>\n",
       "    </tr>\n",
       "    <tr>\n",
       "      <th>2</th>\n",
       "      <td>Can you explain how the spectra generated for ...</td>\n",
       "      <td>The spectra of density perturbations and gravi...</td>\n",
       "    </tr>\n",
       "    <tr>\n",
       "      <th>3</th>\n",
       "      <td>How does the topology and geometry of Anti-de-...</td>\n",
       "      <td>Anti-de-Sitter space has the topology of a sol...</td>\n",
       "    </tr>\n",
       "    <tr>\n",
       "      <th>4</th>\n",
       "      <td>Can you explain the steps involved in rewritin...</td>\n",
       "      <td>To rewrite the second matrix on the l.h.s of t...</td>\n",
       "    </tr>\n",
       "  </tbody>\n",
       "</table>\n",
       "</div>"
      ],
      "text/plain": [
       "                                            Question  \\\n",
       "0  How do the bosonic generators in the component...   \n",
       "1  How is the transition between different vacuum...   \n",
       "2  Can you explain how the spectra generated for ...   \n",
       "3  How does the topology and geometry of Anti-de-...   \n",
       "4  Can you explain the steps involved in rewritin...   \n",
       "\n",
       "                                              Answer  \n",
       "0  In the component description of supersymmetry,...  \n",
       "1  The transition rates between different vacuum ...  \n",
       "2  The spectra of density perturbations and gravi...  \n",
       "3  Anti-de-Sitter space has the topology of a sol...  \n",
       "4  To rewrite the second matrix on the l.h.s of t...  "
      ]
     },
     "execution_count": 10,
     "metadata": {},
     "output_type": "execute_result"
    }
   ],
   "source": [
    "df = dataset[\"train\"].to_pandas()\n",
    "df.head()"
   ]
  },
  {
   "cell_type": "code",
   "execution_count": 20,
   "id": "00e9639d-a22f-418b-b7d4-3d6690b5756b",
   "metadata": {},
   "outputs": [
    {
     "name": "stdout",
     "output_type": "stream",
     "text": [
      "\n",
      "\n",
      "I'm not sure I can explain everything about string theory, as it is a highly complex and technical field of physics. However, I can provide a brief overview of the main ideas and concepts.\n",
      "\n",
      "String theory is a theoretical framework in physics that attempts to reconcile quantum mechanics and general relativity. These two theories are the foundation of modern physics, but they are fundamentally incompatible within the framework of classical physics. Quantum mechanics describes the behavior of particles at the atomic and subatomic level, while general relativity describes the behavior of gravity and the large-scale structure of the universe.\n",
      "\n",
      "The fundamental idea of string theory is that the basic building blocks of the universe are not point-like particles, but tiny, vibrating strings. These strings can vibrate at different frequencies, giving rise to the various particles we observe in the universe. In string theory, the properties of particles such as mass, charge, and spin are determined by\n"
     ]
    }
   ],
   "source": [
    "from huggingface_hub import InferenceClient\n",
    "\n",
    "client = InferenceClient(model=\"meta-llama/Llama-2-70b-chat-hf\", token=HF_api_token)\n",
    "\n",
    "#for token in client.text_generation(\"Can you tell me all you know about string theory?\", max_new_tokens=200, stream=True):\n",
    "#    print(token)\n",
    "output = client.text_generation(\"Can you tell me all you know about string theory?\", max_new_tokens=200)\n",
    "print(output)"
   ]
  },
  {
   "cell_type": "code",
   "execution_count": null,
   "id": "6a6e033e-3fa6-475f-87fa-fe1ae3e1b637",
   "metadata": {},
   "outputs": [],
   "source": []
  }
 ],
 "metadata": {
  "kernelspec": {
   "display_name": "Python 3 (ipykernel)",
   "language": "python",
   "name": "python3"
  },
  "language_info": {
   "codemirror_mode": {
    "name": "ipython",
    "version": 3
   },
   "file_extension": ".py",
   "mimetype": "text/x-python",
   "name": "python",
   "nbconvert_exporter": "python",
   "pygments_lexer": "ipython3",
   "version": "3.8.18"
  }
 },
 "nbformat": 4,
 "nbformat_minor": 5
}
