{
 "cells": [
  {
   "cell_type": "code",
   "execution_count": 1,
   "id": "12c59658-2082-4bad-a588-0b03d8535cee",
   "metadata": {},
   "outputs": [],
   "source": [
    "from aux.aux_functions import *"
   ]
  },
  {
   "cell_type": "code",
   "execution_count": 2,
   "id": "f7ae6f91-50ec-41d4-850a-d2fbc1f5329a",
   "metadata": {},
   "outputs": [],
   "source": [
    "import openai\n",
    "from openai import OpenAI"
   ]
  },
  {
   "cell_type": "code",
   "execution_count": 3,
   "id": "57d20c45-382c-4fbe-9cc8-0135faab0828",
   "metadata": {},
   "outputs": [],
   "source": [
    "import pandas as pd\n",
    "pd.set_option('display.max_colwidth', None)\n",
    "\n",
    "from IPython.display import display"
   ]
  },
  {
   "cell_type": "code",
   "execution_count": 4,
   "id": "55e6ab95-38f2-4b52-9969-4692392acb2a",
   "metadata": {},
   "outputs": [],
   "source": [
    "import os\n",
    "\n",
    "openai.api_key = os.environ[\"OPENAI_API_KEY\"]"
   ]
  },
  {
   "cell_type": "code",
   "execution_count": 5,
   "id": "a3f6caec-9dc5-427d-ba82-81f8631de121",
   "metadata": {},
   "outputs": [
    {
     "data": {
      "text/plain": [
       "'\\n\\\\section{Introduction}\\n\\n\\n\\nWe are living in a golden age for cosmology. The exquisite precision with which the power spectrum of density perturbations of the cosmic microwave background (CMB) has been measured over the past 25 years is simply spectacular. The surprising discovery of the accelerated expansion of the universe in the present epoch, also around  25 years ago, has given rise to arguably the biggest puzzle in physics: dark energy. This, combined with ever improving observations of the'"
      ]
     },
     "execution_count": 5,
     "metadata": {},
     "output_type": "execute_result"
    }
   ],
   "source": [
    "# Specify the path to your LaTeX file\n",
    "#2310.20559\n",
    "#latex_file_path = 'Files/2310.20559/main.tex'\n",
    "\n",
    "#2303.04819\n",
    "latex_file_path = 'Files/2303.04819/Sections/Introduction.tex'\n",
    "\n",
    "# Extract the LaTeX content\n",
    "latex_content = extract_latex_content(latex_file_path, \"\\startdocument\", \"\\enddocument\")\n",
    "\n",
    "# For demonstration, let's print the first characters to check if it worked\n",
    "latex_content[:500]"
   ]
  },
  {
   "cell_type": "code",
   "execution_count": 6,
   "id": "b5767164-314d-43c1-abde-a72a5a1e72b2",
   "metadata": {},
   "outputs": [
    {
     "ename": "error",
     "evalue": "bad escape \\c at position 0",
     "output_type": "error",
     "traceback": [
      "\u001b[0;31m---------------------------------------------------------------------------\u001b[0m",
      "\u001b[0;31merror\u001b[0m                                     Traceback (most recent call last)",
      "Cell \u001b[0;32mIn[6], line 19\u001b[0m\n\u001b[1;32m      1\u001b[0m replacements \u001b[38;5;241m=\u001b[39m {\n\u001b[1;32m      2\u001b[0m         \u001b[38;5;124mr\u001b[39m\u001b[38;5;124m'\u001b[39m\u001b[38;5;130;01m\\\\\u001b[39;00m\u001b[38;5;124md\u001b[39m\u001b[38;5;124m'\u001b[39m: \u001b[38;5;124m'\u001b[39m\u001b[38;5;124md\u001b[39m\u001b[38;5;124m'\u001b[39m,\n\u001b[1;32m      3\u001b[0m         \u001b[38;5;124mr\u001b[39m\u001b[38;5;124m'\u001b[39m\u001b[38;5;130;01m\\\\\u001b[39;00m\u001b[38;5;124mG\u001b[39m\u001b[38;5;124m'\u001b[39m: \u001b[38;5;124m'\u001b[39m\u001b[38;5;124mG\u001b[39m\u001b[38;5;124m'\u001b[39m,\n\u001b[0;32m   (...)\u001b[0m\n\u001b[1;32m     14\u001b[0m         \u001b[38;5;124mr\u001b[39m\u001b[38;5;124m'\u001b[39m\u001b[38;5;124m\\\u001b[39m\u001b[38;5;124mcR\u001b[39m\u001b[38;5;124m'\u001b[39m: \u001b[38;5;124m'\u001b[39m\u001b[38;5;124mR\u001b[39m\u001b[38;5;124m'\u001b[39m\n\u001b[1;32m     15\u001b[0m     }\n\u001b[1;32m     17\u001b[0m brace_commands \u001b[38;5;241m=\u001b[39m [\u001b[38;5;124mr\u001b[39m\u001b[38;5;124m'\u001b[39m\u001b[38;5;130;01m\\\\\u001b[39;00m\u001b[38;5;124memph\u001b[39m\u001b[38;5;124m'\u001b[39m, \u001b[38;5;124mr\u001b[39m\u001b[38;5;124m'\u001b[39m\u001b[38;5;130;01m\\\\\u001b[39;00m\u001b[38;5;124mfootnote\u001b[39m\u001b[38;5;124m'\u001b[39m, \u001b[38;5;124mr\u001b[39m\u001b[38;5;124m'\u001b[39m\u001b[38;5;130;01m\\\\\u001b[39;00m\u001b[38;5;124mit\u001b[39m\u001b[38;5;124m'\u001b[39m]\n\u001b[0;32m---> 19\u001b[0m simplified_text \u001b[38;5;241m=\u001b[39m \u001b[43mreplace_latex_commands\u001b[49m\u001b[43m(\u001b[49m\u001b[43mlatex_content\u001b[49m\u001b[43m,\u001b[49m\u001b[43m \u001b[49m\u001b[43mreplacements\u001b[49m\u001b[43m,\u001b[49m\u001b[43m \u001b[49m\u001b[43mbrace_commands\u001b[49m\u001b[43m)\u001b[49m\n\u001b[1;32m     20\u001b[0m simplified_text\n",
      "File \u001b[0;32m~/Library/CloudStorage/Dropbox/NLP/Llama-FineTuning/aux/aux_functions.py:47\u001b[0m, in \u001b[0;36mreplace_latex_commands\u001b[0;34m(latex_content, replacements, brace_commands)\u001b[0m\n\u001b[1;32m     45\u001b[0m \u001b[38;5;66;03m# Apply direct replacements\u001b[39;00m\n\u001b[1;32m     46\u001b[0m \u001b[38;5;28;01mfor\u001b[39;00m command, replacement \u001b[38;5;129;01min\u001b[39;00m replacements\u001b[38;5;241m.\u001b[39mitems():\n\u001b[0;32m---> 47\u001b[0m     latex_content \u001b[38;5;241m=\u001b[39m \u001b[43mre\u001b[49m\u001b[38;5;241;43m.\u001b[39;49m\u001b[43msub\u001b[49m\u001b[43m(\u001b[49m\u001b[43mcommand\u001b[49m\u001b[43m,\u001b[49m\u001b[43m \u001b[49m\u001b[43mreplacement\u001b[49m\u001b[43m,\u001b[49m\u001b[43m \u001b[49m\u001b[43mlatex_content\u001b[49m\u001b[43m)\u001b[49m\n\u001b[1;32m     49\u001b[0m \u001b[38;5;66;03m# Replace commands with content inside curly braces, preserving the content\u001b[39;00m\n\u001b[1;32m     50\u001b[0m brace_commands \u001b[38;5;241m=\u001b[39m brace_commands\n",
      "File \u001b[0;32m~/miniforge3/envs/ai/lib/python3.8/re.py:210\u001b[0m, in \u001b[0;36msub\u001b[0;34m(pattern, repl, string, count, flags)\u001b[0m\n\u001b[1;32m    203\u001b[0m \u001b[38;5;28;01mdef\u001b[39;00m \u001b[38;5;21msub\u001b[39m(pattern, repl, string, count\u001b[38;5;241m=\u001b[39m\u001b[38;5;241m0\u001b[39m, flags\u001b[38;5;241m=\u001b[39m\u001b[38;5;241m0\u001b[39m):\n\u001b[1;32m    204\u001b[0m \u001b[38;5;250m    \u001b[39m\u001b[38;5;124;03m\"\"\"Return the string obtained by replacing the leftmost\u001b[39;00m\n\u001b[1;32m    205\u001b[0m \u001b[38;5;124;03m    non-overlapping occurrences of the pattern in string by the\u001b[39;00m\n\u001b[1;32m    206\u001b[0m \u001b[38;5;124;03m    replacement repl.  repl can be either a string or a callable;\u001b[39;00m\n\u001b[1;32m    207\u001b[0m \u001b[38;5;124;03m    if a string, backslash escapes in it are processed.  If it is\u001b[39;00m\n\u001b[1;32m    208\u001b[0m \u001b[38;5;124;03m    a callable, it's passed the Match object and must return\u001b[39;00m\n\u001b[1;32m    209\u001b[0m \u001b[38;5;124;03m    a replacement string to be used.\"\"\"\u001b[39;00m\n\u001b[0;32m--> 210\u001b[0m     \u001b[38;5;28;01mreturn\u001b[39;00m \u001b[43m_compile\u001b[49m\u001b[43m(\u001b[49m\u001b[43mpattern\u001b[49m\u001b[43m,\u001b[49m\u001b[43m \u001b[49m\u001b[43mflags\u001b[49m\u001b[43m)\u001b[49m\u001b[38;5;241m.\u001b[39msub(repl, string, count)\n",
      "File \u001b[0;32m~/miniforge3/envs/ai/lib/python3.8/re.py:304\u001b[0m, in \u001b[0;36m_compile\u001b[0;34m(pattern, flags)\u001b[0m\n\u001b[1;32m    302\u001b[0m \u001b[38;5;28;01mif\u001b[39;00m \u001b[38;5;129;01mnot\u001b[39;00m sre_compile\u001b[38;5;241m.\u001b[39misstring(pattern):\n\u001b[1;32m    303\u001b[0m     \u001b[38;5;28;01mraise\u001b[39;00m \u001b[38;5;167;01mTypeError\u001b[39;00m(\u001b[38;5;124m\"\u001b[39m\u001b[38;5;124mfirst argument must be string or compiled pattern\u001b[39m\u001b[38;5;124m\"\u001b[39m)\n\u001b[0;32m--> 304\u001b[0m p \u001b[38;5;241m=\u001b[39m \u001b[43msre_compile\u001b[49m\u001b[38;5;241;43m.\u001b[39;49m\u001b[43mcompile\u001b[49m\u001b[43m(\u001b[49m\u001b[43mpattern\u001b[49m\u001b[43m,\u001b[49m\u001b[43m \u001b[49m\u001b[43mflags\u001b[49m\u001b[43m)\u001b[49m\n\u001b[1;32m    305\u001b[0m \u001b[38;5;28;01mif\u001b[39;00m \u001b[38;5;129;01mnot\u001b[39;00m (flags \u001b[38;5;241m&\u001b[39m DEBUG):\n\u001b[1;32m    306\u001b[0m     \u001b[38;5;28;01mif\u001b[39;00m \u001b[38;5;28mlen\u001b[39m(_cache) \u001b[38;5;241m>\u001b[39m\u001b[38;5;241m=\u001b[39m _MAXCACHE:\n\u001b[1;32m    307\u001b[0m         \u001b[38;5;66;03m# Drop the oldest item\u001b[39;00m\n",
      "File \u001b[0;32m~/miniforge3/envs/ai/lib/python3.8/sre_compile.py:764\u001b[0m, in \u001b[0;36mcompile\u001b[0;34m(p, flags)\u001b[0m\n\u001b[1;32m    762\u001b[0m \u001b[38;5;28;01mif\u001b[39;00m isstring(p):\n\u001b[1;32m    763\u001b[0m     pattern \u001b[38;5;241m=\u001b[39m p\n\u001b[0;32m--> 764\u001b[0m     p \u001b[38;5;241m=\u001b[39m \u001b[43msre_parse\u001b[49m\u001b[38;5;241;43m.\u001b[39;49m\u001b[43mparse\u001b[49m\u001b[43m(\u001b[49m\u001b[43mp\u001b[49m\u001b[43m,\u001b[49m\u001b[43m \u001b[49m\u001b[43mflags\u001b[49m\u001b[43m)\u001b[49m\n\u001b[1;32m    765\u001b[0m \u001b[38;5;28;01melse\u001b[39;00m:\n\u001b[1;32m    766\u001b[0m     pattern \u001b[38;5;241m=\u001b[39m \u001b[38;5;28;01mNone\u001b[39;00m\n",
      "File \u001b[0;32m~/miniforge3/envs/ai/lib/python3.8/sre_parse.py:948\u001b[0m, in \u001b[0;36mparse\u001b[0;34m(str, flags, state)\u001b[0m\n\u001b[1;32m    945\u001b[0m state\u001b[38;5;241m.\u001b[39mstr \u001b[38;5;241m=\u001b[39m \u001b[38;5;28mstr\u001b[39m\n\u001b[1;32m    947\u001b[0m \u001b[38;5;28;01mtry\u001b[39;00m:\n\u001b[0;32m--> 948\u001b[0m     p \u001b[38;5;241m=\u001b[39m \u001b[43m_parse_sub\u001b[49m\u001b[43m(\u001b[49m\u001b[43msource\u001b[49m\u001b[43m,\u001b[49m\u001b[43m \u001b[49m\u001b[43mstate\u001b[49m\u001b[43m,\u001b[49m\u001b[43m \u001b[49m\u001b[43mflags\u001b[49m\u001b[43m \u001b[49m\u001b[38;5;241;43m&\u001b[39;49m\u001b[43m \u001b[49m\u001b[43mSRE_FLAG_VERBOSE\u001b[49m\u001b[43m,\u001b[49m\u001b[43m \u001b[49m\u001b[38;5;241;43m0\u001b[39;49m\u001b[43m)\u001b[49m\n\u001b[1;32m    949\u001b[0m \u001b[38;5;28;01mexcept\u001b[39;00m Verbose:\n\u001b[1;32m    950\u001b[0m     \u001b[38;5;66;03m# the VERBOSE flag was switched on inside the pattern.  to be\u001b[39;00m\n\u001b[1;32m    951\u001b[0m     \u001b[38;5;66;03m# on the safe side, we'll parse the whole thing again...\u001b[39;00m\n\u001b[1;32m    952\u001b[0m     state \u001b[38;5;241m=\u001b[39m State()\n",
      "File \u001b[0;32m~/miniforge3/envs/ai/lib/python3.8/sre_parse.py:443\u001b[0m, in \u001b[0;36m_parse_sub\u001b[0;34m(source, state, verbose, nested)\u001b[0m\n\u001b[1;32m    441\u001b[0m start \u001b[38;5;241m=\u001b[39m source\u001b[38;5;241m.\u001b[39mtell()\n\u001b[1;32m    442\u001b[0m \u001b[38;5;28;01mwhile\u001b[39;00m \u001b[38;5;28;01mTrue\u001b[39;00m:\n\u001b[0;32m--> 443\u001b[0m     itemsappend(\u001b[43m_parse\u001b[49m\u001b[43m(\u001b[49m\u001b[43msource\u001b[49m\u001b[43m,\u001b[49m\u001b[43m \u001b[49m\u001b[43mstate\u001b[49m\u001b[43m,\u001b[49m\u001b[43m \u001b[49m\u001b[43mverbose\u001b[49m\u001b[43m,\u001b[49m\u001b[43m \u001b[49m\u001b[43mnested\u001b[49m\u001b[43m \u001b[49m\u001b[38;5;241;43m+\u001b[39;49m\u001b[43m \u001b[49m\u001b[38;5;241;43m1\u001b[39;49m\u001b[43m,\u001b[49m\n\u001b[1;32m    444\u001b[0m \u001b[43m                       \u001b[49m\u001b[38;5;129;43;01mnot\u001b[39;49;00m\u001b[43m \u001b[49m\u001b[43mnested\u001b[49m\u001b[43m \u001b[49m\u001b[38;5;129;43;01mand\u001b[39;49;00m\u001b[43m \u001b[49m\u001b[38;5;129;43;01mnot\u001b[39;49;00m\u001b[43m \u001b[49m\u001b[43mitems\u001b[49m\u001b[43m)\u001b[49m)\n\u001b[1;32m    445\u001b[0m     \u001b[38;5;28;01mif\u001b[39;00m \u001b[38;5;129;01mnot\u001b[39;00m sourcematch(\u001b[38;5;124m\"\u001b[39m\u001b[38;5;124m|\u001b[39m\u001b[38;5;124m\"\u001b[39m):\n\u001b[1;32m    446\u001b[0m         \u001b[38;5;28;01mbreak\u001b[39;00m\n",
      "File \u001b[0;32m~/miniforge3/envs/ai/lib/python3.8/sre_parse.py:525\u001b[0m, in \u001b[0;36m_parse\u001b[0;34m(source, state, verbose, nested, first)\u001b[0m\n\u001b[1;32m    522\u001b[0m         \u001b[38;5;28;01mcontinue\u001b[39;00m\n\u001b[1;32m    524\u001b[0m \u001b[38;5;28;01mif\u001b[39;00m this[\u001b[38;5;241m0\u001b[39m] \u001b[38;5;241m==\u001b[39m \u001b[38;5;124m\"\u001b[39m\u001b[38;5;130;01m\\\\\u001b[39;00m\u001b[38;5;124m\"\u001b[39m:\n\u001b[0;32m--> 525\u001b[0m     code \u001b[38;5;241m=\u001b[39m \u001b[43m_escape\u001b[49m\u001b[43m(\u001b[49m\u001b[43msource\u001b[49m\u001b[43m,\u001b[49m\u001b[43m \u001b[49m\u001b[43mthis\u001b[49m\u001b[43m,\u001b[49m\u001b[43m \u001b[49m\u001b[43mstate\u001b[49m\u001b[43m)\u001b[49m\n\u001b[1;32m    526\u001b[0m     subpatternappend(code)\n\u001b[1;32m    528\u001b[0m \u001b[38;5;28;01melif\u001b[39;00m this \u001b[38;5;129;01mnot\u001b[39;00m \u001b[38;5;129;01min\u001b[39;00m SPECIAL_CHARS:\n",
      "File \u001b[0;32m~/miniforge3/envs/ai/lib/python3.8/sre_parse.py:426\u001b[0m, in \u001b[0;36m_escape\u001b[0;34m(source, escape, state)\u001b[0m\n\u001b[1;32m    424\u001b[0m     \u001b[38;5;28;01mif\u001b[39;00m \u001b[38;5;28mlen\u001b[39m(escape) \u001b[38;5;241m==\u001b[39m \u001b[38;5;241m2\u001b[39m:\n\u001b[1;32m    425\u001b[0m         \u001b[38;5;28;01mif\u001b[39;00m c \u001b[38;5;129;01min\u001b[39;00m ASCIILETTERS:\n\u001b[0;32m--> 426\u001b[0m             \u001b[38;5;28;01mraise\u001b[39;00m source\u001b[38;5;241m.\u001b[39merror(\u001b[38;5;124m\"\u001b[39m\u001b[38;5;124mbad escape \u001b[39m\u001b[38;5;132;01m%s\u001b[39;00m\u001b[38;5;124m\"\u001b[39m \u001b[38;5;241m%\u001b[39m escape, \u001b[38;5;28mlen\u001b[39m(escape))\n\u001b[1;32m    427\u001b[0m         \u001b[38;5;28;01mreturn\u001b[39;00m LITERAL, \u001b[38;5;28mord\u001b[39m(escape[\u001b[38;5;241m1\u001b[39m])\n\u001b[1;32m    428\u001b[0m \u001b[38;5;28;01mexcept\u001b[39;00m \u001b[38;5;167;01mValueError\u001b[39;00m:\n",
      "\u001b[0;31merror\u001b[0m: bad escape \\c at position 0"
     ]
    }
   ],
   "source": [
    "replacements = {\n",
    "        r'\\\\d': 'd',\n",
    "        r'\\\\G': 'G',\n",
    "        r'\\\\O': 'O',\n",
    "        r'\\\\C': 'C',\n",
    "        r'\\\\V': 'V',\n",
    "        r'\\\\L': 'L',\n",
    "        r'\\\\R': 'R',\n",
    "        r'\\\\S': 'S',\n",
    "        r'\\\\Mp': 'Mp',\n",
    "        r'\\\\cN': 'N',\n",
    "        r'\\\\cC': 'C',\n",
    "        r'\\\\cP': 'P',\n",
    "        r'\\\\cR': 'R'\n",
    "    }\n",
    "\n",
    "brace_commands = [r'\\\\emph', r'\\\\footnote', r'\\\\it']\n",
    "\n",
    "simplified_text = replace_latex_commands(latex_content, replacements, brace_commands)\n",
    "simplified_text"
   ]
  },
  {
   "cell_type": "code",
   "execution_count": 11,
   "id": "5dcd13f1-e456-46f9-982f-6d983e6f7424",
   "metadata": {},
   "outputs": [],
   "source": [
    "polished_text = clean_latex_content(simplified_text)\n",
    "#polished_text"
   ]
  },
  {
   "cell_type": "code",
   "execution_count": 12,
   "id": "46643129-00c6-4d0a-a094-9cdaa50f8fd0",
   "metadata": {},
   "outputs": [
    {
     "name": "stdout",
     "output_type": "stream",
     "text": [
      "The number of chunks is: 143.\n"
     ]
    }
   ],
   "source": [
    "no_char_in_chunk = 2000\n",
    "\n",
    "chunks = chunk_text(polished_text, no_char_in_chunk)\n",
    "chunks = [chunk.replace(\"%\", \"\") for chunk in chunks]\n",
    "print(\"The number of chunks is: \" + str(len(chunks)) + \".\")\n",
    "#chunks[:2]"
   ]
  },
  {
   "cell_type": "code",
   "execution_count": 14,
   "id": "f7ad7f96-f714-4855-9dc2-7d43b677a33e",
   "metadata": {},
   "outputs": [],
   "source": [
    "# Define the number of Q&A pairs you want to generate for each chunk\n",
    "num_questions = 3"
   ]
  },
  {
   "cell_type": "code",
   "execution_count": 15,
   "id": "f00a0b77-3438-42f6-abda-6ca258fc1be6",
   "metadata": {},
   "outputs": [
    {
     "data": {
      "text/plain": [
       "\"You are an expert in theoretical physics. I will provide a text, and I'd like you to generate {num_questions} questions a researcher-level colleague might ask about the topic of the text. Then, provide detailed answers to these questions as an expeert in the field. Format your responses as follows: 'Question 1: [question here] Answer 1: [answer here]' and so on for all {num_questions} questions.\""
      ]
     },
     "metadata": {},
     "output_type": "display_data"
    },
    {
     "data": {
      "text/plain": [
       "'Based on the following text, please generate the questions and answers as instructed. Text: {chunk}'"
      ]
     },
     "metadata": {},
     "output_type": "display_data"
    }
   ],
   "source": [
    "system_prompt_template = \"You are an expert in theoretical physics. I will provide a text, and I'd like you to generate {num_questions} questions a researcher-level colleague might ask about the topic of the text. Then, provide detailed answers to these questions as an expeert in the field. Format your responses as follows: 'Question 1: [question here] Answer 1: [answer here]' and so on for all {num_questions} questions.\"\n",
    "\n",
    "user_prompt_template = \"Based on the following text, please generate the questions and answers as instructed. Text: {chunk}\"\n",
    "\n",
    "display(system_prompt_template)\n",
    "display(user_prompt_template)\n"
   ]
  },
  {
   "cell_type": "code",
   "execution_count": 16,
   "id": "321724c6-e549-4f54-a143-1fed40c5bb4e",
   "metadata": {},
   "outputs": [],
   "source": [
    "client = OpenAI()\n",
    "\n",
    "# Initialize a list to store chunk and response pairs\n",
    "chunk_responses = []\n",
    "\n",
    "# Assume chunks_test is a list of text chunks you want to generate Q&A for\n",
    "for chunk in chunks:\n",
    "    system_prompt, user_prompt = generate_prompt(chunk, num_questions, system_prompt_template, user_prompt_template)\n",
    "    \n",
    "    # Call the OpenAI API once per chunk\n",
    "    response = client.chat.completions.create(\n",
    "        model=\"gpt-3.5-turbo-0125\",\n",
    "        messages=[system_prompt, user_prompt]\n",
    "    )\n",
    "    \n",
    "    # Append both the chunk and its response to the chunk_responses list\n",
    "    chunk_responses.append({\n",
    "        \"chunk\": chunk,\n",
    "        \"response\": response.choices[-1].message.content if response.choices else \"No response\"\n",
    "    })\n"
   ]
  },
  {
   "cell_type": "code",
   "execution_count": 17,
   "id": "75f9005a-3950-464b-9365-391df1f86cb1",
   "metadata": {},
   "outputs": [],
   "source": [
    "# Initialize lists to hold the DataFrame data\n",
    "chunk_list = []\n",
    "question_list = []\n",
    "answer_list = []\n",
    "sub_index = []\n",
    "\n",
    "# Process each chunk-response pair\n",
    "for item in chunk_responses:\n",
    "    chunk = item['chunk']\n",
    "    response = item['response']\n",
    "    \n",
    "    # Split the response into Q&As\n",
    "    qas = response.split('\\n\\n')  # Assuming two newlines separate each Q&A pair\n",
    "    for i, qa in enumerate(qas):\n",
    "        # Attempt to split the QA into question and answer\n",
    "        parts = qa.split('\\nAnswer ')\n",
    "        if len(parts) == 2:\n",
    "            question = parts[0].replace('Question {}: '.format(i+1), '').strip()\n",
    "            answer = parts[1].strip()\n",
    "            chunk_list.append(chunk)\n",
    "            question_list.append(question)\n",
    "            answer_list.append(answer)\n",
    "            sub_index.append(i+1)"
   ]
  },
  {
   "cell_type": "code",
   "execution_count": 20,
   "id": "322d83ad-2084-42ee-b4dd-52c7bc53fb38",
   "metadata": {},
   "outputs": [
    {
     "data": {
      "text/html": [
       "<div>\n",
       "<style scoped>\n",
       "    .dataframe tbody tr th:only-of-type {\n",
       "        vertical-align: middle;\n",
       "    }\n",
       "\n",
       "    .dataframe tbody tr th {\n",
       "        vertical-align: top;\n",
       "    }\n",
       "\n",
       "    .dataframe thead th {\n",
       "        text-align: right;\n",
       "    }\n",
       "</style>\n",
       "<table border=\"1\" class=\"dataframe\">\n",
       "  <thead>\n",
       "    <tr style=\"text-align: right;\">\n",
       "      <th></th>\n",
       "      <th></th>\n",
       "      <th>Question</th>\n",
       "      <th>Answer</th>\n",
       "    </tr>\n",
       "    <tr>\n",
       "      <th>Chunk</th>\n",
       "      <th>Q&amp;A Index</th>\n",
       "      <th></th>\n",
       "      <th></th>\n",
       "    </tr>\n",
       "  </thead>\n",
       "  <tbody>\n",
       "    <tr>\n",
       "      <th rowspan=\"3\" valign=\"top\">Liam McAllister$^{a}$ and Fernando Quevedo$^{b}$ 30   We give an overview of moduli stabilization in compactifications of string theory. We summarize current methods for construction and analysis of vacua with stabilized moduli, and we describe applications to cosmology and particle physics. This is a contribution to the Handbook on Quantum Gravity.  The fundamental physical laws that govern our Universe must describe gravity and quantum mechanics. To discover the laws of quantum gravity, we cannot entirely rely on terrestrial experiments, or even on cosmological observations: the energies of observable processes are far too low to give a complete picture, in contrast to the way that collider experiments eventually revealed the Standard Model of particle physics. We may hope for some guidance from experiment, but theorists will have to provide a framework. String theory is such a framework: it is a theory of quantum gravity through which we can take a constructive approach to exploring possible laws of quantum gravity in our Universe. The first obstacle is that the world we observe at low energies is four-dimensional, while the best-understood solutions of string theory are ten-dimensional. Kaluza-Klein theory \\cite{Kaluza:1921tu,Klein:1926tv}, now more than a century old, provides a way to bridge this gap. If the extra dimensions correspond to a six-dimensional compact space that is smaller than the reach of any experimental probe then only three spatial dimensions will be seen. However, the size and shape of the extra dimensions are dynamical: they are parameterized by the expectation values of scalar fields known as moduli. Unless the moduli have large masses, they mediate long-range forces that are not observed in our world. Thus, a central problem of Kaluza-Klein theories is to provide a dynamical explanation for the requisite size of the extra dimensions, and to ensure that the moduli masses are consistent with experiment.</th>\n",
       "      <th>1</th>\n",
       "      <td>What are the main challenges in moduli stabilization in compactifications of string theory?</td>\n",
       "      <td>The main challenges in moduli stabilization in compactifications of string theory include ensuring that the size and shape of extra dimensions are dynamically determined by the expectation values of scalar fields (moduli) and that the masses of these moduli are consistent with experimental observations. Additionally, ensuring that the moduli do not mediate long-range forces that contradict our observed world is crucial.</td>\n",
       "    </tr>\n",
       "    <tr>\n",
       "      <th>2</th>\n",
       "      <td>How does string theory provide a framework for exploring laws of quantum gravity, and why is it necessary in our quest to understand the Universe's fundamental physical laws?</td>\n",
       "      <td>String theory provides a theoretical framework for exploring quantum gravity by unifying gravity with quantum mechanics. It is necessary because terrestrial experiments and cosmological observations do not provide high enough energies for a complete understanding of quantum gravity. With string theory, theorists can constructively explore possible laws of quantum gravity and address the discrepancies between the observed four-dimensional world and the underlying ten-dimensional nature of string theory.</td>\n",
       "    </tr>\n",
       "    <tr>\n",
       "      <th>3</th>\n",
       "      <td>How does Kaluza-Klein theory address the issue of extra dimensions in the context of string theory, and what role do moduli play in this framework?</td>\n",
       "      <td>Kaluza-Klein theory helps bridge the gap between the observed four-dimensional world and the ten-dimensional nature of string theory by proposing that the extra dimensions are compactified on a six-dimensional space that is smaller than detectable by current experiments. The moduli, scalar fields in string theory, parameterize the size and shape of these extra dimensions. Moduli stabilization aims to dynamically fix the values of these fields to ensure the extra dimensions are consistent with our observed world and do not lead to long-range forces not seen in nature.</td>\n",
       "    </tr>\n",
       "    <tr>\n",
       "      <th rowspan=\"2\" valign=\"top\">Thus, a central problem of Kaluza-Klein theories is to provide a dynamical explanation for the requisite size of the extra dimensions, and to ensure that the moduli masses are consistent with experiment. Addressing these challenges is the main obstacle in connecting string theory to observations, and it is the subject of this review.For previous reviews on fluxes and the string landscape see \\cite{Grana:2005jc,Douglas:2006es,Hebecker:2021egx. For string cosmology see \\cite{Baumann:2014nda}, the recent review \\cite{Cicoli:2023opf}, and references therein. The geometry of string compactifications is treated in \\cite{Tomasiello:2022dwe}. For a more mathematical perspective on flux compactifications, see \\cite{MikeEMP}. To understand quantum gravity in our four-dimensional, non-supersymmetric Universe, we will study compactifications of superstring theory on six-dimensional compact spaces, and seek solutions in which supersymmetry is broken. In this section we will carefully explain the reasoning that directs us to the class of solutions that are the subject of this chapter: namely, flux compactifications on orientifolds of Calabi-Yau threefolds. To begin, we take a product ansatz for a ten-dimensional spacetime, \\begin{equation}\\label{eq:productansatz}\\n ds^2 = g_{\\mu\\nu}(x)d x^{\\mu}d x^{\\nu}+g_{mn}(y)d y^m d y^n\\,,   \\n\\end{equation} for $\\mu,\\nu = 0,\\ldots,3$ and $m,n=4,\\ldots,9$. We suppose that $g_{mn}$ is a Riemannian metric on some compact spaceThis space may be a proper six-manifold, or it may be some more singular space on which string theory remains well-defined, but in both cases we will use the term `manifold'. $X_6$. Defining the Ricci tensors $R_{\\mu\\nu}$ and $R_{mn}$ constructed from $g_{\\mu\\nu}$ and $g_{mn}$, respectively, the ansatz \\eqref{eq:productansatz} solves the ten-dimensional vacuum Einstein equations if and only if $R_{\\mu\\nu} = R_{mn} = 0$. Thus, vacuum solutions of string theory are furnished by Ricci-flat six-manifolds.</th>\n",
       "      <th>1</th>\n",
       "      <td>What is the central problem concerning Kaluza-Klein theories mentioned in the text and why is it crucial for connecting string theory to observations?</td>\n",
       "      <td>The central problem of Kaluza-Klein theories mentioned in the text is providing a dynamical explanation for the size of the extra dimensions and ensuring that the masses of the moduli are consistent with experimental observations. This is crucial for connecting string theory to observations because it directly impacts the predictions made by these theories and their compatibility with experimental results.</td>\n",
       "    </tr>\n",
       "    <tr>\n",
       "      <th>2</th>\n",
       "      <td>How do Ricci-flat six-manifolds play a role in providing vacuum solutions of string theory as discussed in the text?</td>\n",
       "      <td>In the context of the text, the vacuum solutions of string theory are described by Ricci-flat six-manifolds. This means that for the ten-dimensional vacuum Einstein equations to be solved, the Ricci tensors corresponding to the internal compact space and the four-dimensional spacetime must be zero. Therefore, vacuum solutions of string theory are established by utilizing Ricci-flat six-manifolds.</td>\n",
       "    </tr>\n",
       "    <tr>\n",
       "      <th>...</th>\n",
       "      <th>...</th>\n",
       "      <td>...</td>\n",
       "      <td>...</td>\n",
       "    </tr>\n",
       "    <tr>\n",
       "      <th rowspan=\"2\" valign=\"top\">The necessary choices are discrete fine-tunings, but they are achievable. For example, the selection of flux quanta giving a small classical flux superpotential in the KKLT scenario leads to a vacuum in which the Calabi-Yau volume is large, and this can be accomplished in actual examples \\cite{Demirtas:2021nlu}. The task of ensuring that all approximations are under control remains the key technical frontier of moduli stabilization. With each advance in understanding corrections to the four-dimensional EFTs of string compactifications, one can reduce the theory errors in existing constructions, or pursue new constructions that furnish a broader and less fine-tuned class of stabilized vacua. Despite the achievements of recent years, the number of actual solutions that have been constructed is extremely small compared to the astronomical number of compactifications known to exist. Moreover, much of what is now understood applies under particular lampposts, such as the geometric regime in Ricci-flat compactifications. Whole realms of vacua lie undiscovered. Finally, arguably the most important problem in moduli stabilization is obtaining de Sitter solutions that account for the observed acceleration of the universe. We have seen no meaningful evidence of any fundamental obstacle to the existence of de Sitter vacua. However, much work remains to establish a landscape of de Sitter vacua in totally explicit and precisely-controlled compactifications of string theory. The new computational techniques reviewed in S may prove crucial for addressing these questions, for systematically constructing more general classes of flux compactifications, and eventually for establishing the structure of cosmological solutions of string theory. We would like to thank Carlo Angelantonj and Ignatios Antoniadis, and all the editors of the Handbook on Quantum Gravity, for inviting us to write this review, and for their infinite patience through many delays.</th>\n",
       "      <th>2</th>\n",
       "      <td>How do fine-tunings in flux quanta selection impact the stability of vacua in string theory compactifications?</td>\n",
       "      <td>Fine-tunings in flux quanta selection, such as achieving a small classical flux superpotential in the KKLT scenario, can lead to stable vacua in which the Calabi-Yau volume is large. These choices are discrete and essential for achieving stabilized vacua within string theory compactifications.</td>\n",
       "    </tr>\n",
       "    <tr>\n",
       "      <th>3</th>\n",
       "      <td>What is the significance of establishing a landscape of de Sitter vacua in string theory compactifications?</td>\n",
       "      <td>Establishing a landscape of de Sitter vacua in string theory compactifications is crucial for explaining the universe's observed acceleration. While there is no fundamental obstacle to the existence of de Sitter vacua, significant work is needed to precisely control and explicitly construct these solutions within the framework of string theory.</td>\n",
       "    </tr>\n",
       "    <tr>\n",
       "      <th rowspan=\"3\" valign=\"top\">We would like to thank Carlo Angelantonj and Ignatios Antoniadis, and all the editors of the Handbook on Quantum Gravity, for inviting us to write this review, and for their infinite patience through many delays. We also thank Shamit Kachru for early collaboration on this project. We are grateful to Michele Cicoli, Joe Conlon, Naomi Gendler, Jim Halverson, Manki Kim, Sven Krippendorf, David J.E.~Marsh, Raffaele Savelli, Elijah Sheridan, Pramod Shukla, Roberto Valandro, and Timm Wrase for comments on a preliminary draft, and we particularly thank Jakob Moritz and Andreas Schachner for many corrections. The work of L.M.~was supported in part by NSF grant PHY–2014071.</th>\n",
       "      <th>1</th>\n",
       "      <td>What is the Handbook on Quantum Gravity mentioned in the text, and why was it significant for the authors to contribute a review to it?</td>\n",
       "      <td>The Handbook on Quantum Gravity is likely a comprehensive reference book that provides a guide to the current state of research in the field of quantum gravity. It is a significant platform for researchers to share their knowledge and insights with the scientific community. Therefore, it was important for the authors to contribute a review to this handbook as a means of presenting their work and ideas to a broader audience of experts in the field.</td>\n",
       "    </tr>\n",
       "    <tr>\n",
       "      <th>2</th>\n",
       "      <td>Who are Carlo Angelantonj and Ignatios Antoniadis, and what might be their contributions or expertise in the field of quantum gravity?</td>\n",
       "      <td>Carlo Angelantonj and Ignatios Antoniadis are likely renowned researchers or scholars who have made significant contributions to the field of quantum gravity. They may have expertise in areas such as string theory, quantum field theory, or general relativity, which are all relevant to the study of quantum gravity. Their invitation to the authors to contribute to the Handbook on Quantum Gravity indicates that they are respected figures in the field.</td>\n",
       "    </tr>\n",
       "    <tr>\n",
       "      <th>3</th>\n",
       "      <td>How do acknowledgments such as the one in the text contribute to the scientific community and research collaborations in theoretical physics?</td>\n",
       "      <td>Acknowledgments play a crucial role in fostering a collaborative and supportive atmosphere within the scientific community. By acknowledging the contributions, feedback, and support received from various individuals, researchers not only express gratitude but also strengthen their relationships with colleagues. This can lead to future collaborations, feedback exchanges, and an overall improvement in the quality of research being conducted in theoretical physics.</td>\n",
       "    </tr>\n",
       "  </tbody>\n",
       "</table>\n",
       "<p>355 rows × 2 columns</p>\n",
       "</div>"
      ],
      "text/plain": [
       "                                                                                                                                                                                                                                                                                                                                                                                                                                                                                                                                                                                                                                                                                                                                                                                                                                                                                                                                                                                                                                                                                                                                                                                                                                                                                                                                                                                                                                                                                                                                                                                                                                                                                                                                                                                                                                                                                                                                                                                                                                                                                                                                                                                                                                            Question  \\\n",
       "Chunk                                                                                                                                                                                                                                                                                                                                                                                                                                                                                                                                                                                                                                                                                                                                                                                                                                                                                                                                                                                                                                                                                                                                                                                                                                                                                                                                                                                                                                                                                                                                                                                                                                                                                                                                                                                                                                                                                                                                                                                                                                                      Q&A Index                                                                                                                                                                                   \n",
       "Liam McAllister$^{a}$ and Fernando Quevedo$^{b}$ 30   We give an overview of moduli stabilization in compactifications of string theory. We summarize current methods for construction and analysis of vacua with stabilized moduli, and we describe applications to cosmology and particle physics. This is a contribution to the Handbook on Quantum Gravity.  The fundamental physical laws that govern our Universe must describe gravity and quantum mechanics. To discover the laws of quantum gravity, we cannot entirely rely on terrestrial experiments, or even on cosmological observations: the energies of observable processes are far too low to give a complete picture, in contrast to the way that collider experiments eventually revealed the Standard Model of particle physics. We may hope for some guidance from experiment, but theorists will have to provide a framework. String theory is such a framework: it is a theory of quantum gravity through which we can take a constructive approach to exploring possible laws of quantum gravity in our Universe. The first obstacle is that the world we observe at low energies is four-dimensional, while the best-understood solutions of string theory are ten-dimensional. Kaluza-Klein theory \\cite{Kaluza:1921tu,Klein:1926tv}, now more than a century old, provides a way to bridge this gap. If the extra dimensions correspond to a six-dimensional compact space that is smaller than the reach of any experimental probe then only three spatial dimensions will be seen. However, the size and shape of the extra dimensions are dynamical: they are parameterized by the expectation values of scalar fields known as moduli. Unless the moduli have large masses, they mediate long-range forces that are not observed in our world. Thus, a central problem of Kaluza-Klein theories is to provide a dynamical explanation for the requisite size of the extra dimensions, and to ensure that the moduli masses are consistent with experiment.                 1                                                                                             What are the main challenges in moduli stabilization in compactifications of string theory?   \n",
       "                                                                                                                                                                                                                                                                                                                                                                                                                                                                                                                                                                                                                                                                                                                                                                                                                                                                                                                                                                                                                                                                                                                                                                                                                                                                                                                                                                                                                                                                                                                                                                                                                                                                                                                                                                                                                                                                                                                                                                                                                                                           2          How does string theory provide a framework for exploring laws of quantum gravity, and why is it necessary in our quest to understand the Universe's fundamental physical laws?   \n",
       "                                                                                                                                                                                                                                                                                                                                                                                                                                                                                                                                                                                                                                                                                                                                                                                                                                                                                                                                                                                                                                                                                                                                                                                                                                                                                                                                                                                                                                                                                                                                                                                                                                                                                                                                                                                                                                                                                                                                                                                                                                                           3                                     How does Kaluza-Klein theory address the issue of extra dimensions in the context of string theory, and what role do moduli play in this framework?   \n",
       "Thus, a central problem of Kaluza-Klein theories is to provide a dynamical explanation for the requisite size of the extra dimensions, and to ensure that the moduli masses are consistent with experiment. Addressing these challenges is the main obstacle in connecting string theory to observations, and it is the subject of this review.For previous reviews on fluxes and the string landscape see \\cite{Grana:2005jc,Douglas:2006es,Hebecker:2021egx. For string cosmology see \\cite{Baumann:2014nda}, the recent review \\cite{Cicoli:2023opf}, and references therein. The geometry of string compactifications is treated in \\cite{Tomasiello:2022dwe}. For a more mathematical perspective on flux compactifications, see \\cite{MikeEMP}. To understand quantum gravity in our four-dimensional, non-supersymmetric Universe, we will study compactifications of superstring theory on six-dimensional compact spaces, and seek solutions in which supersymmetry is broken. In this section we will carefully explain the reasoning that directs us to the class of solutions that are the subject of this chapter: namely, flux compactifications on orientifolds of Calabi-Yau threefolds. To begin, we take a product ansatz for a ten-dimensional spacetime, \\begin{equation}\\label{eq:productansatz}\\n ds^2 = g_{\\mu\\nu}(x)d x^{\\mu}d x^{\\nu}+g_{mn}(y)d y^m d y^n\\,,   \\n\\end{equation} for $\\mu,\\nu = 0,\\ldots,3$ and $m,n=4,\\ldots,9$. We suppose that $g_{mn}$ is a Riemannian metric on some compact spaceThis space may be a proper six-manifold, or it may be some more singular space on which string theory remains well-defined, but in both cases we will use the term `manifold'. $X_6$. Defining the Ricci tensors $R_{\\mu\\nu}$ and $R_{mn}$ constructed from $g_{\\mu\\nu}$ and $g_{mn}$, respectively, the ansatz \\eqref{eq:productansatz} solves the ten-dimensional vacuum Einstein equations if and only if $R_{\\mu\\nu} = R_{mn} = 0$. Thus, vacuum solutions of string theory are furnished by Ricci-flat six-manifolds. 1                                  What is the central problem concerning Kaluza-Klein theories mentioned in the text and why is it crucial for connecting string theory to observations?   \n",
       "                                                                                                                                                                                                                                                                                                                                                                                                                                                                                                                                                                                                                                                                                                                                                                                                                                                                                                                                                                                                                                                                                                                                                                                                                                                                                                                                                                                                                                                                                                                                                                                                                                                                                                                                                                                                                                                                                                                                                                                                                                                           2                                                                    How do Ricci-flat six-manifolds play a role in providing vacuum solutions of string theory as discussed in the text?   \n",
       "...                                                                                                                                                                                                                                                                                                                                                                                                                                                                                                                                                                                                                                                                                                                                                                                                                                                                                                                                                                                                                                                                                                                                                                                                                                                                                                                                                                                                                                                                                                                                                                                                                                                                                                                                                                                                                                                                                                                                                                                                                                                                                                                                                                                                                                              ...   \n",
       "The necessary choices are discrete fine-tunings, but they are achievable. For example, the selection of flux quanta giving a small classical flux superpotential in the KKLT scenario leads to a vacuum in which the Calabi-Yau volume is large, and this can be accomplished in actual examples \\cite{Demirtas:2021nlu}. The task of ensuring that all approximations are under control remains the key technical frontier of moduli stabilization. With each advance in understanding corrections to the four-dimensional EFTs of string compactifications, one can reduce the theory errors in existing constructions, or pursue new constructions that furnish a broader and less fine-tuned class of stabilized vacua. Despite the achievements of recent years, the number of actual solutions that have been constructed is extremely small compared to the astronomical number of compactifications known to exist. Moreover, much of what is now understood applies under particular lampposts, such as the geometric regime in Ricci-flat compactifications. Whole realms of vacua lie undiscovered. Finally, arguably the most important problem in moduli stabilization is obtaining de Sitter solutions that account for the observed acceleration of the universe. We have seen no meaningful evidence of any fundamental obstacle to the existence of de Sitter vacua. However, much work remains to establish a landscape of de Sitter vacua in totally explicit and precisely-controlled compactifications of string theory. The new computational techniques reviewed in S may prove crucial for addressing these questions, for systematically constructing more general classes of flux compactifications, and eventually for establishing the structure of cosmological solutions of string theory. We would like to thank Carlo Angelantonj and Ignatios Antoniadis, and all the editors of the Handbook on Quantum Gravity, for inviting us to write this review, and for their infinite patience through many delays.              2                                                                          How do fine-tunings in flux quanta selection impact the stability of vacua in string theory compactifications?   \n",
       "                                                                                                                                                                                                                                                                                                                                                                                                                                                                                                                                                                                                                                                                                                                                                                                                                                                                                                                                                                                                                                                                                                                                                                                                                                                                                                                                                                                                                                                                                                                                                                                                                                                                                                                                                                                                                                                                                                                                                                                                                                                           3                                                                             What is the significance of establishing a landscape of de Sitter vacua in string theory compactifications?   \n",
       "We would like to thank Carlo Angelantonj and Ignatios Antoniadis, and all the editors of the Handbook on Quantum Gravity, for inviting us to write this review, and for their infinite patience through many delays. We also thank Shamit Kachru for early collaboration on this project. We are grateful to Michele Cicoli, Joe Conlon, Naomi Gendler, Jim Halverson, Manki Kim, Sven Krippendorf, David J.E.~Marsh, Raffaele Savelli, Elijah Sheridan, Pramod Shukla, Roberto Valandro, and Timm Wrase for comments on a preliminary draft, and we particularly thank Jakob Moritz and Andreas Schachner for many corrections. The work of L.M.~was supported in part by NSF grant PHY–2014071.                                                                                                                                                                                                                                                                                                                                                                                                                                                                                                                                                                                                                                                                                                                                                                                                                                                                                                                                                                                                                                                                                                                                                                                                                                                                                                                                                          1                                                 What is the Handbook on Quantum Gravity mentioned in the text, and why was it significant for the authors to contribute a review to it?   \n",
       "                                                                                                                                                                                                                                                                                                                                                                                                                                                                                                                                                                                                                                                                                                                                                                                                                                                                                                                                                                                                                                                                                                                                                                                                                                                                                                                                                                                                                                                                                                                                                                                                                                                                                                                                                                                                                                                                                                                                                                                                                                                           2                                                  Who are Carlo Angelantonj and Ignatios Antoniadis, and what might be their contributions or expertise in the field of quantum gravity?   \n",
       "                                                                                                                                                                                                                                                                                                                                                                                                                                                                                                                                                                                                                                                                                                                                                                                                                                                                                                                                                                                                                                                                                                                                                                                                                                                                                                                                                                                                                                                                                                                                                                                                                                                                                                                                                                                                                                                                                                                                                                                                                                                           3                                           How do acknowledgments such as the one in the text contribute to the scientific community and research collaborations in theoretical physics?   \n",
       "\n",
       "                                                                                                                                                                                                                                                                                                                                                                                                                                                                                                                                                                                                                                                                                                                                                                                                                                                                                                                                                                                                                                                                                                                                                                                                                                                                                                                                                                                                                                                                                                                                                                                                                                                                                                                                                                                                                                                                                                                                                                                                                                                                                                                                                                                                                                                                                                                                                                                                                                                                                                                                                                                                                                                             Answer  \n",
       "Chunk                                                                                                                                                                                                                                                                                                                                                                                                                                                                                                                                                                                                                                                                                                                                                                                                                                                                                                                                                                                                                                                                                                                                                                                                                                                                                                                                                                                                                                                                                                                                                                                                                                                                                                                                                                                                                                                                                                                                                                                                                                                      Q&A Index                                                                                                                                                                                                                                                                                                                                                                                                                                                                                                                                                                                                 \n",
       "Liam McAllister$^{a}$ and Fernando Quevedo$^{b}$ 30   We give an overview of moduli stabilization in compactifications of string theory. We summarize current methods for construction and analysis of vacua with stabilized moduli, and we describe applications to cosmology and particle physics. This is a contribution to the Handbook on Quantum Gravity.  The fundamental physical laws that govern our Universe must describe gravity and quantum mechanics. To discover the laws of quantum gravity, we cannot entirely rely on terrestrial experiments, or even on cosmological observations: the energies of observable processes are far too low to give a complete picture, in contrast to the way that collider experiments eventually revealed the Standard Model of particle physics. We may hope for some guidance from experiment, but theorists will have to provide a framework. String theory is such a framework: it is a theory of quantum gravity through which we can take a constructive approach to exploring possible laws of quantum gravity in our Universe. The first obstacle is that the world we observe at low energies is four-dimensional, while the best-understood solutions of string theory are ten-dimensional. Kaluza-Klein theory \\cite{Kaluza:1921tu,Klein:1926tv}, now more than a century old, provides a way to bridge this gap. If the extra dimensions correspond to a six-dimensional compact space that is smaller than the reach of any experimental probe then only three spatial dimensions will be seen. However, the size and shape of the extra dimensions are dynamical: they are parameterized by the expectation values of scalar fields known as moduli. Unless the moduli have large masses, they mediate long-range forces that are not observed in our world. Thus, a central problem of Kaluza-Klein theories is to provide a dynamical explanation for the requisite size of the extra dimensions, and to ensure that the moduli masses are consistent with experiment.                 1                                                                                                                                                                The main challenges in moduli stabilization in compactifications of string theory include ensuring that the size and shape of extra dimensions are dynamically determined by the expectation values of scalar fields (moduli) and that the masses of these moduli are consistent with experimental observations. Additionally, ensuring that the moduli do not mediate long-range forces that contradict our observed world is crucial.  \n",
       "                                                                                                                                                                                                                                                                                                                                                                                                                                                                                                                                                                                                                                                                                                                                                                                                                                                                                                                                                                                                                                                                                                                                                                                                                                                                                                                                                                                                                                                                                                                                                                                                                                                                                                                                                                                                                                                                                                                                                                                                                                                           2                                                                            String theory provides a theoretical framework for exploring quantum gravity by unifying gravity with quantum mechanics. It is necessary because terrestrial experiments and cosmological observations do not provide high enough energies for a complete understanding of quantum gravity. With string theory, theorists can constructively explore possible laws of quantum gravity and address the discrepancies between the observed four-dimensional world and the underlying ten-dimensional nature of string theory.  \n",
       "                                                                                                                                                                                                                                                                                                                                                                                                                                                                                                                                                                                                                                                                                                                                                                                                                                                                                                                                                                                                                                                                                                                                                                                                                                                                                                                                                                                                                                                                                                                                                                                                                                                                                                                                                                                                                                                                                                                                                                                                                                                           3          Kaluza-Klein theory helps bridge the gap between the observed four-dimensional world and the ten-dimensional nature of string theory by proposing that the extra dimensions are compactified on a six-dimensional space that is smaller than detectable by current experiments. The moduli, scalar fields in string theory, parameterize the size and shape of these extra dimensions. Moduli stabilization aims to dynamically fix the values of these fields to ensure the extra dimensions are consistent with our observed world and do not lead to long-range forces not seen in nature.  \n",
       "Thus, a central problem of Kaluza-Klein theories is to provide a dynamical explanation for the requisite size of the extra dimensions, and to ensure that the moduli masses are consistent with experiment. Addressing these challenges is the main obstacle in connecting string theory to observations, and it is the subject of this review.For previous reviews on fluxes and the string landscape see \\cite{Grana:2005jc,Douglas:2006es,Hebecker:2021egx. For string cosmology see \\cite{Baumann:2014nda}, the recent review \\cite{Cicoli:2023opf}, and references therein. The geometry of string compactifications is treated in \\cite{Tomasiello:2022dwe}. For a more mathematical perspective on flux compactifications, see \\cite{MikeEMP}. To understand quantum gravity in our four-dimensional, non-supersymmetric Universe, we will study compactifications of superstring theory on six-dimensional compact spaces, and seek solutions in which supersymmetry is broken. In this section we will carefully explain the reasoning that directs us to the class of solutions that are the subject of this chapter: namely, flux compactifications on orientifolds of Calabi-Yau threefolds. To begin, we take a product ansatz for a ten-dimensional spacetime, \\begin{equation}\\label{eq:productansatz}\\n ds^2 = g_{\\mu\\nu}(x)d x^{\\mu}d x^{\\nu}+g_{mn}(y)d y^m d y^n\\,,   \\n\\end{equation} for $\\mu,\\nu = 0,\\ldots,3$ and $m,n=4,\\ldots,9$. We suppose that $g_{mn}$ is a Riemannian metric on some compact spaceThis space may be a proper six-manifold, or it may be some more singular space on which string theory remains well-defined, but in both cases we will use the term `manifold'. $X_6$. Defining the Ricci tensors $R_{\\mu\\nu}$ and $R_{mn}$ constructed from $g_{\\mu\\nu}$ and $g_{mn}$, respectively, the ansatz \\eqref{eq:productansatz} solves the ten-dimensional vacuum Einstein equations if and only if $R_{\\mu\\nu} = R_{mn} = 0$. Thus, vacuum solutions of string theory are furnished by Ricci-flat six-manifolds. 1                                                                                                                                                                              The central problem of Kaluza-Klein theories mentioned in the text is providing a dynamical explanation for the size of the extra dimensions and ensuring that the masses of the moduli are consistent with experimental observations. This is crucial for connecting string theory to observations because it directly impacts the predictions made by these theories and their compatibility with experimental results.  \n",
       "                                                                                                                                                                                                                                                                                                                                                                                                                                                                                                                                                                                                                                                                                                                                                                                                                                                                                                                                                                                                                                                                                                                                                                                                                                                                                                                                                                                                                                                                                                                                                                                                                                                                                                                                                                                                                                                                                                                                                                                                                                                           2                                                                                                                                                                                        In the context of the text, the vacuum solutions of string theory are described by Ricci-flat six-manifolds. This means that for the ten-dimensional vacuum Einstein equations to be solved, the Ricci tensors corresponding to the internal compact space and the four-dimensional spacetime must be zero. Therefore, vacuum solutions of string theory are established by utilizing Ricci-flat six-manifolds.  \n",
       "...                                                                                                                                                                                                                                                                                                                                                                                                                                                                                                                                                                                                                                                                                                                                                                                                                                                                                                                                                                                                                                                                                                                                                                                                                                                                                                                                                                                                                                                                                                                                                                                                                                                                                                                                                                                                                                                                                                                                                                                                                                                                                                                                                                                                                                                                                                                                                                                                                                                                                                                                                                                                                                                             ...  \n",
       "The necessary choices are discrete fine-tunings, but they are achievable. For example, the selection of flux quanta giving a small classical flux superpotential in the KKLT scenario leads to a vacuum in which the Calabi-Yau volume is large, and this can be accomplished in actual examples \\cite{Demirtas:2021nlu}. The task of ensuring that all approximations are under control remains the key technical frontier of moduli stabilization. With each advance in understanding corrections to the four-dimensional EFTs of string compactifications, one can reduce the theory errors in existing constructions, or pursue new constructions that furnish a broader and less fine-tuned class of stabilized vacua. Despite the achievements of recent years, the number of actual solutions that have been constructed is extremely small compared to the astronomical number of compactifications known to exist. Moreover, much of what is now understood applies under particular lampposts, such as the geometric regime in Ricci-flat compactifications. Whole realms of vacua lie undiscovered. Finally, arguably the most important problem in moduli stabilization is obtaining de Sitter solutions that account for the observed acceleration of the universe. We have seen no meaningful evidence of any fundamental obstacle to the existence of de Sitter vacua. However, much work remains to establish a landscape of de Sitter vacua in totally explicit and precisely-controlled compactifications of string theory. The new computational techniques reviewed in S may prove crucial for addressing these questions, for systematically constructing more general classes of flux compactifications, and eventually for establishing the structure of cosmological solutions of string theory. We would like to thank Carlo Angelantonj and Ignatios Antoniadis, and all the editors of the Handbook on Quantum Gravity, for inviting us to write this review, and for their infinite patience through many delays.              2                                                                                                                                                                                                                                                                                                 Fine-tunings in flux quanta selection, such as achieving a small classical flux superpotential in the KKLT scenario, can lead to stable vacua in which the Calabi-Yau volume is large. These choices are discrete and essential for achieving stabilized vacua within string theory compactifications.  \n",
       "                                                                                                                                                                                                                                                                                                                                                                                                                                                                                                                                                                                                                                                                                                                                                                                                                                                                                                                                                                                                                                                                                                                                                                                                                                                                                                                                                                                                                                                                                                                                                                                                                                                                                                                                                                                                                                                                                                                                                                                                                                                           3                                                                                                                                                                                                                                             Establishing a landscape of de Sitter vacua in string theory compactifications is crucial for explaining the universe's observed acceleration. While there is no fundamental obstacle to the existence of de Sitter vacua, significant work is needed to precisely control and explicitly construct these solutions within the framework of string theory.  \n",
       "We would like to thank Carlo Angelantonj and Ignatios Antoniadis, and all the editors of the Handbook on Quantum Gravity, for inviting us to write this review, and for their infinite patience through many delays. We also thank Shamit Kachru for early collaboration on this project. We are grateful to Michele Cicoli, Joe Conlon, Naomi Gendler, Jim Halverson, Manki Kim, Sven Krippendorf, David J.E.~Marsh, Raffaele Savelli, Elijah Sheridan, Pramod Shukla, Roberto Valandro, and Timm Wrase for comments on a preliminary draft, and we particularly thank Jakob Moritz and Andreas Schachner for many corrections. The work of L.M.~was supported in part by NSF grant PHY–2014071.                                                                                                                                                                                                                                                                                                                                                                                                                                                                                                                                                                                                                                                                                                                                                                                                                                                                                                                                                                                                                                                                                                                                                                                                                                                                                                                                                          1                                                                                                                                    The Handbook on Quantum Gravity is likely a comprehensive reference book that provides a guide to the current state of research in the field of quantum gravity. It is a significant platform for researchers to share their knowledge and insights with the scientific community. Therefore, it was important for the authors to contribute a review to this handbook as a means of presenting their work and ideas to a broader audience of experts in the field.  \n",
       "                                                                                                                                                                                                                                                                                                                                                                                                                                                                                                                                                                                                                                                                                                                                                                                                                                                                                                                                                                                                                                                                                                                                                                                                                                                                                                                                                                                                                                                                                                                                                                                                                                                                                                                                                                                                                                                                                                                                                                                                                                                           2                                                                                                                                   Carlo Angelantonj and Ignatios Antoniadis are likely renowned researchers or scholars who have made significant contributions to the field of quantum gravity. They may have expertise in areas such as string theory, quantum field theory, or general relativity, which are all relevant to the study of quantum gravity. Their invitation to the authors to contribute to the Handbook on Quantum Gravity indicates that they are respected figures in the field.  \n",
       "                                                                                                                                                                                                                                                                                                                                                                                                                                                                                                                                                                                                                                                                                                                                                                                                                                                                                                                                                                                                                                                                                                                                                                                                                                                                                                                                                                                                                                                                                                                                                                                                                                                                                                                                                                                                                                                                                                                                                                                                                                                           3                                                                                                                     Acknowledgments play a crucial role in fostering a collaborative and supportive atmosphere within the scientific community. By acknowledging the contributions, feedback, and support received from various individuals, researchers not only express gratitude but also strengthen their relationships with colleagues. This can lead to future collaborations, feedback exchanges, and an overall improvement in the quality of research being conducted in theoretical physics.  \n",
       "\n",
       "[355 rows x 2 columns]"
      ]
     },
     "execution_count": 20,
     "metadata": {},
     "output_type": "execute_result"
    }
   ],
   "source": [
    "# Create a MultiIndex from the chunks and their corresponding sub_index\n",
    "multi_index = pd.MultiIndex.from_arrays([chunk_list, sub_index], names=['Chunk', 'Q&A Index'])\n",
    "answer_list = [re.sub(r'^\\d+: ', '', answer) for answer in answer_list]\n",
    "\n",
    "# Construct the DataFrame\n",
    "df_multi = pd.DataFrame({'Question': question_list, 'Answer': answer_list}, index=multi_index)\n",
    "\n",
    "# Display the DataFrame\n",
    "df_multi"
   ]
  },
  {
   "cell_type": "code",
   "execution_count": 23,
   "id": "6ec68308-f066-4f30-a755-fff28213312a",
   "metadata": {},
   "outputs": [
    {
     "data": {
      "text/html": [
       "<div>\n",
       "<style scoped>\n",
       "    .dataframe tbody tr th:only-of-type {\n",
       "        vertical-align: middle;\n",
       "    }\n",
       "\n",
       "    .dataframe tbody tr th {\n",
       "        vertical-align: top;\n",
       "    }\n",
       "\n",
       "    .dataframe thead th {\n",
       "        text-align: right;\n",
       "    }\n",
       "</style>\n",
       "<table border=\"1\" class=\"dataframe\">\n",
       "  <thead>\n",
       "    <tr style=\"text-align: right;\">\n",
       "      <th></th>\n",
       "      <th>Question</th>\n",
       "      <th>Answer</th>\n",
       "    </tr>\n",
       "  </thead>\n",
       "  <tbody>\n",
       "    <tr>\n",
       "      <th>0</th>\n",
       "      <td>What are the main challenges in moduli stabilization in compactifications of string theory?</td>\n",
       "      <td>The main challenges in moduli stabilization in compactifications of string theory include ensuring that the size and shape of extra dimensions are dynamically determined by the expectation values of scalar fields (moduli) and that the masses of these moduli are consistent with experimental observations. Additionally, ensuring that the moduli do not mediate long-range forces that contradict our observed world is crucial.</td>\n",
       "    </tr>\n",
       "    <tr>\n",
       "      <th>1</th>\n",
       "      <td>How does string theory provide a framework for exploring laws of quantum gravity, and why is it necessary in our quest to understand the Universe's fundamental physical laws?</td>\n",
       "      <td>String theory provides a theoretical framework for exploring quantum gravity by unifying gravity with quantum mechanics. It is necessary because terrestrial experiments and cosmological observations do not provide high enough energies for a complete understanding of quantum gravity. With string theory, theorists can constructively explore possible laws of quantum gravity and address the discrepancies between the observed four-dimensional world and the underlying ten-dimensional nature of string theory.</td>\n",
       "    </tr>\n",
       "    <tr>\n",
       "      <th>2</th>\n",
       "      <td>How does Kaluza-Klein theory address the issue of extra dimensions in the context of string theory, and what role do moduli play in this framework?</td>\n",
       "      <td>Kaluza-Klein theory helps bridge the gap between the observed four-dimensional world and the ten-dimensional nature of string theory by proposing that the extra dimensions are compactified on a six-dimensional space that is smaller than detectable by current experiments. The moduli, scalar fields in string theory, parameterize the size and shape of these extra dimensions. Moduli stabilization aims to dynamically fix the values of these fields to ensure the extra dimensions are consistent with our observed world and do not lead to long-range forces not seen in nature.</td>\n",
       "    </tr>\n",
       "    <tr>\n",
       "      <th>3</th>\n",
       "      <td>What is the central problem concerning Kaluza-Klein theories mentioned in the text and why is it crucial for connecting string theory to observations?</td>\n",
       "      <td>The central problem of Kaluza-Klein theories mentioned in the text is providing a dynamical explanation for the size of the extra dimensions and ensuring that the masses of the moduli are consistent with experimental observations. This is crucial for connecting string theory to observations because it directly impacts the predictions made by these theories and their compatibility with experimental results.</td>\n",
       "    </tr>\n",
       "    <tr>\n",
       "      <th>4</th>\n",
       "      <td>How do Ricci-flat six-manifolds play a role in providing vacuum solutions of string theory as discussed in the text?</td>\n",
       "      <td>In the context of the text, the vacuum solutions of string theory are described by Ricci-flat six-manifolds. This means that for the ten-dimensional vacuum Einstein equations to be solved, the Ricci tensors corresponding to the internal compact space and the four-dimensional spacetime must be zero. Therefore, vacuum solutions of string theory are established by utilizing Ricci-flat six-manifolds.</td>\n",
       "    </tr>\n",
       "    <tr>\n",
       "      <th>...</th>\n",
       "      <td>...</td>\n",
       "      <td>...</td>\n",
       "    </tr>\n",
       "    <tr>\n",
       "      <th>347</th>\n",
       "      <td>How do weak and strong couplings in the context of moduli and scalar potentials impact the appearance of non-trivial vacua in string theory?</td>\n",
       "      <td>In the context of moduli and scalar potentials, weak couplings at high energies play a significant role in the appearance of non-trivial vacua in string theory. The Dine-Seiberg problem highlights that precise control is challenging and typically guaranteed in regions of moduli space where the scalar potential is a runaway. Non-trivial vacua most naturally appear in regions of strong coupling, indicating the importance of understanding and controlling coupling strengths for stabilizing moduli.</td>\n",
       "    </tr>\n",
       "    <tr>\n",
       "      <th>348</th>\n",
       "      <td>What are some strategic choices made in moduli stabilization scenarios like KKLT and LVS, and how do these choices lead to computable minima and controllable solutions?</td>\n",
       "      <td>In moduli stabilization scenarios such as KKLT (Kachru-Kallosh-Linde-Trivedi) and LVS (Large Volume Scenario), strategic choices are made to cause minima to appear in computable parameter regimes. These scenarios involve discrete fine-tunings that are necessary but achievable, enabling the identification of solutions in the vast landscape of topological choices, quantized fluxes, D-brane configurations, and compactification topologies. By making these strategic choices, researchers aim to stabilize moduli in regions that are computationally controllable and lead to physically meaningful results.</td>\n",
       "    </tr>\n",
       "    <tr>\n",
       "      <th>349</th>\n",
       "      <td>What are some challenges in moduli stabilization within string theory?</td>\n",
       "      <td>Challenges in moduli stabilization within string theory include ensuring that all approximations are under control, reducing theory errors in existing constructions, pursuing new constructions that offer a broader class of stabilized vacua, dealing with a vast number of compactifications compared to the few actual solutions constructed, and obtaining de Sitter solutions to explain the universe's observed acceleration.</td>\n",
       "    </tr>\n",
       "    <tr>\n",
       "      <th>350</th>\n",
       "      <td>How do fine-tunings in flux quanta selection impact the stability of vacua in string theory compactifications?</td>\n",
       "      <td>Fine-tunings in flux quanta selection, such as achieving a small classical flux superpotential in the KKLT scenario, can lead to stable vacua in which the Calabi-Yau volume is large. These choices are discrete and essential for achieving stabilized vacua within string theory compactifications.</td>\n",
       "    </tr>\n",
       "    <tr>\n",
       "      <th>351</th>\n",
       "      <td>What is the significance of establishing a landscape of de Sitter vacua in string theory compactifications?</td>\n",
       "      <td>Establishing a landscape of de Sitter vacua in string theory compactifications is crucial for explaining the universe's observed acceleration. While there is no fundamental obstacle to the existence of de Sitter vacua, significant work is needed to precisely control and explicitly construct these solutions within the framework of string theory.</td>\n",
       "    </tr>\n",
       "  </tbody>\n",
       "</table>\n",
       "<p>352 rows × 2 columns</p>\n",
       "</div>"
      ],
      "text/plain": [
       "                                                                                                                                                                           Question  \\\n",
       "0                                                                                       What are the main challenges in moduli stabilization in compactifications of string theory?   \n",
       "1    How does string theory provide a framework for exploring laws of quantum gravity, and why is it necessary in our quest to understand the Universe's fundamental physical laws?   \n",
       "2                               How does Kaluza-Klein theory address the issue of extra dimensions in the context of string theory, and what role do moduli play in this framework?   \n",
       "3                            What is the central problem concerning Kaluza-Klein theories mentioned in the text and why is it crucial for connecting string theory to observations?   \n",
       "4                                                              How do Ricci-flat six-manifolds play a role in providing vacuum solutions of string theory as discussed in the text?   \n",
       "..                                                                                                                                                                              ...   \n",
       "347                                    How do weak and strong couplings in the context of moduli and scalar potentials impact the appearance of non-trivial vacua in string theory?   \n",
       "348        What are some strategic choices made in moduli stabilization scenarios like KKLT and LVS, and how do these choices lead to computable minima and controllable solutions?   \n",
       "349                                                                                                          What are some challenges in moduli stabilization within string theory?   \n",
       "350                                                                  How do fine-tunings in flux quanta selection impact the stability of vacua in string theory compactifications?   \n",
       "351                                                                     What is the significance of establishing a landscape of de Sitter vacua in string theory compactifications?   \n",
       "\n",
       "                                                                                                                                                                                                                                                                                                                                                                                                                                                                                                                                                                                                                         Answer  \n",
       "0                                                                                                                                                                                       The main challenges in moduli stabilization in compactifications of string theory include ensuring that the size and shape of extra dimensions are dynamically determined by the expectation values of scalar fields (moduli) and that the masses of these moduli are consistent with experimental observations. Additionally, ensuring that the moduli do not mediate long-range forces that contradict our observed world is crucial.  \n",
       "1                                                                                                   String theory provides a theoretical framework for exploring quantum gravity by unifying gravity with quantum mechanics. It is necessary because terrestrial experiments and cosmological observations do not provide high enough energies for a complete understanding of quantum gravity. With string theory, theorists can constructively explore possible laws of quantum gravity and address the discrepancies between the observed four-dimensional world and the underlying ten-dimensional nature of string theory.  \n",
       "2                                 Kaluza-Klein theory helps bridge the gap between the observed four-dimensional world and the ten-dimensional nature of string theory by proposing that the extra dimensions are compactified on a six-dimensional space that is smaller than detectable by current experiments. The moduli, scalar fields in string theory, parameterize the size and shape of these extra dimensions. Moduli stabilization aims to dynamically fix the values of these fields to ensure the extra dimensions are consistent with our observed world and do not lead to long-range forces not seen in nature.  \n",
       "3                                                                                                                                                                                                     The central problem of Kaluza-Klein theories mentioned in the text is providing a dynamical explanation for the size of the extra dimensions and ensuring that the masses of the moduli are consistent with experimental observations. This is crucial for connecting string theory to observations because it directly impacts the predictions made by these theories and their compatibility with experimental results.  \n",
       "4                                                                                                                                                                                                               In the context of the text, the vacuum solutions of string theory are described by Ricci-flat six-manifolds. This means that for the ten-dimensional vacuum Einstein equations to be solved, the Ricci tensors corresponding to the internal compact space and the four-dimensional spacetime must be zero. Therefore, vacuum solutions of string theory are established by utilizing Ricci-flat six-manifolds.  \n",
       "..                                                                                                                                                                                                                                                                                                                                                                                                                                                                                                                                                                                                                          ...  \n",
       "347                                                                                                          In the context of moduli and scalar potentials, weak couplings at high energies play a significant role in the appearance of non-trivial vacua in string theory. The Dine-Seiberg problem highlights that precise control is challenging and typically guaranteed in regions of moduli space where the scalar potential is a runaway. Non-trivial vacua most naturally appear in regions of strong coupling, indicating the importance of understanding and controlling coupling strengths for stabilizing moduli.  \n",
       "348  In moduli stabilization scenarios such as KKLT (Kachru-Kallosh-Linde-Trivedi) and LVS (Large Volume Scenario), strategic choices are made to cause minima to appear in computable parameter regimes. These scenarios involve discrete fine-tunings that are necessary but achievable, enabling the identification of solutions in the vast landscape of topological choices, quantized fluxes, D-brane configurations, and compactification topologies. By making these strategic choices, researchers aim to stabilize moduli in regions that are computationally controllable and lead to physically meaningful results.  \n",
       "349                                                                                                                                                                                       Challenges in moduli stabilization within string theory include ensuring that all approximations are under control, reducing theory errors in existing constructions, pursuing new constructions that offer a broader class of stabilized vacua, dealing with a vast number of compactifications compared to the few actual solutions constructed, and obtaining de Sitter solutions to explain the universe's observed acceleration.  \n",
       "350                                                                                                                                                                                                                                                                                                                      Fine-tunings in flux quanta selection, such as achieving a small classical flux superpotential in the KKLT scenario, can lead to stable vacua in which the Calabi-Yau volume is large. These choices are discrete and essential for achieving stabilized vacua within string theory compactifications.  \n",
       "351                                                                                                                                                                                                                                                                  Establishing a landscape of de Sitter vacua in string theory compactifications is crucial for explaining the universe's observed acceleration. While there is no fundamental obstacle to the existence of de Sitter vacua, significant work is needed to precisely control and explicitly construct these solutions within the framework of string theory.  \n",
       "\n",
       "[352 rows x 2 columns]"
      ]
     },
     "execution_count": 23,
     "metadata": {},
     "output_type": "execute_result"
    }
   ],
   "source": [
    "qa_df = pd.DataFrame({\n",
    "    'Question': question_list,\n",
    "    'Answer': answer_list\n",
    "})\n",
    "\n",
    "qa_df = qa_df.iloc[0:352]\n",
    "qa_df"
   ]
  },
  {
   "cell_type": "code",
   "execution_count": 28,
   "id": "15dc12e2-25b6-4384-9248-acdb5cc3192d",
   "metadata": {},
   "outputs": [],
   "source": [
    "qa_df.to_csv(\"Datasets/2310.20559.csv\")\n",
    "qa_df.to_parquet(\"Datasets/2310.20559.parquet\")"
   ]
  },
  {
   "cell_type": "code",
   "execution_count": null,
   "id": "35af2d70-622f-4d81-9944-4e5b29911e34",
   "metadata": {},
   "outputs": [],
   "source": []
  }
 ],
 "metadata": {
  "kernelspec": {
   "display_name": "Python 3 (ipykernel)",
   "language": "python",
   "name": "python3"
  },
  "language_info": {
   "codemirror_mode": {
    "name": "ipython",
    "version": 3
   },
   "file_extension": ".py",
   "mimetype": "text/x-python",
   "name": "python",
   "nbconvert_exporter": "python",
   "pygments_lexer": "ipython3",
   "version": "3.8.18"
  }
 },
 "nbformat": 4,
 "nbformat_minor": 5
}
